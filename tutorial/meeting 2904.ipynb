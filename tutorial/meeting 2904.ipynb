{
 "cells": [
  {
   "cell_type": "code",
   "execution_count": 68,
   "metadata": {},
   "outputs": [],
   "source": [
    "import sys, os\n",
    "from pathlib import Path\n",
    "sys.path.append(os.path.dirname(os.getcwd()) + '/processor') # add hextof-processor to path\n",
    "from DldFlashDataframeCreatorNew import DldFlashProcessorNew\n",
    "from cscripts.DldFlashProcessorNotCy import assignToMircobunch"
   ]
  },
  {
   "cell_type": "markdown",
   "metadata": {},
   "source": [
    "### Create class instance"
   ]
  },
  {
   "cell_type": "code",
   "execution_count": 21,
   "metadata": {},
   "outputs": [],
   "source": [
    "test = DldFlashProcessorNew()"
   ]
  },
  {
   "cell_type": "markdown",
   "metadata": {},
   "source": [
    "### Check all available channels"
   ]
  },
  {
   "cell_type": "code",
   "execution_count": 22,
   "metadata": {},
   "outputs": [
    {
     "data": {
      "text/plain": [
       "['bam',\n",
       " 'delayStage',\n",
       " 'dldAux',\n",
       " 'dldMicrobunchId',\n",
       " 'dldPosX',\n",
       " 'dldPosY',\n",
       " 'dldTime',\n",
       " 'gmdBda',\n",
       " 'gmdTunnel',\n",
       " 'monochromatorPhotonEnergy',\n",
       " 'opticalDiode',\n",
       " 'streakCam',\n",
       " 'timeStamp']"
      ]
     },
     "execution_count": 22,
     "metadata": {},
     "output_type": "execute_result"
    }
   ],
   "source": [
    "test.returnAvailableChannels()"
   ]
  },
  {
   "cell_type": "code",
   "execution_count": 24,
   "metadata": {},
   "outputs": [],
   "source": [
    "dldAuxChannels = {'sampleBias': 0,\n",
    "                  'tofVoltage': 1,\n",
    "                  'extractorVoltage': 2,\n",
    "                  'extractorCurrent': 3,\n",
    "                  'cryoTemperature': 4,\n",
    "                  'sampleTemperature': 5,\n",
    "                  'dldTimeBinSize': 15,\n",
    "                  }\n"
   ]
  },
  {
   "cell_type": "markdown",
   "metadata": {},
   "source": [
    "### Create a two channel dataframe from a single h5 file"
   ]
  },
  {
   "cell_type": "code",
   "execution_count": 138,
   "metadata": {},
   "outputs": [
    {
     "data": {
      "text/html": [
       "<div>\n",
       "<style scoped>\n",
       "    .dataframe tbody tr th:only-of-type {\n",
       "        vertical-align: middle;\n",
       "    }\n",
       "\n",
       "    .dataframe tbody tr th {\n",
       "        vertical-align: top;\n",
       "    }\n",
       "\n",
       "    .dataframe thead th {\n",
       "        text-align: right;\n",
       "    }\n",
       "</style>\n",
       "<table border=\"1\" class=\"dataframe\">\n",
       "  <thead>\n",
       "    <tr style=\"text-align: right;\">\n",
       "      <th></th>\n",
       "      <th>dldMicrobunchId</th>\n",
       "      <th>dldPosX</th>\n",
       "      <th>dldPosY</th>\n",
       "      <th>dldTime</th>\n",
       "    </tr>\n",
       "    <tr>\n",
       "      <th>Train ID</th>\n",
       "      <th></th>\n",
       "      <th></th>\n",
       "      <th></th>\n",
       "      <th></th>\n",
       "    </tr>\n",
       "  </thead>\n",
       "  <tbody>\n",
       "    <tr>\n",
       "      <th>918393840</th>\n",
       "      <td>[8.0, 8.0, 8.0, 8.0, 10.0, 10.0, 12.0, 12.0, 1...</td>\n",
       "      <td>[704.0, 707.0, 597.0, 597.0, 486.0, 490.0, 719...</td>\n",
       "      <td>[827.0, 829.0, 841.0, 847.0, 643.0, 645.0, 542...</td>\n",
       "      <td>[35026.0, 35031.0, 36662.0, 36655.0, 33349.0, ...</td>\n",
       "    </tr>\n",
       "    <tr>\n",
       "      <th>918393841</th>\n",
       "      <td>[8.0, 8.0, 8.0, 8.0, 9.0, 9.0, 10.0, 10.0, 10....</td>\n",
       "      <td>[686.0, 683.0, 573.0, 569.0, 740.0, 736.0, 717...</td>\n",
       "      <td>[603.0, 605.0, 651.0, 651.0, 827.0, 821.0, 767...</td>\n",
       "      <td>[35472.0, 35467.0, 38629.0, 38646.0, 35146.0, ...</td>\n",
       "    </tr>\n",
       "    <tr>\n",
       "      <th>918393842</th>\n",
       "      <td>[13.0, 13.0, 18.0, 18.0, 20.0, 20.0, 21.0, 21....</td>\n",
       "      <td>[617.0, 621.0, 632.0, 633.0, 571.0, 571.0, 572...</td>\n",
       "      <td>[662.0, 665.0, 722.0, 718.0, 637.0, 635.0, 705...</td>\n",
       "      <td>[35294.0, 35293.0, 33263.0, 33262.0, 29068.0, ...</td>\n",
       "    </tr>\n",
       "    <tr>\n",
       "      <th>918393843</th>\n",
       "      <td>[19.0, 19.0, 20.0, 20.0, 22.0, 22.0, 23.0, 23....</td>\n",
       "      <td>[595.0, 601.0, 532.0, 541.0, 850.0, 853.0, 513...</td>\n",
       "      <td>[865.0, 864.0, 805.0, 793.0, 532.0, 540.0, 517...</td>\n",
       "      <td>[39710.0, 39703.0, 35246.0, 35245.0, 35880.0, ...</td>\n",
       "    </tr>\n",
       "    <tr>\n",
       "      <th>918393844</th>\n",
       "      <td>[8.0, 8.0, 13.0, 13.0, 13.0, 13.0, 15.0, 15.0,...</td>\n",
       "      <td>[782.0, 783.0, 755.0, 753.0, 674.0, 674.0, 686...</td>\n",
       "      <td>[653.0, 664.0, 866.0, 861.0, 762.0, 762.0, 652...</td>\n",
       "      <td>[33843.0, 33842.0, 34834.0, 34839.0, 42639.0, ...</td>\n",
       "    </tr>\n",
       "    <tr>\n",
       "      <th>...</th>\n",
       "      <td>...</td>\n",
       "      <td>...</td>\n",
       "      <td>...</td>\n",
       "      <td>...</td>\n",
       "    </tr>\n",
       "    <tr>\n",
       "      <th>918395808</th>\n",
       "      <td>[11.0, 11.0, 17.0, 17.0, 18.0, 18.0, 18.0, 18....</td>\n",
       "      <td>[742.0, 736.0, 811.0, 818.0, 584.0, 585.0, 695...</td>\n",
       "      <td>[664.0, 666.0, 781.0, 776.0, 726.0, 723.0, 872...</td>\n",
       "      <td>[34848.0, 34843.0, 34778.0, 34771.0, 33047.0, ...</td>\n",
       "    </tr>\n",
       "    <tr>\n",
       "      <th>918395809</th>\n",
       "      <td>[8.0, 8.0, 11.0, 11.0, 14.0, 14.0, 14.0, 14.0,...</td>\n",
       "      <td>[775.0, 770.0, 675.0, 667.0, 601.0, 597.0, 604...</td>\n",
       "      <td>[756.0, 745.0, 513.0, 520.0, 740.0, 737.0, 744...</td>\n",
       "      <td>[42151.0, 42146.0, 34873.0, 34876.0, 34006.0, ...</td>\n",
       "    </tr>\n",
       "    <tr>\n",
       "      <th>918395810</th>\n",
       "      <td>[9.0, 11.0, 11.0, 12.0, 12.0, 12.0, 12.0, 13.0...</td>\n",
       "      <td>[642.0, 731.0, 734.0, 840.0, 845.0, 688.0, 687...</td>\n",
       "      <td>[567.0, 558.0, 557.0, 577.0, 577.0, 725.0, 715...</td>\n",
       "      <td>[35545.0, 34272.0, 34273.0, 35000.0, 35003.0, ...</td>\n",
       "    </tr>\n",
       "    <tr>\n",
       "      <th>918395811</th>\n",
       "      <td>[9.0, 9.0, 13.0, 13.0, 13.0, 13.0, 13.0, 13.0,...</td>\n",
       "      <td>[850.0, 852.0, 697.0, 695.0, 508.0, 231.0, 947...</td>\n",
       "      <td>[557.0, 563.0, 582.0, 584.0, 741.0, 562.0, 938...</td>\n",
       "      <td>[35248.0, 35235.0, 34809.0, 34808.0, 36221.0, ...</td>\n",
       "    </tr>\n",
       "    <tr>\n",
       "      <th>918395812</th>\n",
       "      <td>[8.0, 8.0, 9.0, 9.0, 13.0, 13.0, 13.0, 13.0, 1...</td>\n",
       "      <td>[486.0, 491.0, 444.0, 448.0, 585.0, 581.0, 851...</td>\n",
       "      <td>[773.0, 764.0, 697.0, 696.0, 789.0, 787.0, 576...</td>\n",
       "      <td>[35462.0, 35461.0, 35982.0, 35981.0, 32646.0, ...</td>\n",
       "    </tr>\n",
       "  </tbody>\n",
       "</table>\n",
       "<p>1973 rows × 4 columns</p>\n",
       "</div>"
      ],
      "text/plain": [
       "                                             dldMicrobunchId  \\\n",
       "Train ID                                                       \n",
       "918393840  [8.0, 8.0, 8.0, 8.0, 10.0, 10.0, 12.0, 12.0, 1...   \n",
       "918393841  [8.0, 8.0, 8.0, 8.0, 9.0, 9.0, 10.0, 10.0, 10....   \n",
       "918393842  [13.0, 13.0, 18.0, 18.0, 20.0, 20.0, 21.0, 21....   \n",
       "918393843  [19.0, 19.0, 20.0, 20.0, 22.0, 22.0, 23.0, 23....   \n",
       "918393844  [8.0, 8.0, 13.0, 13.0, 13.0, 13.0, 15.0, 15.0,...   \n",
       "...                                                      ...   \n",
       "918395808  [11.0, 11.0, 17.0, 17.0, 18.0, 18.0, 18.0, 18....   \n",
       "918395809  [8.0, 8.0, 11.0, 11.0, 14.0, 14.0, 14.0, 14.0,...   \n",
       "918395810  [9.0, 11.0, 11.0, 12.0, 12.0, 12.0, 12.0, 13.0...   \n",
       "918395811  [9.0, 9.0, 13.0, 13.0, 13.0, 13.0, 13.0, 13.0,...   \n",
       "918395812  [8.0, 8.0, 9.0, 9.0, 13.0, 13.0, 13.0, 13.0, 1...   \n",
       "\n",
       "                                                     dldPosX  \\\n",
       "Train ID                                                       \n",
       "918393840  [704.0, 707.0, 597.0, 597.0, 486.0, 490.0, 719...   \n",
       "918393841  [686.0, 683.0, 573.0, 569.0, 740.0, 736.0, 717...   \n",
       "918393842  [617.0, 621.0, 632.0, 633.0, 571.0, 571.0, 572...   \n",
       "918393843  [595.0, 601.0, 532.0, 541.0, 850.0, 853.0, 513...   \n",
       "918393844  [782.0, 783.0, 755.0, 753.0, 674.0, 674.0, 686...   \n",
       "...                                                      ...   \n",
       "918395808  [742.0, 736.0, 811.0, 818.0, 584.0, 585.0, 695...   \n",
       "918395809  [775.0, 770.0, 675.0, 667.0, 601.0, 597.0, 604...   \n",
       "918395810  [642.0, 731.0, 734.0, 840.0, 845.0, 688.0, 687...   \n",
       "918395811  [850.0, 852.0, 697.0, 695.0, 508.0, 231.0, 947...   \n",
       "918395812  [486.0, 491.0, 444.0, 448.0, 585.0, 581.0, 851...   \n",
       "\n",
       "                                                     dldPosY  \\\n",
       "Train ID                                                       \n",
       "918393840  [827.0, 829.0, 841.0, 847.0, 643.0, 645.0, 542...   \n",
       "918393841  [603.0, 605.0, 651.0, 651.0, 827.0, 821.0, 767...   \n",
       "918393842  [662.0, 665.0, 722.0, 718.0, 637.0, 635.0, 705...   \n",
       "918393843  [865.0, 864.0, 805.0, 793.0, 532.0, 540.0, 517...   \n",
       "918393844  [653.0, 664.0, 866.0, 861.0, 762.0, 762.0, 652...   \n",
       "...                                                      ...   \n",
       "918395808  [664.0, 666.0, 781.0, 776.0, 726.0, 723.0, 872...   \n",
       "918395809  [756.0, 745.0, 513.0, 520.0, 740.0, 737.0, 744...   \n",
       "918395810  [567.0, 558.0, 557.0, 577.0, 577.0, 725.0, 715...   \n",
       "918395811  [557.0, 563.0, 582.0, 584.0, 741.0, 562.0, 938...   \n",
       "918395812  [773.0, 764.0, 697.0, 696.0, 789.0, 787.0, 576...   \n",
       "\n",
       "                                                     dldTime  \n",
       "Train ID                                                      \n",
       "918393840  [35026.0, 35031.0, 36662.0, 36655.0, 33349.0, ...  \n",
       "918393841  [35472.0, 35467.0, 38629.0, 38646.0, 35146.0, ...  \n",
       "918393842  [35294.0, 35293.0, 33263.0, 33262.0, 29068.0, ...  \n",
       "918393843  [39710.0, 39703.0, 35246.0, 35245.0, 35880.0, ...  \n",
       "918393844  [33843.0, 33842.0, 34834.0, 34839.0, 42639.0, ...  \n",
       "...                                                      ...  \n",
       "918395808  [34848.0, 34843.0, 34778.0, 34771.0, 33047.0, ...  \n",
       "918395809  [42151.0, 42146.0, 34873.0, 34876.0, 34006.0, ...  \n",
       "918395810  [35545.0, 34272.0, 34273.0, 35000.0, 35003.0, ...  \n",
       "918395811  [35248.0, 35235.0, 34809.0, 34808.0, 36221.0, ...  \n",
       "918395812  [35462.0, 35461.0, 35982.0, 35981.0, 32646.0, ...  \n",
       "\n",
       "[1973 rows x 4 columns]"
      ]
     },
     "execution_count": 138,
     "metadata": {},
     "output_type": "execute_result"
    }
   ],
   "source": [
    "# Define the channels\n",
    "test.Channels = ['dldTime', 'dldPosX','dldPosY', 'dldMicrobunchId']#,'dldAux']#,'gmdBda']\n",
    "# H5 file path\n",
    "path = Path(\"/asap3/flash/gpfs/pg2/2020/data/11008860/raw/hdf/express/FLASH1_USER2_stream_2_run35971_file25_20201128T230926.1.h5\")\n",
    "# Use class method to create dataframe\n",
    "df = test.createDataframePerFile(path)\n",
    "df"
   ]
  },
  {
   "cell_type": "code",
   "execution_count": 139,
   "metadata": {},
   "outputs": [
    {
     "ename": "AttributeError",
     "evalue": "'DataFrame' object has no attribute 'gmdBda'",
     "output_type": "error",
     "traceback": [
      "\u001b[0;31m---------------------------------------------------------------------------\u001b[0m",
      "\u001b[0;31mAttributeError\u001b[0m                            Traceback (most recent call last)",
      "\u001b[0;32m<ipython-input-139-9637ad9fb6f4>\u001b[0m in \u001b[0;36m<module>\u001b[0;34m\u001b[0m\n\u001b[0;32m----> 1\u001b[0;31m \u001b[0mdf\u001b[0m\u001b[0;34m.\u001b[0m\u001b[0mgmdBda\u001b[0m\u001b[0;34m[\u001b[0m\u001b[0;36m918393840\u001b[0m\u001b[0;34m]\u001b[0m\u001b[0;34m.\u001b[0m\u001b[0mshape\u001b[0m\u001b[0;34m\u001b[0m\u001b[0;34m\u001b[0m\u001b[0m\n\u001b[0m",
      "\u001b[0;32m~/.conda/envs/flash-hdf/lib/python3.8/site-packages/pandas/core/generic.py\u001b[0m in \u001b[0;36m__getattr__\u001b[0;34m(self, name)\u001b[0m\n\u001b[1;32m   5463\u001b[0m             \u001b[0;32mif\u001b[0m \u001b[0mself\u001b[0m\u001b[0;34m.\u001b[0m\u001b[0m_info_axis\u001b[0m\u001b[0;34m.\u001b[0m\u001b[0m_can_hold_identifiers_and_holds_name\u001b[0m\u001b[0;34m(\u001b[0m\u001b[0mname\u001b[0m\u001b[0;34m)\u001b[0m\u001b[0;34m:\u001b[0m\u001b[0;34m\u001b[0m\u001b[0;34m\u001b[0m\u001b[0m\n\u001b[1;32m   5464\u001b[0m                 \u001b[0;32mreturn\u001b[0m \u001b[0mself\u001b[0m\u001b[0;34m[\u001b[0m\u001b[0mname\u001b[0m\u001b[0;34m]\u001b[0m\u001b[0;34m\u001b[0m\u001b[0;34m\u001b[0m\u001b[0m\n\u001b[0;32m-> 5465\u001b[0;31m             \u001b[0;32mreturn\u001b[0m \u001b[0mobject\u001b[0m\u001b[0;34m.\u001b[0m\u001b[0m__getattribute__\u001b[0m\u001b[0;34m(\u001b[0m\u001b[0mself\u001b[0m\u001b[0;34m,\u001b[0m \u001b[0mname\u001b[0m\u001b[0;34m)\u001b[0m\u001b[0;34m\u001b[0m\u001b[0;34m\u001b[0m\u001b[0m\n\u001b[0m\u001b[1;32m   5466\u001b[0m \u001b[0;34m\u001b[0m\u001b[0m\n\u001b[1;32m   5467\u001b[0m     \u001b[0;32mdef\u001b[0m \u001b[0m__setattr__\u001b[0m\u001b[0;34m(\u001b[0m\u001b[0mself\u001b[0m\u001b[0;34m,\u001b[0m \u001b[0mname\u001b[0m\u001b[0;34m:\u001b[0m \u001b[0mstr\u001b[0m\u001b[0;34m,\u001b[0m \u001b[0mvalue\u001b[0m\u001b[0;34m)\u001b[0m \u001b[0;34m->\u001b[0m \u001b[0;32mNone\u001b[0m\u001b[0;34m:\u001b[0m\u001b[0;34m\u001b[0m\u001b[0;34m\u001b[0m\u001b[0m\n",
      "\u001b[0;31mAttributeError\u001b[0m: 'DataFrame' object has no attribute 'gmdBda'"
     ]
    }
   ],
   "source": [
    "df.gmdBda[918393840].shape"
   ]
  },
  {
   "cell_type": "code",
   "execution_count": 140,
   "metadata": {},
   "outputs": [
    {
     "data": {
      "text/plain": [
       "(1037,)"
      ]
     },
     "execution_count": 140,
     "metadata": {},
     "output_type": "execute_result"
    }
   ],
   "source": [
    "df.dldPosX[918393840].shape"
   ]
  },
  {
   "cell_type": "code",
   "execution_count": 141,
   "metadata": {},
   "outputs": [
    {
     "data": {
      "text/plain": [
       "(1037,)"
      ]
     },
     "execution_count": 141,
     "metadata": {},
     "output_type": "execute_result"
    }
   ],
   "source": [
    "df.dldPosY[918393840].shape"
   ]
  },
  {
   "cell_type": "markdown",
   "metadata": {},
   "source": [
    "### Show all filepaths from a single run"
   ]
  },
  {
   "cell_type": "code",
   "execution_count": 142,
   "metadata": {
    "scrolled": true
   },
   "outputs": [
    {
     "data": {
      "text/plain": [
       "[PosixPath('/asap3/flash/gpfs/pg2/2020/data/11008860/raw/hdf/express/FLASH1_USER2_stream_2_run35865_file1_20201125T001801.1.h5'),\n",
       " PosixPath('/asap3/flash/gpfs/pg2/2020/data/11008860/raw/hdf/express/FLASH1_USER2_stream_2_run35865_file2_20201125T002133.1.h5'),\n",
       " PosixPath('/asap3/flash/gpfs/pg2/2020/data/11008860/raw/hdf/express/FLASH1_USER2_stream_2_run35865_file3_20201125T002454.1.h5'),\n",
       " PosixPath('/asap3/flash/gpfs/pg2/2020/data/11008860/raw/hdf/express/FLASH1_USER2_stream_2_run35865_file4_20201125T002815.1.h5'),\n",
       " PosixPath('/asap3/flash/gpfs/pg2/2020/data/11008860/raw/hdf/express/FLASH1_USER2_stream_2_run35865_file5_20201125T003137.1.h5'),\n",
       " PosixPath('/asap3/flash/gpfs/pg2/2020/data/11008860/raw/hdf/express/FLASH1_USER2_stream_2_run35865_file6_20201125T003500.1.h5'),\n",
       " PosixPath('/asap3/flash/gpfs/pg2/2020/data/11008860/raw/hdf/express/FLASH1_USER2_stream_2_run35865_file7_20201125T003823.1.h5'),\n",
       " PosixPath('/asap3/flash/gpfs/pg2/2020/data/11008860/raw/hdf/express/FLASH1_USER2_stream_2_run35865_file8_20201125T004145.1.h5'),\n",
       " PosixPath('/asap3/flash/gpfs/pg2/2020/data/11008860/raw/hdf/express/FLASH1_USER2_stream_2_run35865_file9_20201125T004507.1.h5'),\n",
       " PosixPath('/asap3/flash/gpfs/pg2/2020/data/11008860/raw/hdf/express/FLASH1_USER2_stream_2_run35865_file10_20201125T004830.1.h5'),\n",
       " PosixPath('/asap3/flash/gpfs/pg2/2020/data/11008860/raw/hdf/express/FLASH1_USER2_stream_2_run35865_file11_20201125T005152.1.h5'),\n",
       " PosixPath('/asap3/flash/gpfs/pg2/2020/data/11008860/raw/hdf/express/FLASH1_USER2_stream_2_run35865_file12_20201125T005514.1.h5'),\n",
       " PosixPath('/asap3/flash/gpfs/pg2/2020/data/11008860/raw/hdf/express/FLASH1_USER2_stream_2_run35865_file13_20201125T005837.1.h5'),\n",
       " PosixPath('/asap3/flash/gpfs/pg2/2020/data/11008860/raw/hdf/express/FLASH1_USER2_stream_2_run35865_file14_20201125T010159.1.h5'),\n",
       " PosixPath('/asap3/flash/gpfs/pg2/2020/data/11008860/raw/hdf/express/FLASH1_USER2_stream_2_run35865_file15_20201125T010523.1.h5'),\n",
       " PosixPath('/asap3/flash/gpfs/pg2/2020/data/11008860/raw/hdf/express/FLASH1_USER2_stream_2_run35865_file16_20201125T010846.1.h5'),\n",
       " PosixPath('/asap3/flash/gpfs/pg2/2020/data/11008860/raw/hdf/express/FLASH1_USER2_stream_2_run35865_file17_20201125T011208.1.h5'),\n",
       " PosixPath('/asap3/flash/gpfs/pg2/2020/data/11008860/raw/hdf/express/FLASH1_USER2_stream_2_run35865_file18_20201125T011530.1.h5'),\n",
       " PosixPath('/asap3/flash/gpfs/pg2/2020/data/11008860/raw/hdf/express/FLASH1_USER2_stream_2_run35865_file19_20201125T011852.1.h5'),\n",
       " PosixPath('/asap3/flash/gpfs/pg2/2020/data/11008860/raw/hdf/express/FLASH1_USER2_stream_2_run35865_file20_20201125T012214.1.h5'),\n",
       " PosixPath('/asap3/flash/gpfs/pg2/2020/data/11008860/raw/hdf/express/FLASH1_USER2_stream_2_run35865_file21_20201125T012537.1.h5'),\n",
       " PosixPath('/asap3/flash/gpfs/pg2/2020/data/11008860/raw/hdf/express/FLASH1_USER2_stream_2_run35865_file22_20201125T012859.1.h5'),\n",
       " PosixPath('/asap3/flash/gpfs/pg2/2020/data/11008860/raw/hdf/express/FLASH1_USER2_stream_2_run35865_file23_20201125T013222.1.h5'),\n",
       " PosixPath('/asap3/flash/gpfs/pg2/2020/data/11008860/raw/hdf/express/FLASH1_USER2_stream_2_run35865_file24_20201125T013545.1.h5'),\n",
       " PosixPath('/asap3/flash/gpfs/pg2/2020/data/11008860/raw/hdf/express/FLASH1_USER2_stream_2_run35865_file25_20201125T013908.1.h5'),\n",
       " PosixPath('/asap3/flash/gpfs/pg2/2020/data/11008860/raw/hdf/express/FLASH1_USER2_stream_2_run35865_file26_20201125T014230.1.h5'),\n",
       " PosixPath('/asap3/flash/gpfs/pg2/2020/data/11008860/raw/hdf/express/FLASH1_USER2_stream_2_run35865_file27_20201125T014553.1.h5'),\n",
       " PosixPath('/asap3/flash/gpfs/pg2/2020/data/11008860/raw/hdf/express/FLASH1_USER2_stream_2_run35865_file28_20201125T014915.1.h5'),\n",
       " PosixPath('/asap3/flash/gpfs/pg2/2020/data/11008860/raw/hdf/express/FLASH1_USER2_stream_2_run35865_file29_20201125T015238.1.h5'),\n",
       " PosixPath('/asap3/flash/gpfs/pg2/2020/data/11008860/raw/hdf/express/FLASH1_USER2_stream_2_run35865_file30_20201125T015600.1.h5'),\n",
       " PosixPath('/asap3/flash/gpfs/pg2/2020/data/11008860/raw/hdf/express/FLASH1_USER2_stream_2_run35865_file31_20201125T015923.1.h5'),\n",
       " PosixPath('/asap3/flash/gpfs/pg2/2020/data/11008860/raw/hdf/express/FLASH1_USER2_stream_2_run35865_file32_20201125T020245.1.h5'),\n",
       " PosixPath('/asap3/flash/gpfs/pg2/2020/data/11008860/raw/hdf/express/FLASH1_USER2_stream_2_run35865_file33_20201125T020608.1.h5'),\n",
       " PosixPath('/asap3/flash/gpfs/pg2/2020/data/11008860/raw/hdf/express/FLASH1_USER2_stream_2_run35865_file34_20201125T020931.1.h5'),\n",
       " PosixPath('/asap3/flash/gpfs/pg2/2020/data/11008860/raw/hdf/express/FLASH1_USER2_stream_2_run35865_file35_20201125T021253.1.h5'),\n",
       " PosixPath('/asap3/flash/gpfs/pg2/2020/data/11008860/raw/hdf/express/FLASH1_USER2_stream_2_run35865_file36_20201125T021616.1.h5'),\n",
       " PosixPath('/asap3/flash/gpfs/pg2/2020/data/11008860/raw/hdf/express/FLASH1_USER2_stream_2_run35865_file37_20201125T021939.1.h5'),\n",
       " PosixPath('/asap3/flash/gpfs/pg2/2020/data/11008860/raw/hdf/express/FLASH1_USER2_stream_2_run35865_file38_20201125T022301.1.h5'),\n",
       " PosixPath('/asap3/flash/gpfs/pg2/2020/data/11008860/raw/hdf/express/FLASH1_USER2_stream_2_run35865_file39_20201125T022624.1.h5'),\n",
       " PosixPath('/asap3/flash/gpfs/pg2/2020/data/11008860/raw/hdf/express/FLASH1_USER2_stream_2_run35865_file40_20201125T022946.1.h5'),\n",
       " PosixPath('/asap3/flash/gpfs/pg2/2020/data/11008860/raw/hdf/express/FLASH1_USER2_stream_2_run35865_file41_20201125T023309.1.h5'),\n",
       " PosixPath('/asap3/flash/gpfs/pg2/2020/data/11008860/raw/hdf/express/FLASH1_USER2_stream_2_run35865_file42_20201125T023631.1.h5'),\n",
       " PosixPath('/asap3/flash/gpfs/pg2/2020/data/11008860/raw/hdf/express/FLASH1_USER2_stream_2_run35865_file43_20201125T023954.1.h5'),\n",
       " PosixPath('/asap3/flash/gpfs/pg2/2020/data/11008860/raw/hdf/express/FLASH1_USER2_stream_2_run35865_file44_20201125T024316.1.h5'),\n",
       " PosixPath('/asap3/flash/gpfs/pg2/2020/data/11008860/raw/hdf/express/FLASH1_USER2_stream_2_run35865_file45_20201125T024639.1.h5'),\n",
       " PosixPath('/asap3/flash/gpfs/pg2/2020/data/11008860/raw/hdf/express/FLASH1_USER2_stream_2_run35865_file46_20201125T025002.1.h5'),\n",
       " PosixPath('/asap3/flash/gpfs/pg2/2020/data/11008860/raw/hdf/express/FLASH1_USER2_stream_2_run35865_file47_20201125T025325.1.h5'),\n",
       " PosixPath('/asap3/flash/gpfs/pg2/2020/data/11008860/raw/hdf/express/FLASH1_USER2_stream_2_run35865_file48_20201125T025647.1.h5'),\n",
       " PosixPath('/asap3/flash/gpfs/pg2/2020/data/11008860/raw/hdf/express/FLASH1_USER2_stream_2_run35865_file49_20201125T030010.1.h5'),\n",
       " PosixPath('/asap3/flash/gpfs/pg2/2020/data/11008860/raw/hdf/express/FLASH1_USER2_stream_2_run35865_file50_20201125T030333.1.h5'),\n",
       " PosixPath('/asap3/flash/gpfs/pg2/2020/data/11008860/raw/hdf/express/FLASH1_USER2_stream_2_run35865_file51_20201125T030656.1.h5'),\n",
       " PosixPath('/asap3/flash/gpfs/pg2/2020/data/11008860/raw/hdf/express/FLASH1_USER2_stream_2_run35865_file52_20201125T031019.1.h5'),\n",
       " PosixPath('/asap3/flash/gpfs/pg2/2020/data/11008860/raw/hdf/express/FLASH1_USER2_stream_2_run35865_file53_20201125T031341.1.h5'),\n",
       " PosixPath('/asap3/flash/gpfs/pg2/2020/data/11008860/raw/hdf/express/FLASH1_USER2_stream_2_run35865_file54_20201125T031704.1.h5'),\n",
       " PosixPath('/asap3/flash/gpfs/pg2/2020/data/11008860/raw/hdf/express/FLASH1_USER2_stream_2_run35865_file55_20201125T032027.1.h5'),\n",
       " PosixPath('/asap3/flash/gpfs/pg2/2020/data/11008860/raw/hdf/express/FLASH1_USER2_stream_2_run35865_file56_20201125T032350.1.h5'),\n",
       " PosixPath('/asap3/flash/gpfs/pg2/2020/data/11008860/raw/hdf/express/FLASH1_USER2_stream_2_run35865_file57_20201125T032712.1.h5'),\n",
       " PosixPath('/asap3/flash/gpfs/pg2/2020/data/11008860/raw/hdf/express/FLASH1_USER2_stream_2_run35865_file58_20201125T033035.1.h5'),\n",
       " PosixPath('/asap3/flash/gpfs/pg2/2020/data/11008860/raw/hdf/express/FLASH1_USER2_stream_2_run35865_file59_20201125T033358.1.h5'),\n",
       " PosixPath('/asap3/flash/gpfs/pg2/2020/data/11008860/raw/hdf/express/FLASH1_USER2_stream_2_run35865_file60_20201125T033721.1.h5'),\n",
       " PosixPath('/asap3/flash/gpfs/pg2/2020/data/11008860/raw/hdf/express/FLASH1_USER2_stream_2_run35865_file61_20201125T034044.1.h5'),\n",
       " PosixPath('/asap3/flash/gpfs/pg2/2020/data/11008860/raw/hdf/express/FLASH1_USER2_stream_2_run35865_file62_20201125T034407.1.h5'),\n",
       " PosixPath('/asap3/flash/gpfs/pg2/2020/data/11008860/raw/hdf/express/FLASH1_USER2_stream_2_run35865_file63_20201125T034729.1.h5'),\n",
       " PosixPath('/asap3/flash/gpfs/pg2/2020/data/11008860/raw/hdf/express/FLASH1_USER2_stream_2_run35865_file64_20201125T035052.1.h5'),\n",
       " PosixPath('/asap3/flash/gpfs/pg2/2020/data/11008860/raw/hdf/express/FLASH1_USER2_stream_2_run35865_file65_20201125T035415.1.h5'),\n",
       " PosixPath('/asap3/flash/gpfs/pg2/2020/data/11008860/raw/hdf/express/FLASH1_USER2_stream_2_run35865_file66_20201125T035737.1.h5'),\n",
       " PosixPath('/asap3/flash/gpfs/pg2/2020/data/11008860/raw/hdf/express/FLASH1_USER2_stream_2_run35865_file67_20201125T040100.1.h5'),\n",
       " PosixPath('/asap3/flash/gpfs/pg2/2020/data/11008860/raw/hdf/express/FLASH1_USER2_stream_2_run35865_file68_20201125T040423.1.h5'),\n",
       " PosixPath('/asap3/flash/gpfs/pg2/2020/data/11008860/raw/hdf/express/FLASH1_USER2_stream_2_run35865_file69_20201125T040746.1.h5'),\n",
       " PosixPath('/asap3/flash/gpfs/pg2/2020/data/11008860/raw/hdf/express/FLASH1_USER2_stream_2_run35865_file70_20201125T041109.1.h5'),\n",
       " PosixPath('/asap3/flash/gpfs/pg2/2020/data/11008860/raw/hdf/express/FLASH1_USER2_stream_2_run35865_file71_20201125T041432.1.h5'),\n",
       " PosixPath('/asap3/flash/gpfs/pg2/2020/data/11008860/raw/hdf/express/FLASH1_USER2_stream_2_run35865_file72_20201125T041754.1.h5'),\n",
       " PosixPath('/asap3/flash/gpfs/pg2/2020/data/11008860/raw/hdf/express/FLASH1_USER2_stream_2_run35865_file73_20201125T042117.1.h5'),\n",
       " PosixPath('/asap3/flash/gpfs/pg2/2020/data/11008860/raw/hdf/express/FLASH1_USER2_stream_2_run35865_file74_20201125T042440.1.h5'),\n",
       " PosixPath('/asap3/flash/gpfs/pg2/2020/data/11008860/raw/hdf/express/FLASH1_USER2_stream_2_run35865_file75_20201125T042803.1.h5'),\n",
       " PosixPath('/asap3/flash/gpfs/pg2/2020/data/11008860/raw/hdf/express/FLASH1_USER2_stream_2_run35865_file76_20201125T043126.1.h5'),\n",
       " PosixPath('/asap3/flash/gpfs/pg2/2020/data/11008860/raw/hdf/express/FLASH1_USER2_stream_2_run35865_file77_20201125T043449.1.h5'),\n",
       " PosixPath('/asap3/flash/gpfs/pg2/2020/data/11008860/raw/hdf/express/FLASH1_USER2_stream_2_run35865_file78_20201125T043812.1.h5'),\n",
       " PosixPath('/asap3/flash/gpfs/pg2/2020/data/11008860/raw/hdf/express/FLASH1_USER2_stream_2_run35865_file79_20201125T044135.1.h5'),\n",
       " PosixPath('/asap3/flash/gpfs/pg2/2020/data/11008860/raw/hdf/express/FLASH1_USER2_stream_2_run35865_file80_20201125T044458.1.h5'),\n",
       " PosixPath('/asap3/flash/gpfs/pg2/2020/data/11008860/raw/hdf/express/FLASH1_USER2_stream_2_run35865_file81_20201125T044820.1.h5'),\n",
       " PosixPath('/asap3/flash/gpfs/pg2/2020/data/11008860/raw/hdf/express/FLASH1_USER2_stream_2_run35865_file82_20201125T045143.1.h5'),\n",
       " PosixPath('/asap3/flash/gpfs/pg2/2020/data/11008860/raw/hdf/express/FLASH1_USER2_stream_2_run35865_file83_20201125T045506.1.h5'),\n",
       " PosixPath('/asap3/flash/gpfs/pg2/2020/data/11008860/raw/hdf/express/FLASH1_USER2_stream_2_run35865_file84_20201125T045829.1.h5'),\n",
       " PosixPath('/asap3/flash/gpfs/pg2/2020/data/11008860/raw/hdf/express/FLASH1_USER2_stream_2_run35865_file85_20201125T050151.1.h5'),\n",
       " PosixPath('/asap3/flash/gpfs/pg2/2020/data/11008860/raw/hdf/express/FLASH1_USER2_stream_2_run35865_file86_20201125T050513.1.h5'),\n",
       " PosixPath('/asap3/flash/gpfs/pg2/2020/data/11008860/raw/hdf/express/FLASH1_USER2_stream_2_run35865_file87_20201125T050836.1.h5'),\n",
       " PosixPath('/asap3/flash/gpfs/pg2/2020/data/11008860/raw/hdf/express/FLASH1_USER2_stream_2_run35865_file88_20201125T051158.1.h5'),\n",
       " PosixPath('/asap3/flash/gpfs/pg2/2020/data/11008860/raw/hdf/express/FLASH1_USER2_stream_2_run35865_file89_20201125T051521.1.h5'),\n",
       " PosixPath('/asap3/flash/gpfs/pg2/2020/data/11008860/raw/hdf/express/FLASH1_USER2_stream_2_run35865_file90_20201125T051844.1.h5'),\n",
       " PosixPath('/asap3/flash/gpfs/pg2/2020/data/11008860/raw/hdf/express/FLASH1_USER2_stream_2_run35865_file91_20201125T052206.1.h5'),\n",
       " PosixPath('/asap3/flash/gpfs/pg2/2020/data/11008860/raw/hdf/express/FLASH1_USER2_stream_2_run35865_file92_20201125T052529.1.h5'),\n",
       " PosixPath('/asap3/flash/gpfs/pg2/2020/data/11008860/raw/hdf/express/FLASH1_USER2_stream_2_run35865_file93_20201125T052851.1.h5'),\n",
       " PosixPath('/asap3/flash/gpfs/pg2/2020/data/11008860/raw/hdf/express/FLASH1_USER2_stream_2_run35865_file94_20201125T053214.1.h5'),\n",
       " PosixPath('/asap3/flash/gpfs/pg2/2020/data/11008860/raw/hdf/express/FLASH1_USER2_stream_2_run35865_file95_20201125T053537.1.h5'),\n",
       " PosixPath('/asap3/flash/gpfs/pg2/2020/data/11008860/raw/hdf/express/FLASH1_USER2_stream_2_run35865_file96_20201125T053900.1.h5'),\n",
       " PosixPath('/asap3/flash/gpfs/pg2/2020/data/11008860/raw/hdf/express/FLASH1_USER2_stream_2_run35865_file97_20201125T054223.1.h5'),\n",
       " PosixPath('/asap3/flash/gpfs/pg2/2020/data/11008860/raw/hdf/express/FLASH1_USER2_stream_2_run35865_file98_20201125T054546.1.h5'),\n",
       " PosixPath('/asap3/flash/gpfs/pg2/2020/data/11008860/raw/hdf/express/FLASH1_USER2_stream_2_run35865_file99_20201125T054909.1.h5'),\n",
       " PosixPath('/asap3/flash/gpfs/pg2/2020/data/11008860/raw/hdf/express/FLASH1_USER2_stream_2_run35865_file100_20201125T055232.1.h5'),\n",
       " PosixPath('/asap3/flash/gpfs/pg2/2020/data/11008860/raw/hdf/express/FLASH1_USER2_stream_2_run35865_file101_20201125T055554.1.h5'),\n",
       " PosixPath('/asap3/flash/gpfs/pg2/2020/data/11008860/raw/hdf/express/FLASH1_USER2_stream_2_run35865_file102_20201125T055917.1.h5'),\n",
       " PosixPath('/asap3/flash/gpfs/pg2/2020/data/11008860/raw/hdf/express/FLASH1_USER2_stream_2_run35865_file103_20201125T060239.1.h5'),\n",
       " PosixPath('/asap3/flash/gpfs/pg2/2020/data/11008860/raw/hdf/express/FLASH1_USER2_stream_2_run35865_file104_20201125T060601.1.h5'),\n",
       " PosixPath('/asap3/flash/gpfs/pg2/2020/data/11008860/raw/hdf/express/FLASH1_USER2_stream_2_run35865_file105_20201125T060924.1.h5'),\n",
       " PosixPath('/asap3/flash/gpfs/pg2/2020/data/11008860/raw/hdf/express/FLASH1_USER2_stream_2_run35865_file106_20201125T061248.1.h5'),\n",
       " PosixPath('/asap3/flash/gpfs/pg2/2020/data/11008860/raw/hdf/express/FLASH1_USER2_stream_2_run35865_file107_20201125T061610.1.h5'),\n",
       " PosixPath('/asap3/flash/gpfs/pg2/2020/data/11008860/raw/hdf/express/FLASH1_USER2_stream_2_run35865_file108_20201125T061933.1.h5'),\n",
       " PosixPath('/asap3/flash/gpfs/pg2/2020/data/11008860/raw/hdf/express/FLASH1_USER2_stream_2_run35865_file109_20201125T062255.1.h5'),\n",
       " PosixPath('/asap3/flash/gpfs/pg2/2020/data/11008860/raw/hdf/express/FLASH1_USER2_stream_2_run35865_file110_20201125T062618.1.h5'),\n",
       " PosixPath('/asap3/flash/gpfs/pg2/2020/data/11008860/raw/hdf/express/FLASH1_USER2_stream_2_run35865_file111_20201125T062941.1.h5'),\n",
       " PosixPath('/asap3/flash/gpfs/pg2/2020/data/11008860/raw/hdf/express/FLASH1_USER2_stream_2_run35865_file112_20201125T063304.1.h5'),\n",
       " PosixPath('/asap3/flash/gpfs/pg2/2020/data/11008860/raw/hdf/express/FLASH1_USER2_stream_2_run35865_file113_20201125T063626.1.h5'),\n",
       " PosixPath('/asap3/flash/gpfs/pg2/2020/data/11008860/raw/hdf/express/FLASH1_USER2_stream_2_run35865_file114_20201125T063949.1.h5'),\n",
       " PosixPath('/asap3/flash/gpfs/pg2/2020/data/11008860/raw/hdf/express/FLASH1_USER2_stream_2_run35865_file115_20201125T064312.1.h5'),\n",
       " PosixPath('/asap3/flash/gpfs/pg2/2020/data/11008860/raw/hdf/express/FLASH1_USER2_stream_2_run35865_file116_20201125T064636.1.h5'),\n",
       " PosixPath('/asap3/flash/gpfs/pg2/2020/data/11008860/raw/hdf/express/FLASH1_USER2_stream_2_run35865_file117_20201125T065000.1.h5'),\n",
       " PosixPath('/asap3/flash/gpfs/pg2/2020/data/11008860/raw/hdf/express/FLASH1_USER2_stream_2_run35865_file118_20201125T065325.1.h5'),\n",
       " PosixPath('/asap3/flash/gpfs/pg2/2020/data/11008860/raw/hdf/express/FLASH1_USER2_stream_2_run35865_file119_20201125T065649.1.h5'),\n",
       " PosixPath('/asap3/flash/gpfs/pg2/2020/data/11008860/raw/hdf/express/FLASH1_USER2_stream_2_run35865_file120_20201125T070013.1.h5'),\n",
       " PosixPath('/asap3/flash/gpfs/pg2/2020/data/11008860/raw/hdf/express/FLASH1_USER2_stream_2_run35865_file121_20201125T070337.1.h5')]"
      ]
     },
     "execution_count": 142,
     "metadata": {},
     "output_type": "execute_result"
    }
   ],
   "source": [
    "# Give run number and the daq \n",
    "test.runFilesNames(runNumber = 35865, daq = \"fl1user2\")"
   ]
  },
  {
   "cell_type": "markdown",
   "metadata": {},
   "source": [
    "### Create a two channel dataframe from a single run"
   ]
  },
  {
   "cell_type": "code",
   "execution_count": 143,
   "metadata": {
    "collapsed": true
   },
   "outputs": [
    {
     "ename": "KeyboardInterrupt",
     "evalue": "",
     "output_type": "error",
     "traceback": [
      "\u001b[0;31m---------------------------------------------------------------------------\u001b[0m",
      "\u001b[0;31mKeyboardInterrupt\u001b[0m                         Traceback (most recent call last)",
      "\u001b[0;32m<ipython-input-143-83f285f4fd4a>\u001b[0m in \u001b[0;36m<module>\u001b[0;34m\u001b[0m\n\u001b[1;32m      1\u001b[0m \u001b[0;31m# Give run number and the daq\u001b[0m\u001b[0;34m\u001b[0m\u001b[0;34m\u001b[0m\u001b[0;34m\u001b[0m\u001b[0m\n\u001b[0;32m----> 2\u001b[0;31m \u001b[0mdf\u001b[0m \u001b[0;34m=\u001b[0m \u001b[0mtest\u001b[0m\u001b[0;34m.\u001b[0m\u001b[0mcreateDataframePerRun\u001b[0m\u001b[0;34m(\u001b[0m\u001b[0mrunNumber\u001b[0m \u001b[0;34m=\u001b[0m \u001b[0;36m35865\u001b[0m\u001b[0;34m,\u001b[0m \u001b[0mdaq\u001b[0m \u001b[0;34m=\u001b[0m \u001b[0;34m\"fl1user2\"\u001b[0m\u001b[0;34m)\u001b[0m\u001b[0;34m\u001b[0m\u001b[0;34m\u001b[0m\u001b[0m\n\u001b[0m",
      "\u001b[0;32m~/hextof-newdata/hextof-processor/processor/DldFlashDataframeCreatorNew.py\u001b[0m in \u001b[0;36mcreateDataframePerRun\u001b[0;34m(self, runNumber, daq)\u001b[0m\n\u001b[1;32m     72\u001b[0m \u001b[0;34m\u001b[0m\u001b[0m\n\u001b[1;32m     73\u001b[0m         \u001b[0mfiles\u001b[0m \u001b[0;34m=\u001b[0m \u001b[0mself\u001b[0m\u001b[0;34m.\u001b[0m\u001b[0mrunFilesNames\u001b[0m\u001b[0;34m(\u001b[0m\u001b[0mrunNumber\u001b[0m\u001b[0;34m,\u001b[0m \u001b[0mdaq\u001b[0m\u001b[0;34m)\u001b[0m\u001b[0;34m\u001b[0m\u001b[0;34m\u001b[0m\u001b[0m\n\u001b[0;32m---> 74\u001b[0;31m         \u001b[0mdata_frames\u001b[0m \u001b[0;34m=\u001b[0m \u001b[0;34m[\u001b[0m\u001b[0mself\u001b[0m\u001b[0;34m.\u001b[0m\u001b[0mcreateDataframePerFile\u001b[0m\u001b[0;34m(\u001b[0m\u001b[0meach_file\u001b[0m\u001b[0;34m)\u001b[0m \u001b[0;32mfor\u001b[0m \u001b[0meach_file\u001b[0m \u001b[0;32min\u001b[0m \u001b[0mfiles\u001b[0m\u001b[0;34m]\u001b[0m\u001b[0;34m\u001b[0m\u001b[0;34m\u001b[0m\u001b[0m\n\u001b[0m\u001b[1;32m     75\u001b[0m         \u001b[0;32massert\u001b[0m \u001b[0mdata_frames\u001b[0m\u001b[0;34m,\u001b[0m \u001b[0;34m\"Assertion: at least one file in files, but files was empty\"\u001b[0m\u001b[0;34m\u001b[0m\u001b[0;34m\u001b[0m\u001b[0m\n\u001b[1;32m     76\u001b[0m         \u001b[0;32mreturn\u001b[0m \u001b[0mreduce\u001b[0m\u001b[0;34m(\u001b[0m\u001b[0mDataFrame\u001b[0m\u001b[0;34m.\u001b[0m\u001b[0mcombine_first\u001b[0m\u001b[0;34m,\u001b[0m \u001b[0mdata_frames\u001b[0m\u001b[0;34m)\u001b[0m\u001b[0;34m\u001b[0m\u001b[0;34m\u001b[0m\u001b[0m\n",
      "\u001b[0;32m~/hextof-newdata/hextof-processor/processor/DldFlashDataframeCreatorNew.py\u001b[0m in \u001b[0;36m<listcomp>\u001b[0;34m(.0)\u001b[0m\n\u001b[1;32m     72\u001b[0m \u001b[0;34m\u001b[0m\u001b[0m\n\u001b[1;32m     73\u001b[0m         \u001b[0mfiles\u001b[0m \u001b[0;34m=\u001b[0m \u001b[0mself\u001b[0m\u001b[0;34m.\u001b[0m\u001b[0mrunFilesNames\u001b[0m\u001b[0;34m(\u001b[0m\u001b[0mrunNumber\u001b[0m\u001b[0;34m,\u001b[0m \u001b[0mdaq\u001b[0m\u001b[0;34m)\u001b[0m\u001b[0;34m\u001b[0m\u001b[0;34m\u001b[0m\u001b[0m\n\u001b[0;32m---> 74\u001b[0;31m         \u001b[0mdata_frames\u001b[0m \u001b[0;34m=\u001b[0m \u001b[0;34m[\u001b[0m\u001b[0mself\u001b[0m\u001b[0;34m.\u001b[0m\u001b[0mcreateDataframePerFile\u001b[0m\u001b[0;34m(\u001b[0m\u001b[0meach_file\u001b[0m\u001b[0;34m)\u001b[0m \u001b[0;32mfor\u001b[0m \u001b[0meach_file\u001b[0m \u001b[0;32min\u001b[0m \u001b[0mfiles\u001b[0m\u001b[0;34m]\u001b[0m\u001b[0;34m\u001b[0m\u001b[0;34m\u001b[0m\u001b[0m\n\u001b[0m\u001b[1;32m     75\u001b[0m         \u001b[0;32massert\u001b[0m \u001b[0mdata_frames\u001b[0m\u001b[0;34m,\u001b[0m \u001b[0;34m\"Assertion: at least one file in files, but files was empty\"\u001b[0m\u001b[0;34m\u001b[0m\u001b[0;34m\u001b[0m\u001b[0m\n\u001b[1;32m     76\u001b[0m         \u001b[0;32mreturn\u001b[0m \u001b[0mreduce\u001b[0m\u001b[0;34m(\u001b[0m\u001b[0mDataFrame\u001b[0m\u001b[0;34m.\u001b[0m\u001b[0mcombine_first\u001b[0m\u001b[0;34m,\u001b[0m \u001b[0mdata_frames\u001b[0m\u001b[0;34m)\u001b[0m\u001b[0;34m\u001b[0m\u001b[0;34m\u001b[0m\u001b[0m\n",
      "\u001b[0;32m~/hextof-newdata/hextof-processor/processor/DldFlashDataframeCreatorNew.py\u001b[0m in \u001b[0;36mcreateDataframePerFile\u001b[0;34m(self, file_path)\u001b[0m\n\u001b[1;32m     96\u001b[0m             \u001b[0mvalid_names\u001b[0m \u001b[0;34m=\u001b[0m \u001b[0;34m(\u001b[0m\u001b[0meach_name\u001b[0m \u001b[0;32mfor\u001b[0m \u001b[0meach_name\u001b[0m \u001b[0;32min\u001b[0m \u001b[0mself\u001b[0m\u001b[0;34m.\u001b[0m\u001b[0mChannels\u001b[0m \u001b[0;32mif\u001b[0m \u001b[0meach_name\u001b[0m \u001b[0;32min\u001b[0m \u001b[0mself\u001b[0m\u001b[0;34m.\u001b[0m\u001b[0mallChannels\u001b[0m\u001b[0;34m)\u001b[0m  \u001b[0;31m# filter\u001b[0m\u001b[0;34m\u001b[0m\u001b[0;34m\u001b[0m\u001b[0m\n\u001b[1;32m     97\u001b[0m             \u001b[0mself\u001b[0m\u001b[0;34m.\u001b[0m\u001b[0mdata_frames\u001b[0m \u001b[0;34m=\u001b[0m \u001b[0;34m(\u001b[0m\u001b[0mself\u001b[0m\u001b[0;34m.\u001b[0m\u001b[0mcreateDataframePerChannel\u001b[0m\u001b[0;34m(\u001b[0m\u001b[0mh5_file\u001b[0m\u001b[0;34m,\u001b[0m \u001b[0meach\u001b[0m\u001b[0;34m)\u001b[0m \u001b[0;32mfor\u001b[0m \u001b[0meach\u001b[0m \u001b[0;32min\u001b[0m \u001b[0mvalid_names\u001b[0m\u001b[0;34m)\u001b[0m  \u001b[0;31m# map\u001b[0m\u001b[0;34m\u001b[0m\u001b[0;34m\u001b[0m\u001b[0m\n\u001b[0;32m---> 98\u001b[0;31m             \u001b[0;32mreturn\u001b[0m \u001b[0mreduce\u001b[0m\u001b[0;34m(\u001b[0m\u001b[0mDataFrame\u001b[0m\u001b[0;34m.\u001b[0m\u001b[0mcombine_first\u001b[0m\u001b[0;34m,\u001b[0m \u001b[0mself\u001b[0m\u001b[0;34m.\u001b[0m\u001b[0mdata_frames\u001b[0m\u001b[0;34m,\u001b[0m \u001b[0mDataFrame\u001b[0m\u001b[0;34m(\u001b[0m\u001b[0;34m)\u001b[0m\u001b[0;34m)\u001b[0m\u001b[0;34m\u001b[0m\u001b[0;34m\u001b[0m\u001b[0m\n\u001b[0m\u001b[1;32m     99\u001b[0m \u001b[0;34m\u001b[0m\u001b[0m\n\u001b[1;32m    100\u001b[0m     \u001b[0;32mdef\u001b[0m \u001b[0mcreateDataframePerChannel\u001b[0m\u001b[0;34m(\u001b[0m\u001b[0mself\u001b[0m\u001b[0;34m,\u001b[0m \u001b[0mh5_file\u001b[0m\u001b[0;34m,\u001b[0m \u001b[0mchannel\u001b[0m\u001b[0;34m)\u001b[0m\u001b[0;34m:\u001b[0m\u001b[0;34m\u001b[0m\u001b[0;34m\u001b[0m\u001b[0m\n",
      "\u001b[0;32m~/hextof-newdata/hextof-processor/processor/DldFlashDataframeCreatorNew.py\u001b[0m in \u001b[0;36m<genexpr>\u001b[0;34m(.0)\u001b[0m\n\u001b[1;32m     95\u001b[0m         \u001b[0;32mwith\u001b[0m \u001b[0mh5py\u001b[0m\u001b[0;34m.\u001b[0m\u001b[0mFile\u001b[0m\u001b[0;34m(\u001b[0m\u001b[0mfile_path\u001b[0m\u001b[0;34m,\u001b[0m \u001b[0;34m'r'\u001b[0m\u001b[0;34m)\u001b[0m \u001b[0;32mas\u001b[0m \u001b[0mh5_file\u001b[0m\u001b[0;34m:\u001b[0m\u001b[0;34m\u001b[0m\u001b[0;34m\u001b[0m\u001b[0m\n\u001b[1;32m     96\u001b[0m             \u001b[0mvalid_names\u001b[0m \u001b[0;34m=\u001b[0m \u001b[0;34m(\u001b[0m\u001b[0meach_name\u001b[0m \u001b[0;32mfor\u001b[0m \u001b[0meach_name\u001b[0m \u001b[0;32min\u001b[0m \u001b[0mself\u001b[0m\u001b[0;34m.\u001b[0m\u001b[0mChannels\u001b[0m \u001b[0;32mif\u001b[0m \u001b[0meach_name\u001b[0m \u001b[0;32min\u001b[0m \u001b[0mself\u001b[0m\u001b[0;34m.\u001b[0m\u001b[0mallChannels\u001b[0m\u001b[0;34m)\u001b[0m  \u001b[0;31m# filter\u001b[0m\u001b[0;34m\u001b[0m\u001b[0;34m\u001b[0m\u001b[0m\n\u001b[0;32m---> 97\u001b[0;31m             \u001b[0mself\u001b[0m\u001b[0;34m.\u001b[0m\u001b[0mdata_frames\u001b[0m \u001b[0;34m=\u001b[0m \u001b[0;34m(\u001b[0m\u001b[0mself\u001b[0m\u001b[0;34m.\u001b[0m\u001b[0mcreateDataframePerChannel\u001b[0m\u001b[0;34m(\u001b[0m\u001b[0mh5_file\u001b[0m\u001b[0;34m,\u001b[0m \u001b[0meach\u001b[0m\u001b[0;34m)\u001b[0m \u001b[0;32mfor\u001b[0m \u001b[0meach\u001b[0m \u001b[0;32min\u001b[0m \u001b[0mvalid_names\u001b[0m\u001b[0;34m)\u001b[0m  \u001b[0;31m# map\u001b[0m\u001b[0;34m\u001b[0m\u001b[0;34m\u001b[0m\u001b[0m\n\u001b[0m\u001b[1;32m     98\u001b[0m             \u001b[0;32mreturn\u001b[0m \u001b[0mreduce\u001b[0m\u001b[0;34m(\u001b[0m\u001b[0mDataFrame\u001b[0m\u001b[0;34m.\u001b[0m\u001b[0mcombine_first\u001b[0m\u001b[0;34m,\u001b[0m \u001b[0mself\u001b[0m\u001b[0;34m.\u001b[0m\u001b[0mdata_frames\u001b[0m\u001b[0;34m,\u001b[0m \u001b[0mDataFrame\u001b[0m\u001b[0;34m(\u001b[0m\u001b[0;34m)\u001b[0m\u001b[0;34m)\u001b[0m\u001b[0;34m\u001b[0m\u001b[0;34m\u001b[0m\u001b[0m\n\u001b[1;32m     99\u001b[0m \u001b[0;34m\u001b[0m\u001b[0m\n",
      "\u001b[0;32m~/hextof-newdata/hextof-processor/processor/DldFlashDataframeCreatorNew.py\u001b[0m in \u001b[0;36mcreateDataframePerChannel\u001b[0;34m(self, h5_file, channel)\u001b[0m\n\u001b[1;32m    104\u001b[0m \u001b[0;34m\u001b[0m\u001b[0m\n\u001b[1;32m    105\u001b[0m         \u001b[0mtrain_id\u001b[0m \u001b[0;34m=\u001b[0m \u001b[0mSeries\u001b[0m\u001b[0;34m(\u001b[0m\u001b[0mgroup\u001b[0m\u001b[0;34m[\u001b[0m\u001b[0;34m\"index\"\u001b[0m\u001b[0;34m]\u001b[0m\u001b[0;34m,\u001b[0m \u001b[0mname\u001b[0m\u001b[0;34m=\u001b[0m\u001b[0;34m\"Train ID\"\u001b[0m\u001b[0;34m)\u001b[0m\u001b[0;34m\u001b[0m\u001b[0;34m\u001b[0m\u001b[0m\n\u001b[0;32m--> 106\u001b[0;31m         \u001b[0mnp_array\u001b[0m \u001b[0;34m=\u001b[0m \u001b[0mgroup\u001b[0m\u001b[0;34m[\u001b[0m\u001b[0;34m\"value\"\u001b[0m\u001b[0;34m]\u001b[0m\u001b[0;34m[\u001b[0m\u001b[0;34m(\u001b[0m\u001b[0;34m)\u001b[0m\u001b[0;34m]\u001b[0m \u001b[0;31m#unpacks the values\u001b[0m\u001b[0;34m\u001b[0m\u001b[0;34m\u001b[0m\u001b[0m\n\u001b[0m\u001b[1;32m    107\u001b[0m \u001b[0;34m\u001b[0m\u001b[0m\n\u001b[1;32m    108\u001b[0m         \u001b[0;31m# Uses predefined axis and slice from the json file to choose correct dimension for necessary channel\u001b[0m\u001b[0;34m\u001b[0m\u001b[0;34m\u001b[0m\u001b[0;34m\u001b[0m\u001b[0m\n",
      "\u001b[0;32mh5py/_objects.pyx\u001b[0m in \u001b[0;36mh5py._objects.with_phil.wrapper\u001b[0;34m()\u001b[0m\n",
      "\u001b[0;32mh5py/_objects.pyx\u001b[0m in \u001b[0;36mh5py._objects.with_phil.wrapper\u001b[0;34m()\u001b[0m\n",
      "\u001b[0;32m~/.conda/envs/flash-hdf/lib/python3.8/site-packages/h5py/_hl/dataset.py\u001b[0m in \u001b[0;36m__getitem__\u001b[0;34m(self, args, new_dtype)\u001b[0m\n\u001b[1;32m    788\u001b[0m         \u001b[0mmspace\u001b[0m \u001b[0;34m=\u001b[0m \u001b[0mh5s\u001b[0m\u001b[0;34m.\u001b[0m\u001b[0mcreate_simple\u001b[0m\u001b[0;34m(\u001b[0m\u001b[0mselection\u001b[0m\u001b[0;34m.\u001b[0m\u001b[0mmshape\u001b[0m\u001b[0;34m)\u001b[0m\u001b[0;34m\u001b[0m\u001b[0;34m\u001b[0m\u001b[0m\n\u001b[1;32m    789\u001b[0m         \u001b[0mfspace\u001b[0m \u001b[0;34m=\u001b[0m \u001b[0mselection\u001b[0m\u001b[0;34m.\u001b[0m\u001b[0mid\u001b[0m\u001b[0;34m\u001b[0m\u001b[0;34m\u001b[0m\u001b[0m\n\u001b[0;32m--> 790\u001b[0;31m         \u001b[0mself\u001b[0m\u001b[0;34m.\u001b[0m\u001b[0mid\u001b[0m\u001b[0;34m.\u001b[0m\u001b[0mread\u001b[0m\u001b[0;34m(\u001b[0m\u001b[0mmspace\u001b[0m\u001b[0;34m,\u001b[0m \u001b[0mfspace\u001b[0m\u001b[0;34m,\u001b[0m \u001b[0marr\u001b[0m\u001b[0;34m,\u001b[0m \u001b[0mmtype\u001b[0m\u001b[0;34m,\u001b[0m \u001b[0mdxpl\u001b[0m\u001b[0;34m=\u001b[0m\u001b[0mself\u001b[0m\u001b[0;34m.\u001b[0m\u001b[0m_dxpl\u001b[0m\u001b[0;34m)\u001b[0m\u001b[0;34m\u001b[0m\u001b[0;34m\u001b[0m\u001b[0m\n\u001b[0m\u001b[1;32m    791\u001b[0m \u001b[0;34m\u001b[0m\u001b[0m\n\u001b[1;32m    792\u001b[0m         \u001b[0;31m# Patch up the output for NumPy\u001b[0m\u001b[0;34m\u001b[0m\u001b[0;34m\u001b[0m\u001b[0;34m\u001b[0m\u001b[0m\n",
      "\u001b[0;31mKeyboardInterrupt\u001b[0m: "
     ]
    }
   ],
   "source": [
    "# Give run number and the daq \n",
    "df = test.createDataframePerRun(runNumber = 35865, daq = \"fl1user2\")"
   ]
  },
  {
   "cell_type": "code",
   "execution_count": null,
   "metadata": {},
   "outputs": [],
   "source": [
    "df"
   ]
  },
  {
   "cell_type": "markdown",
   "metadata": {},
   "source": [
    "### Define TrainIds to select a slice of data from within a run"
   ]
  },
  {
   "cell_type": "code",
   "execution_count": 151,
   "metadata": {},
   "outputs": [],
   "source": [
    "# This method is fast as it indexes using Train ID first \n",
    "# and then only loads the files which are in the TrainIdInterval range \n",
    "df = test.createDataframePerRunIdInterval(runNumber = 35865, TrainIdInterval = [914989700, 914999900])"
   ]
  },
  {
   "cell_type": "code",
   "execution_count": 152,
   "metadata": {},
   "outputs": [
    {
     "data": {
      "text/html": [
       "<div>\n",
       "<style scoped>\n",
       "    .dataframe tbody tr th:only-of-type {\n",
       "        vertical-align: middle;\n",
       "    }\n",
       "\n",
       "    .dataframe tbody tr th {\n",
       "        vertical-align: top;\n",
       "    }\n",
       "\n",
       "    .dataframe thead th {\n",
       "        text-align: right;\n",
       "    }\n",
       "</style>\n",
       "<table border=\"1\" class=\"dataframe\">\n",
       "  <thead>\n",
       "    <tr style=\"text-align: right;\">\n",
       "      <th></th>\n",
       "      <th>dldMicrobunchId</th>\n",
       "      <th>dldPosX</th>\n",
       "      <th>dldPosY</th>\n",
       "      <th>dldTime</th>\n",
       "    </tr>\n",
       "    <tr>\n",
       "      <th>Train ID</th>\n",
       "      <th></th>\n",
       "      <th></th>\n",
       "      <th></th>\n",
       "      <th></th>\n",
       "    </tr>\n",
       "  </thead>\n",
       "  <tbody>\n",
       "    <tr>\n",
       "      <th>914989700</th>\n",
       "      <td>[8.0, 8.0, 9.0, 9.0, 9.0, 9.0, 15.0, 15.0, 17....</td>\n",
       "      <td>[536.0, 537.0, 501.0, 504.0, 782.0, 785.0, 589...</td>\n",
       "      <td>[578.0, 578.0, 680.0, 677.0, 552.0, 551.0, 671...</td>\n",
       "      <td>[36453.0, 36452.0, 30758.0, 30757.0, 37768.0, ...</td>\n",
       "    </tr>\n",
       "    <tr>\n",
       "      <th>914989701</th>\n",
       "      <td>[8.0, 8.0, 13.0, 13.0, 14.0, 15.0, 15.0, 16.0,...</td>\n",
       "      <td>[839.0, 839.0, 485.0, 947.0, 730.0, 612.0, 623...</td>\n",
       "      <td>[699.0, 693.0, 534.0, 938.0, 749.0, 733.0, 722...</td>\n",
       "      <td>[48770.0, 48771.0, 36989.0, 36988.0, 37602.0, ...</td>\n",
       "    </tr>\n",
       "    <tr>\n",
       "      <th>914989702</th>\n",
       "      <td>[11.0, 11.0, 14.0, 14.0, 17.0, 17.0, 21.0, 21....</td>\n",
       "      <td>[779.0, 777.0, 826.0, 813.0, 516.0, 510.0, 947...</td>\n",
       "      <td>[810.0, 814.0, 634.0, 636.0, 674.0, 676.0, 938...</td>\n",
       "      <td>[47687.0, 47682.0, 43603.0, 43616.0, 36181.0, ...</td>\n",
       "    </tr>\n",
       "    <tr>\n",
       "      <th>914989703</th>\n",
       "      <td>[9.0, 9.0, 13.0, 13.0, 16.0, 16.0, 19.0, 19.0,...</td>\n",
       "      <td>[799.0, 794.0, 661.0, 662.0, 851.0, 848.0, 518...</td>\n",
       "      <td>[515.0, 522.0, 463.0, 467.0, 659.0, 658.0, 710...</td>\n",
       "      <td>[33984.0, 33985.0, 36913.0, 36924.0, 45643.0, ...</td>\n",
       "    </tr>\n",
       "    <tr>\n",
       "      <th>914989704</th>\n",
       "      <td>[8.0, 8.0, 10.0, 10.0, 11.0, 11.0, 12.0, 12.0,...</td>\n",
       "      <td>[695.0, 691.0, 726.0, 726.0, 892.0, 882.0, 683...</td>\n",
       "      <td>[469.0, 465.0, 491.0, 488.0, 649.0, 646.0, 683...</td>\n",
       "      <td>[37633.0, 37640.0, 36873.0, 36872.0, 37411.0, ...</td>\n",
       "    </tr>\n",
       "  </tbody>\n",
       "</table>\n",
       "</div>"
      ],
      "text/plain": [
       "                                             dldMicrobunchId  \\\n",
       "Train ID                                                       \n",
       "914989700  [8.0, 8.0, 9.0, 9.0, 9.0, 9.0, 15.0, 15.0, 17....   \n",
       "914989701  [8.0, 8.0, 13.0, 13.0, 14.0, 15.0, 15.0, 16.0,...   \n",
       "914989702  [11.0, 11.0, 14.0, 14.0, 17.0, 17.0, 21.0, 21....   \n",
       "914989703  [9.0, 9.0, 13.0, 13.0, 16.0, 16.0, 19.0, 19.0,...   \n",
       "914989704  [8.0, 8.0, 10.0, 10.0, 11.0, 11.0, 12.0, 12.0,...   \n",
       "\n",
       "                                                     dldPosX  \\\n",
       "Train ID                                                       \n",
       "914989700  [536.0, 537.0, 501.0, 504.0, 782.0, 785.0, 589...   \n",
       "914989701  [839.0, 839.0, 485.0, 947.0, 730.0, 612.0, 623...   \n",
       "914989702  [779.0, 777.0, 826.0, 813.0, 516.0, 510.0, 947...   \n",
       "914989703  [799.0, 794.0, 661.0, 662.0, 851.0, 848.0, 518...   \n",
       "914989704  [695.0, 691.0, 726.0, 726.0, 892.0, 882.0, 683...   \n",
       "\n",
       "                                                     dldPosY  \\\n",
       "Train ID                                                       \n",
       "914989700  [578.0, 578.0, 680.0, 677.0, 552.0, 551.0, 671...   \n",
       "914989701  [699.0, 693.0, 534.0, 938.0, 749.0, 733.0, 722...   \n",
       "914989702  [810.0, 814.0, 634.0, 636.0, 674.0, 676.0, 938...   \n",
       "914989703  [515.0, 522.0, 463.0, 467.0, 659.0, 658.0, 710...   \n",
       "914989704  [469.0, 465.0, 491.0, 488.0, 649.0, 646.0, 683...   \n",
       "\n",
       "                                                     dldTime  \n",
       "Train ID                                                      \n",
       "914989700  [36453.0, 36452.0, 30758.0, 30757.0, 37768.0, ...  \n",
       "914989701  [48770.0, 48771.0, 36989.0, 36988.0, 37602.0, ...  \n",
       "914989702  [47687.0, 47682.0, 43603.0, 43616.0, 36181.0, ...  \n",
       "914989703  [33984.0, 33985.0, 36913.0, 36924.0, 45643.0, ...  \n",
       "914989704  [37633.0, 37640.0, 36873.0, 36872.0, 37411.0, ...  "
      ]
     },
     "execution_count": 152,
     "metadata": {},
     "output_type": "execute_result"
    }
   ],
   "source": [
    "df.head()"
   ]
  },
  {
   "cell_type": "code",
   "execution_count": 149,
   "metadata": {},
   "outputs": [],
   "source": [
    "df['TrainId'] = df.index"
   ]
  },
  {
   "cell_type": "code",
   "execution_count": 165,
   "metadata": {},
   "outputs": [
    {
     "data": {
      "text/html": [
       "<div>\n",
       "<style scoped>\n",
       "    .dataframe tbody tr th:only-of-type {\n",
       "        vertical-align: middle;\n",
       "    }\n",
       "\n",
       "    .dataframe tbody tr th {\n",
       "        vertical-align: top;\n",
       "    }\n",
       "\n",
       "    .dataframe thead th {\n",
       "        text-align: right;\n",
       "    }\n",
       "</style>\n",
       "<table border=\"1\" class=\"dataframe\">\n",
       "  <thead>\n",
       "    <tr style=\"text-align: right;\">\n",
       "      <th></th>\n",
       "      <th>dldMicrobunchId</th>\n",
       "      <th>dldPosX</th>\n",
       "      <th>dldPosY</th>\n",
       "      <th>dldTime</th>\n",
       "      <th>TrainId</th>\n",
       "    </tr>\n",
       "    <tr>\n",
       "      <th>Train ID</th>\n",
       "      <th></th>\n",
       "      <th></th>\n",
       "      <th></th>\n",
       "      <th></th>\n",
       "      <th></th>\n",
       "    </tr>\n",
       "  </thead>\n",
       "  <tbody>\n",
       "    <tr>\n",
       "      <th>914989700</th>\n",
       "      <td>[8.0, 8.0, 9.0, 9.0, 9.0, 9.0, 15.0, 15.0, 17....</td>\n",
       "      <td>[536.0, 537.0, 501.0, 504.0, 782.0, 785.0, 589...</td>\n",
       "      <td>[578.0, 578.0, 680.0, 677.0, 552.0, 551.0, 671...</td>\n",
       "      <td>[36453.0, 36452.0, 30758.0, 30757.0, 37768.0, ...</td>\n",
       "      <td>914989700</td>\n",
       "    </tr>\n",
       "    <tr>\n",
       "      <th>914989701</th>\n",
       "      <td>[8.0, 8.0, 13.0, 13.0, 14.0, 15.0, 15.0, 16.0,...</td>\n",
       "      <td>[839.0, 839.0, 485.0, 947.0, 730.0, 612.0, 623...</td>\n",
       "      <td>[699.0, 693.0, 534.0, 938.0, 749.0, 733.0, 722...</td>\n",
       "      <td>[48770.0, 48771.0, 36989.0, 36988.0, 37602.0, ...</td>\n",
       "      <td>914989701</td>\n",
       "    </tr>\n",
       "    <tr>\n",
       "      <th>914989702</th>\n",
       "      <td>[11.0, 11.0, 14.0, 14.0, 17.0, 17.0, 21.0, 21....</td>\n",
       "      <td>[779.0, 777.0, 826.0, 813.0, 516.0, 510.0, 947...</td>\n",
       "      <td>[810.0, 814.0, 634.0, 636.0, 674.0, 676.0, 938...</td>\n",
       "      <td>[47687.0, 47682.0, 43603.0, 43616.0, 36181.0, ...</td>\n",
       "      <td>914989702</td>\n",
       "    </tr>\n",
       "    <tr>\n",
       "      <th>914989703</th>\n",
       "      <td>[9.0, 9.0, 13.0, 13.0, 16.0, 16.0, 19.0, 19.0,...</td>\n",
       "      <td>[799.0, 794.0, 661.0, 662.0, 851.0, 848.0, 518...</td>\n",
       "      <td>[515.0, 522.0, 463.0, 467.0, 659.0, 658.0, 710...</td>\n",
       "      <td>[33984.0, 33985.0, 36913.0, 36924.0, 45643.0, ...</td>\n",
       "      <td>914989703</td>\n",
       "    </tr>\n",
       "    <tr>\n",
       "      <th>914989704</th>\n",
       "      <td>[8.0, 8.0, 10.0, 10.0, 11.0, 11.0, 12.0, 12.0,...</td>\n",
       "      <td>[695.0, 691.0, 726.0, 726.0, 892.0, 882.0, 683...</td>\n",
       "      <td>[469.0, 465.0, 491.0, 488.0, 649.0, 646.0, 683...</td>\n",
       "      <td>[37633.0, 37640.0, 36873.0, 36872.0, 37411.0, ...</td>\n",
       "      <td>914989704</td>\n",
       "    </tr>\n",
       "    <tr>\n",
       "      <th>...</th>\n",
       "      <td>...</td>\n",
       "      <td>...</td>\n",
       "      <td>...</td>\n",
       "      <td>...</td>\n",
       "      <td>...</td>\n",
       "    </tr>\n",
       "    <tr>\n",
       "      <th>914999409</th>\n",
       "      <td>[9.0, 9.0, 9.0, 11.0, 11.0, 13.0, 13.0, 13.0, ...</td>\n",
       "      <td>[562.0, 556.0, 561.0, 743.0, 742.0, 696.0, 701...</td>\n",
       "      <td>[860.0, 823.0, 825.0, 637.0, 642.0, 680.0, 680...</td>\n",
       "      <td>[34502.0, 39662.0, 39663.0, 30147.0, 30144.0, ...</td>\n",
       "      <td>914999409</td>\n",
       "    </tr>\n",
       "    <tr>\n",
       "      <th>914999410</th>\n",
       "      <td>[12.0, 12.0, 17.0, 17.0, 19.0, 19.0, 20.0, 20....</td>\n",
       "      <td>[714.0, 708.0, 596.0, 590.0, 826.0, 825.0, 727...</td>\n",
       "      <td>[632.0, 634.0, 645.0, 648.0, 745.0, 740.0, 652...</td>\n",
       "      <td>[32624.0, 32627.0, 31309.0, 31316.0, 36890.0, ...</td>\n",
       "      <td>914999410</td>\n",
       "    </tr>\n",
       "    <tr>\n",
       "      <th>914999411</th>\n",
       "      <td>[8.0, 8.0, 8.0, 8.0, 12.0, 12.0, 15.0, 15.0, 1...</td>\n",
       "      <td>[720.0, 717.0, 947.0, 867.0, 476.0, 482.0, 742...</td>\n",
       "      <td>[467.0, 467.0, 938.0, 771.0, 640.0, 641.0, 607...</td>\n",
       "      <td>[36753.0, 36760.0, 37834.0, 37819.0, 31013.0, ...</td>\n",
       "      <td>914999411</td>\n",
       "    </tr>\n",
       "    <tr>\n",
       "      <th>914999412</th>\n",
       "      <td>[12.0, 12.0, 19.0, 19.0, 21.0, 21.0, 22.0, 22....</td>\n",
       "      <td>[465.0, 468.0, 605.0, 606.0, 782.0, 786.0, 669...</td>\n",
       "      <td>[759.0, 750.0, 628.0, 626.0, 781.0, 778.0, 855...</td>\n",
       "      <td>[34110.0, 34101.0, 33924.0, 33917.0, 32274.0, ...</td>\n",
       "      <td>914999412</td>\n",
       "    </tr>\n",
       "    <tr>\n",
       "      <th>914999413</th>\n",
       "      <td>[8.0, 8.0, 9.0, 9.0, 9.0, 9.0, 10.0, 10.0, 11....</td>\n",
       "      <td>[577.0, 582.0, 622.0, 621.0, 510.0, 670.0, 778...</td>\n",
       "      <td>[590.0, 589.0, 736.0, 736.0, 656.0, 504.0, 682...</td>\n",
       "      <td>[36941.0, 36940.0, 33102.0, 33095.0, 37544.0, ...</td>\n",
       "      <td>914999413</td>\n",
       "    </tr>\n",
       "  </tbody>\n",
       "</table>\n",
       "<p>9714 rows × 5 columns</p>\n",
       "</div>"
      ],
      "text/plain": [
       "                                             dldMicrobunchId  \\\n",
       "Train ID                                                       \n",
       "914989700  [8.0, 8.0, 9.0, 9.0, 9.0, 9.0, 15.0, 15.0, 17....   \n",
       "914989701  [8.0, 8.0, 13.0, 13.0, 14.0, 15.0, 15.0, 16.0,...   \n",
       "914989702  [11.0, 11.0, 14.0, 14.0, 17.0, 17.0, 21.0, 21....   \n",
       "914989703  [9.0, 9.0, 13.0, 13.0, 16.0, 16.0, 19.0, 19.0,...   \n",
       "914989704  [8.0, 8.0, 10.0, 10.0, 11.0, 11.0, 12.0, 12.0,...   \n",
       "...                                                      ...   \n",
       "914999409  [9.0, 9.0, 9.0, 11.0, 11.0, 13.0, 13.0, 13.0, ...   \n",
       "914999410  [12.0, 12.0, 17.0, 17.0, 19.0, 19.0, 20.0, 20....   \n",
       "914999411  [8.0, 8.0, 8.0, 8.0, 12.0, 12.0, 15.0, 15.0, 1...   \n",
       "914999412  [12.0, 12.0, 19.0, 19.0, 21.0, 21.0, 22.0, 22....   \n",
       "914999413  [8.0, 8.0, 9.0, 9.0, 9.0, 9.0, 10.0, 10.0, 11....   \n",
       "\n",
       "                                                     dldPosX  \\\n",
       "Train ID                                                       \n",
       "914989700  [536.0, 537.0, 501.0, 504.0, 782.0, 785.0, 589...   \n",
       "914989701  [839.0, 839.0, 485.0, 947.0, 730.0, 612.0, 623...   \n",
       "914989702  [779.0, 777.0, 826.0, 813.0, 516.0, 510.0, 947...   \n",
       "914989703  [799.0, 794.0, 661.0, 662.0, 851.0, 848.0, 518...   \n",
       "914989704  [695.0, 691.0, 726.0, 726.0, 892.0, 882.0, 683...   \n",
       "...                                                      ...   \n",
       "914999409  [562.0, 556.0, 561.0, 743.0, 742.0, 696.0, 701...   \n",
       "914999410  [714.0, 708.0, 596.0, 590.0, 826.0, 825.0, 727...   \n",
       "914999411  [720.0, 717.0, 947.0, 867.0, 476.0, 482.0, 742...   \n",
       "914999412  [465.0, 468.0, 605.0, 606.0, 782.0, 786.0, 669...   \n",
       "914999413  [577.0, 582.0, 622.0, 621.0, 510.0, 670.0, 778...   \n",
       "\n",
       "                                                     dldPosY  \\\n",
       "Train ID                                                       \n",
       "914989700  [578.0, 578.0, 680.0, 677.0, 552.0, 551.0, 671...   \n",
       "914989701  [699.0, 693.0, 534.0, 938.0, 749.0, 733.0, 722...   \n",
       "914989702  [810.0, 814.0, 634.0, 636.0, 674.0, 676.0, 938...   \n",
       "914989703  [515.0, 522.0, 463.0, 467.0, 659.0, 658.0, 710...   \n",
       "914989704  [469.0, 465.0, 491.0, 488.0, 649.0, 646.0, 683...   \n",
       "...                                                      ...   \n",
       "914999409  [860.0, 823.0, 825.0, 637.0, 642.0, 680.0, 680...   \n",
       "914999410  [632.0, 634.0, 645.0, 648.0, 745.0, 740.0, 652...   \n",
       "914999411  [467.0, 467.0, 938.0, 771.0, 640.0, 641.0, 607...   \n",
       "914999412  [759.0, 750.0, 628.0, 626.0, 781.0, 778.0, 855...   \n",
       "914999413  [590.0, 589.0, 736.0, 736.0, 656.0, 504.0, 682...   \n",
       "\n",
       "                                                     dldTime    TrainId  \n",
       "Train ID                                                                 \n",
       "914989700  [36453.0, 36452.0, 30758.0, 30757.0, 37768.0, ...  914989700  \n",
       "914989701  [48770.0, 48771.0, 36989.0, 36988.0, 37602.0, ...  914989701  \n",
       "914989702  [47687.0, 47682.0, 43603.0, 43616.0, 36181.0, ...  914989702  \n",
       "914989703  [33984.0, 33985.0, 36913.0, 36924.0, 45643.0, ...  914989703  \n",
       "914989704  [37633.0, 37640.0, 36873.0, 36872.0, 37411.0, ...  914989704  \n",
       "...                                                      ...        ...  \n",
       "914999409  [34502.0, 39662.0, 39663.0, 30147.0, 30144.0, ...  914999409  \n",
       "914999410  [32624.0, 32627.0, 31309.0, 31316.0, 36890.0, ...  914999410  \n",
       "914999411  [36753.0, 36760.0, 37834.0, 37819.0, 31013.0, ...  914999411  \n",
       "914999412  [34110.0, 34101.0, 33924.0, 33917.0, 32274.0, ...  914999412  \n",
       "914999413  [36941.0, 36940.0, 33102.0, 33095.0, 37544.0, ...  914999413  \n",
       "\n",
       "[9714 rows x 5 columns]"
      ]
     },
     "execution_count": 165,
     "metadata": {},
     "output_type": "execute_result"
    }
   ],
   "source": [
    "df"
   ]
  },
  {
   "cell_type": "code",
   "execution_count": 167,
   "metadata": {},
   "outputs": [
    {
     "ename": "TypeError",
     "evalue": "unhashable type: 'numpy.ndarray'",
     "output_type": "error",
     "traceback": [
      "\u001b[0;31m---------------------------------------------------------------------------\u001b[0m",
      "\u001b[0;31mTypeError\u001b[0m                                 Traceback (most recent call last)",
      "\u001b[0;32m~/.conda/envs/flash-hdf/lib/python3.8/site-packages/pandas/core/arrays/categorical.py\u001b[0m in \u001b[0;36m__init__\u001b[0;34m(self, values, categories, ordered, dtype, fastpath)\u001b[0m\n\u001b[1;32m    339\u001b[0m             \u001b[0;32mtry\u001b[0m\u001b[0;34m:\u001b[0m\u001b[0;34m\u001b[0m\u001b[0;34m\u001b[0m\u001b[0m\n\u001b[0;32m--> 340\u001b[0;31m                 \u001b[0mcodes\u001b[0m\u001b[0;34m,\u001b[0m \u001b[0mcategories\u001b[0m \u001b[0;34m=\u001b[0m \u001b[0mfactorize\u001b[0m\u001b[0;34m(\u001b[0m\u001b[0mvalues\u001b[0m\u001b[0;34m,\u001b[0m \u001b[0msort\u001b[0m\u001b[0;34m=\u001b[0m\u001b[0;32mTrue\u001b[0m\u001b[0;34m)\u001b[0m\u001b[0;34m\u001b[0m\u001b[0;34m\u001b[0m\u001b[0m\n\u001b[0m\u001b[1;32m    341\u001b[0m             \u001b[0;32mexcept\u001b[0m \u001b[0mTypeError\u001b[0m \u001b[0;32mas\u001b[0m \u001b[0merr\u001b[0m\u001b[0;34m:\u001b[0m\u001b[0;34m\u001b[0m\u001b[0;34m\u001b[0m\u001b[0m\n",
      "\u001b[0;32m~/.conda/envs/flash-hdf/lib/python3.8/site-packages/pandas/core/algorithms.py\u001b[0m in \u001b[0;36mfactorize\u001b[0;34m(values, sort, na_sentinel, size_hint)\u001b[0m\n\u001b[1;32m    721\u001b[0m \u001b[0;34m\u001b[0m\u001b[0m\n\u001b[0;32m--> 722\u001b[0;31m         codes, uniques = factorize_array(\n\u001b[0m\u001b[1;32m    723\u001b[0m             \u001b[0mvalues\u001b[0m\u001b[0;34m,\u001b[0m \u001b[0mna_sentinel\u001b[0m\u001b[0;34m=\u001b[0m\u001b[0mna_sentinel\u001b[0m\u001b[0;34m,\u001b[0m \u001b[0msize_hint\u001b[0m\u001b[0;34m=\u001b[0m\u001b[0msize_hint\u001b[0m\u001b[0;34m,\u001b[0m \u001b[0mna_value\u001b[0m\u001b[0;34m=\u001b[0m\u001b[0mna_value\u001b[0m\u001b[0;34m\u001b[0m\u001b[0;34m\u001b[0m\u001b[0m\n",
      "\u001b[0;32m~/.conda/envs/flash-hdf/lib/python3.8/site-packages/pandas/core/algorithms.py\u001b[0m in \u001b[0;36mfactorize_array\u001b[0;34m(values, na_sentinel, size_hint, na_value, mask)\u001b[0m\n\u001b[1;32m    527\u001b[0m     \u001b[0mtable\u001b[0m \u001b[0;34m=\u001b[0m \u001b[0mhash_klass\u001b[0m\u001b[0;34m(\u001b[0m\u001b[0msize_hint\u001b[0m \u001b[0;32mor\u001b[0m \u001b[0mlen\u001b[0m\u001b[0;34m(\u001b[0m\u001b[0mvalues\u001b[0m\u001b[0;34m)\u001b[0m\u001b[0;34m)\u001b[0m\u001b[0;34m\u001b[0m\u001b[0;34m\u001b[0m\u001b[0m\n\u001b[0;32m--> 528\u001b[0;31m     uniques, codes = table.factorize(\n\u001b[0m\u001b[1;32m    529\u001b[0m         \u001b[0mvalues\u001b[0m\u001b[0;34m,\u001b[0m \u001b[0mna_sentinel\u001b[0m\u001b[0;34m=\u001b[0m\u001b[0mna_sentinel\u001b[0m\u001b[0;34m,\u001b[0m \u001b[0mna_value\u001b[0m\u001b[0;34m=\u001b[0m\u001b[0mna_value\u001b[0m\u001b[0;34m,\u001b[0m \u001b[0mmask\u001b[0m\u001b[0;34m=\u001b[0m\u001b[0mmask\u001b[0m\u001b[0;34m\u001b[0m\u001b[0;34m\u001b[0m\u001b[0m\n",
      "\u001b[0;32mpandas/_libs/hashtable_class_helper.pxi\u001b[0m in \u001b[0;36mpandas._libs.hashtable.PyObjectHashTable.factorize\u001b[0;34m()\u001b[0m\n",
      "\u001b[0;32mpandas/_libs/hashtable_class_helper.pxi\u001b[0m in \u001b[0;36mpandas._libs.hashtable.PyObjectHashTable._unique\u001b[0;34m()\u001b[0m\n",
      "\u001b[0;31mTypeError\u001b[0m: unhashable type: 'numpy.ndarray'",
      "\nDuring handling of the above exception, another exception occurred:\n",
      "\u001b[0;31mTypeError\u001b[0m                                 Traceback (most recent call last)",
      "\u001b[0;32m<ipython-input-167-ddd63dd6ed33>\u001b[0m in \u001b[0;36m<module>\u001b[0;34m\u001b[0m\n\u001b[0;32m----> 1\u001b[0;31m \u001b[0mdf_multiindex\u001b[0m \u001b[0;34m=\u001b[0m \u001b[0mpd\u001b[0m\u001b[0;34m.\u001b[0m\u001b[0mMultiIndex\u001b[0m\u001b[0;34m.\u001b[0m\u001b[0mfrom_frame\u001b[0m\u001b[0;34m(\u001b[0m\u001b[0mdf\u001b[0m\u001b[0;34m)\u001b[0m\u001b[0;34m\u001b[0m\u001b[0;34m\u001b[0m\u001b[0m\n\u001b[0m",
      "\u001b[0;32m~/.conda/envs/flash-hdf/lib/python3.8/site-packages/pandas/core/indexes/multi.py\u001b[0m in \u001b[0;36mfrom_frame\u001b[0;34m(cls, df, sortorder, names)\u001b[0m\n\u001b[1;32m    660\u001b[0m         \u001b[0mcolumn_names\u001b[0m\u001b[0;34m,\u001b[0m \u001b[0mcolumns\u001b[0m \u001b[0;34m=\u001b[0m \u001b[0mzip\u001b[0m\u001b[0;34m(\u001b[0m\u001b[0;34m*\u001b[0m\u001b[0mdf\u001b[0m\u001b[0;34m.\u001b[0m\u001b[0mitems\u001b[0m\u001b[0;34m(\u001b[0m\u001b[0;34m)\u001b[0m\u001b[0;34m)\u001b[0m\u001b[0;34m\u001b[0m\u001b[0;34m\u001b[0m\u001b[0m\n\u001b[1;32m    661\u001b[0m         \u001b[0mnames\u001b[0m \u001b[0;34m=\u001b[0m \u001b[0mcolumn_names\u001b[0m \u001b[0;32mif\u001b[0m \u001b[0mnames\u001b[0m \u001b[0;32mis\u001b[0m \u001b[0;32mNone\u001b[0m \u001b[0;32melse\u001b[0m \u001b[0mnames\u001b[0m\u001b[0;34m\u001b[0m\u001b[0;34m\u001b[0m\u001b[0m\n\u001b[0;32m--> 662\u001b[0;31m         \u001b[0;32mreturn\u001b[0m \u001b[0mcls\u001b[0m\u001b[0;34m.\u001b[0m\u001b[0mfrom_arrays\u001b[0m\u001b[0;34m(\u001b[0m\u001b[0mcolumns\u001b[0m\u001b[0;34m,\u001b[0m \u001b[0msortorder\u001b[0m\u001b[0;34m=\u001b[0m\u001b[0msortorder\u001b[0m\u001b[0;34m,\u001b[0m \u001b[0mnames\u001b[0m\u001b[0;34m=\u001b[0m\u001b[0mnames\u001b[0m\u001b[0;34m)\u001b[0m\u001b[0;34m\u001b[0m\u001b[0;34m\u001b[0m\u001b[0m\n\u001b[0m\u001b[1;32m    663\u001b[0m \u001b[0;34m\u001b[0m\u001b[0m\n\u001b[1;32m    664\u001b[0m     \u001b[0;31m# --------------------------------------------------------------------\u001b[0m\u001b[0;34m\u001b[0m\u001b[0;34m\u001b[0m\u001b[0;34m\u001b[0m\u001b[0m\n",
      "\u001b[0;32m~/.conda/envs/flash-hdf/lib/python3.8/site-packages/pandas/core/indexes/multi.py\u001b[0m in \u001b[0;36mfrom_arrays\u001b[0;34m(cls, arrays, sortorder, names)\u001b[0m\n\u001b[1;32m    460\u001b[0m                 \u001b[0;32mraise\u001b[0m \u001b[0mValueError\u001b[0m\u001b[0;34m(\u001b[0m\u001b[0;34m\"all arrays must be same length\"\u001b[0m\u001b[0;34m)\u001b[0m\u001b[0;34m\u001b[0m\u001b[0;34m\u001b[0m\u001b[0m\n\u001b[1;32m    461\u001b[0m \u001b[0;34m\u001b[0m\u001b[0m\n\u001b[0;32m--> 462\u001b[0;31m         \u001b[0mcodes\u001b[0m\u001b[0;34m,\u001b[0m \u001b[0mlevels\u001b[0m \u001b[0;34m=\u001b[0m \u001b[0mfactorize_from_iterables\u001b[0m\u001b[0;34m(\u001b[0m\u001b[0marrays\u001b[0m\u001b[0;34m)\u001b[0m\u001b[0;34m\u001b[0m\u001b[0;34m\u001b[0m\u001b[0m\n\u001b[0m\u001b[1;32m    463\u001b[0m         \u001b[0;32mif\u001b[0m \u001b[0mnames\u001b[0m \u001b[0;32mis\u001b[0m \u001b[0mlib\u001b[0m\u001b[0;34m.\u001b[0m\u001b[0mno_default\u001b[0m\u001b[0;34m:\u001b[0m\u001b[0;34m\u001b[0m\u001b[0;34m\u001b[0m\u001b[0m\n\u001b[1;32m    464\u001b[0m             \u001b[0mnames\u001b[0m \u001b[0;34m=\u001b[0m \u001b[0;34m[\u001b[0m\u001b[0mgetattr\u001b[0m\u001b[0;34m(\u001b[0m\u001b[0marr\u001b[0m\u001b[0;34m,\u001b[0m \u001b[0;34m\"name\"\u001b[0m\u001b[0;34m,\u001b[0m \u001b[0;32mNone\u001b[0m\u001b[0;34m)\u001b[0m \u001b[0;32mfor\u001b[0m \u001b[0marr\u001b[0m \u001b[0;32min\u001b[0m \u001b[0marrays\u001b[0m\u001b[0;34m]\u001b[0m\u001b[0;34m\u001b[0m\u001b[0;34m\u001b[0m\u001b[0m\n",
      "\u001b[0;32m~/.conda/envs/flash-hdf/lib/python3.8/site-packages/pandas/core/arrays/categorical.py\u001b[0m in \u001b[0;36mfactorize_from_iterables\u001b[0;34m(iterables)\u001b[0m\n\u001b[1;32m   2630\u001b[0m         \u001b[0;31m# For consistency, it should return a list of 2 lists.\u001b[0m\u001b[0;34m\u001b[0m\u001b[0;34m\u001b[0m\u001b[0;34m\u001b[0m\u001b[0m\n\u001b[1;32m   2631\u001b[0m         \u001b[0;32mreturn\u001b[0m \u001b[0;34m[\u001b[0m\u001b[0;34m[\u001b[0m\u001b[0;34m]\u001b[0m\u001b[0;34m,\u001b[0m \u001b[0;34m[\u001b[0m\u001b[0;34m]\u001b[0m\u001b[0;34m]\u001b[0m\u001b[0;34m\u001b[0m\u001b[0;34m\u001b[0m\u001b[0m\n\u001b[0;32m-> 2632\u001b[0;31m     \u001b[0;32mreturn\u001b[0m \u001b[0mmap\u001b[0m\u001b[0;34m(\u001b[0m\u001b[0mlist\u001b[0m\u001b[0;34m,\u001b[0m \u001b[0mzip\u001b[0m\u001b[0;34m(\u001b[0m\u001b[0;34m*\u001b[0m\u001b[0;34m(\u001b[0m\u001b[0mfactorize_from_iterable\u001b[0m\u001b[0;34m(\u001b[0m\u001b[0mit\u001b[0m\u001b[0;34m)\u001b[0m \u001b[0;32mfor\u001b[0m \u001b[0mit\u001b[0m \u001b[0;32min\u001b[0m \u001b[0miterables\u001b[0m\u001b[0;34m)\u001b[0m\u001b[0;34m)\u001b[0m\u001b[0;34m)\u001b[0m\u001b[0;34m\u001b[0m\u001b[0;34m\u001b[0m\u001b[0m\n\u001b[0m",
      "\u001b[0;32m~/.conda/envs/flash-hdf/lib/python3.8/site-packages/pandas/core/arrays/categorical.py\u001b[0m in \u001b[0;36m<genexpr>\u001b[0;34m(.0)\u001b[0m\n\u001b[1;32m   2630\u001b[0m         \u001b[0;31m# For consistency, it should return a list of 2 lists.\u001b[0m\u001b[0;34m\u001b[0m\u001b[0;34m\u001b[0m\u001b[0;34m\u001b[0m\u001b[0m\n\u001b[1;32m   2631\u001b[0m         \u001b[0;32mreturn\u001b[0m \u001b[0;34m[\u001b[0m\u001b[0;34m[\u001b[0m\u001b[0;34m]\u001b[0m\u001b[0;34m,\u001b[0m \u001b[0;34m[\u001b[0m\u001b[0;34m]\u001b[0m\u001b[0;34m]\u001b[0m\u001b[0;34m\u001b[0m\u001b[0;34m\u001b[0m\u001b[0m\n\u001b[0;32m-> 2632\u001b[0;31m     \u001b[0;32mreturn\u001b[0m \u001b[0mmap\u001b[0m\u001b[0;34m(\u001b[0m\u001b[0mlist\u001b[0m\u001b[0;34m,\u001b[0m \u001b[0mzip\u001b[0m\u001b[0;34m(\u001b[0m\u001b[0;34m*\u001b[0m\u001b[0;34m(\u001b[0m\u001b[0mfactorize_from_iterable\u001b[0m\u001b[0;34m(\u001b[0m\u001b[0mit\u001b[0m\u001b[0;34m)\u001b[0m \u001b[0;32mfor\u001b[0m \u001b[0mit\u001b[0m \u001b[0;32min\u001b[0m \u001b[0miterables\u001b[0m\u001b[0;34m)\u001b[0m\u001b[0;34m)\u001b[0m\u001b[0;34m)\u001b[0m\u001b[0;34m\u001b[0m\u001b[0;34m\u001b[0m\u001b[0m\n\u001b[0m",
      "\u001b[0;32m~/.conda/envs/flash-hdf/lib/python3.8/site-packages/pandas/core/arrays/categorical.py\u001b[0m in \u001b[0;36mfactorize_from_iterable\u001b[0;34m(values)\u001b[0m\n\u001b[1;32m   2602\u001b[0m         \u001b[0;31m# but only the resulting categories, the order of which is independent\u001b[0m\u001b[0;34m\u001b[0m\u001b[0;34m\u001b[0m\u001b[0;34m\u001b[0m\u001b[0m\n\u001b[1;32m   2603\u001b[0m         \u001b[0;31m# from ordered. Set ordered to False as default. See GH #15457\u001b[0m\u001b[0;34m\u001b[0m\u001b[0;34m\u001b[0m\u001b[0;34m\u001b[0m\u001b[0m\n\u001b[0;32m-> 2604\u001b[0;31m         \u001b[0mcat\u001b[0m \u001b[0;34m=\u001b[0m \u001b[0mCategorical\u001b[0m\u001b[0;34m(\u001b[0m\u001b[0mvalues\u001b[0m\u001b[0;34m,\u001b[0m \u001b[0mordered\u001b[0m\u001b[0;34m=\u001b[0m\u001b[0;32mFalse\u001b[0m\u001b[0;34m)\u001b[0m\u001b[0;34m\u001b[0m\u001b[0;34m\u001b[0m\u001b[0m\n\u001b[0m\u001b[1;32m   2605\u001b[0m         \u001b[0mcategories\u001b[0m \u001b[0;34m=\u001b[0m \u001b[0mcat\u001b[0m\u001b[0;34m.\u001b[0m\u001b[0mcategories\u001b[0m\u001b[0;34m\u001b[0m\u001b[0;34m\u001b[0m\u001b[0m\n\u001b[1;32m   2606\u001b[0m         \u001b[0mcodes\u001b[0m \u001b[0;34m=\u001b[0m \u001b[0mcat\u001b[0m\u001b[0;34m.\u001b[0m\u001b[0mcodes\u001b[0m\u001b[0;34m\u001b[0m\u001b[0;34m\u001b[0m\u001b[0m\n",
      "\u001b[0;32m~/.conda/envs/flash-hdf/lib/python3.8/site-packages/pandas/core/arrays/categorical.py\u001b[0m in \u001b[0;36m__init__\u001b[0;34m(self, values, categories, ordered, dtype, fastpath)\u001b[0m\n\u001b[1;32m    340\u001b[0m                 \u001b[0mcodes\u001b[0m\u001b[0;34m,\u001b[0m \u001b[0mcategories\u001b[0m \u001b[0;34m=\u001b[0m \u001b[0mfactorize\u001b[0m\u001b[0;34m(\u001b[0m\u001b[0mvalues\u001b[0m\u001b[0;34m,\u001b[0m \u001b[0msort\u001b[0m\u001b[0;34m=\u001b[0m\u001b[0;32mTrue\u001b[0m\u001b[0;34m)\u001b[0m\u001b[0;34m\u001b[0m\u001b[0;34m\u001b[0m\u001b[0m\n\u001b[1;32m    341\u001b[0m             \u001b[0;32mexcept\u001b[0m \u001b[0mTypeError\u001b[0m \u001b[0;32mas\u001b[0m \u001b[0merr\u001b[0m\u001b[0;34m:\u001b[0m\u001b[0;34m\u001b[0m\u001b[0;34m\u001b[0m\u001b[0m\n\u001b[0;32m--> 342\u001b[0;31m                 \u001b[0mcodes\u001b[0m\u001b[0;34m,\u001b[0m \u001b[0mcategories\u001b[0m \u001b[0;34m=\u001b[0m \u001b[0mfactorize\u001b[0m\u001b[0;34m(\u001b[0m\u001b[0mvalues\u001b[0m\u001b[0;34m,\u001b[0m \u001b[0msort\u001b[0m\u001b[0;34m=\u001b[0m\u001b[0;32mFalse\u001b[0m\u001b[0;34m)\u001b[0m\u001b[0;34m\u001b[0m\u001b[0;34m\u001b[0m\u001b[0m\n\u001b[0m\u001b[1;32m    343\u001b[0m                 \u001b[0;32mif\u001b[0m \u001b[0mdtype\u001b[0m\u001b[0;34m.\u001b[0m\u001b[0mordered\u001b[0m\u001b[0;34m:\u001b[0m\u001b[0;34m\u001b[0m\u001b[0;34m\u001b[0m\u001b[0m\n\u001b[1;32m    344\u001b[0m                     \u001b[0;31m# raise, as we don't have a sortable data structure and so\u001b[0m\u001b[0;34m\u001b[0m\u001b[0;34m\u001b[0m\u001b[0;34m\u001b[0m\u001b[0m\n",
      "\u001b[0;32m~/.conda/envs/flash-hdf/lib/python3.8/site-packages/pandas/core/algorithms.py\u001b[0m in \u001b[0;36mfactorize\u001b[0;34m(values, sort, na_sentinel, size_hint)\u001b[0m\n\u001b[1;32m    720\u001b[0m             \u001b[0mna_value\u001b[0m \u001b[0;34m=\u001b[0m \u001b[0;32mNone\u001b[0m\u001b[0;34m\u001b[0m\u001b[0;34m\u001b[0m\u001b[0m\n\u001b[1;32m    721\u001b[0m \u001b[0;34m\u001b[0m\u001b[0m\n\u001b[0;32m--> 722\u001b[0;31m         codes, uniques = factorize_array(\n\u001b[0m\u001b[1;32m    723\u001b[0m             \u001b[0mvalues\u001b[0m\u001b[0;34m,\u001b[0m \u001b[0mna_sentinel\u001b[0m\u001b[0;34m=\u001b[0m\u001b[0mna_sentinel\u001b[0m\u001b[0;34m,\u001b[0m \u001b[0msize_hint\u001b[0m\u001b[0;34m=\u001b[0m\u001b[0msize_hint\u001b[0m\u001b[0;34m,\u001b[0m \u001b[0mna_value\u001b[0m\u001b[0;34m=\u001b[0m\u001b[0mna_value\u001b[0m\u001b[0;34m\u001b[0m\u001b[0;34m\u001b[0m\u001b[0m\n\u001b[1;32m    724\u001b[0m         )\n",
      "\u001b[0;32m~/.conda/envs/flash-hdf/lib/python3.8/site-packages/pandas/core/algorithms.py\u001b[0m in \u001b[0;36mfactorize_array\u001b[0;34m(values, na_sentinel, size_hint, na_value, mask)\u001b[0m\n\u001b[1;32m    526\u001b[0m \u001b[0;34m\u001b[0m\u001b[0m\n\u001b[1;32m    527\u001b[0m     \u001b[0mtable\u001b[0m \u001b[0;34m=\u001b[0m \u001b[0mhash_klass\u001b[0m\u001b[0;34m(\u001b[0m\u001b[0msize_hint\u001b[0m \u001b[0;32mor\u001b[0m \u001b[0mlen\u001b[0m\u001b[0;34m(\u001b[0m\u001b[0mvalues\u001b[0m\u001b[0;34m)\u001b[0m\u001b[0;34m)\u001b[0m\u001b[0;34m\u001b[0m\u001b[0;34m\u001b[0m\u001b[0m\n\u001b[0;32m--> 528\u001b[0;31m     uniques, codes = table.factorize(\n\u001b[0m\u001b[1;32m    529\u001b[0m         \u001b[0mvalues\u001b[0m\u001b[0;34m,\u001b[0m \u001b[0mna_sentinel\u001b[0m\u001b[0;34m=\u001b[0m\u001b[0mna_sentinel\u001b[0m\u001b[0;34m,\u001b[0m \u001b[0mna_value\u001b[0m\u001b[0;34m=\u001b[0m\u001b[0mna_value\u001b[0m\u001b[0;34m,\u001b[0m \u001b[0mmask\u001b[0m\u001b[0;34m=\u001b[0m\u001b[0mmask\u001b[0m\u001b[0;34m\u001b[0m\u001b[0;34m\u001b[0m\u001b[0m\n\u001b[1;32m    530\u001b[0m     )\n",
      "\u001b[0;32mpandas/_libs/hashtable_class_helper.pxi\u001b[0m in \u001b[0;36mpandas._libs.hashtable.PyObjectHashTable.factorize\u001b[0;34m()\u001b[0m\n",
      "\u001b[0;32mpandas/_libs/hashtable_class_helper.pxi\u001b[0m in \u001b[0;36mpandas._libs.hashtable.PyObjectHashTable._unique\u001b[0;34m()\u001b[0m\n",
      "\u001b[0;31mTypeError\u001b[0m: unhashable type: 'numpy.ndarray'"
     ]
    }
   ],
   "source": [
    "df_multiindex = pd.MultiIndex.from_frame(df)"
   ]
  },
  {
   "cell_type": "code",
   "execution_count": 157,
   "metadata": {},
   "outputs": [],
   "source": [
    "df['TrainId'] = df.index"
   ]
  },
  {
   "cell_type": "code",
   "execution_count": 158,
   "metadata": {},
   "outputs": [],
   "source": [
    "df_ = df[['dldMicrobunchId','TrainId']].explode('dldMicrobunchId')"
   ]
  },
  {
   "cell_type": "code",
   "execution_count": 160,
   "metadata": {},
   "outputs": [],
   "source": [
    "df_['newindex'] = df_.dldMicrobunchId/1000+df_.TrainId"
   ]
  },
  {
   "cell_type": "code",
   "execution_count": 163,
   "metadata": {},
   "outputs": [],
   "source": [
    "df_final = df_.set_index(df_.dldMicrobunchId/1000+df_.TrainId)"
   ]
  },
  {
   "cell_type": "code",
   "execution_count": 170,
   "metadata": {},
   "outputs": [
    {
     "ename": "TypeError",
     "evalue": "'Series' objects are mutable, thus they cannot be hashed",
     "output_type": "error",
     "traceback": [
      "\u001b[0;31m---------------------------------------------------------------------------\u001b[0m",
      "\u001b[0;31mTypeError\u001b[0m                                 Traceback (most recent call last)",
      "\u001b[0;32m<ipython-input-170-e94b6f31972f>\u001b[0m in \u001b[0;36m<module>\u001b[0;34m\u001b[0m\n\u001b[0;32m----> 1\u001b[0;31m \u001b[0mdf_final\u001b[0m\u001b[0;34m.\u001b[0m\u001b[0mwhere\u001b[0m\u001b[0;34m(\u001b[0m\u001b[0mdf_final\u001b[0m\u001b[0;34m.\u001b[0m\u001b[0mdldMicrobunchId\u001b[0m\u001b[0;34m<\u001b[0m\u001b[0;36m1000\u001b[0m\u001b[0;34m)\u001b[0m\u001b[0;34m.\u001b[0m\u001b[0mdropna\u001b[0m\u001b[0;34m(\u001b[0m\u001b[0mdf_final\u001b[0m\u001b[0;34m.\u001b[0m\u001b[0mdldMicrobunchId\u001b[0m\u001b[0;34m)\u001b[0m\u001b[0;34m\u001b[0m\u001b[0;34m\u001b[0m\u001b[0m\n\u001b[0m",
      "\u001b[0;32m~/.conda/envs/flash-hdf/lib/python3.8/site-packages/pandas/core/frame.py\u001b[0m in \u001b[0;36mdropna\u001b[0;34m(self, axis, how, thresh, subset, inplace)\u001b[0m\n\u001b[1;32m   5151\u001b[0m             \u001b[0;32mraise\u001b[0m \u001b[0mTypeError\u001b[0m\u001b[0;34m(\u001b[0m\u001b[0;34m\"supplying multiple axes to axis is no longer supported.\"\u001b[0m\u001b[0;34m)\u001b[0m\u001b[0;34m\u001b[0m\u001b[0;34m\u001b[0m\u001b[0m\n\u001b[1;32m   5152\u001b[0m \u001b[0;34m\u001b[0m\u001b[0m\n\u001b[0;32m-> 5153\u001b[0;31m         \u001b[0maxis\u001b[0m \u001b[0;34m=\u001b[0m \u001b[0mself\u001b[0m\u001b[0;34m.\u001b[0m\u001b[0m_get_axis_number\u001b[0m\u001b[0;34m(\u001b[0m\u001b[0maxis\u001b[0m\u001b[0;34m)\u001b[0m\u001b[0;34m\u001b[0m\u001b[0;34m\u001b[0m\u001b[0m\n\u001b[0m\u001b[1;32m   5154\u001b[0m         \u001b[0magg_axis\u001b[0m \u001b[0;34m=\u001b[0m \u001b[0;36m1\u001b[0m \u001b[0;34m-\u001b[0m \u001b[0maxis\u001b[0m\u001b[0;34m\u001b[0m\u001b[0;34m\u001b[0m\u001b[0m\n\u001b[1;32m   5155\u001b[0m \u001b[0;34m\u001b[0m\u001b[0m\n",
      "\u001b[0;32m~/.conda/envs/flash-hdf/lib/python3.8/site-packages/pandas/core/generic.py\u001b[0m in \u001b[0;36m_get_axis_number\u001b[0;34m(cls, axis)\u001b[0m\n\u001b[1;32m    458\u001b[0m     \u001b[0;32mdef\u001b[0m \u001b[0m_get_axis_number\u001b[0m\u001b[0;34m(\u001b[0m\u001b[0mcls\u001b[0m\u001b[0;34m,\u001b[0m \u001b[0maxis\u001b[0m\u001b[0;34m:\u001b[0m \u001b[0mAxis\u001b[0m\u001b[0;34m)\u001b[0m \u001b[0;34m->\u001b[0m \u001b[0mint\u001b[0m\u001b[0;34m:\u001b[0m\u001b[0;34m\u001b[0m\u001b[0;34m\u001b[0m\u001b[0m\n\u001b[1;32m    459\u001b[0m         \u001b[0;32mtry\u001b[0m\u001b[0;34m:\u001b[0m\u001b[0;34m\u001b[0m\u001b[0;34m\u001b[0m\u001b[0m\n\u001b[0;32m--> 460\u001b[0;31m             \u001b[0;32mreturn\u001b[0m \u001b[0mcls\u001b[0m\u001b[0;34m.\u001b[0m\u001b[0m_AXIS_TO_AXIS_NUMBER\u001b[0m\u001b[0;34m[\u001b[0m\u001b[0maxis\u001b[0m\u001b[0;34m]\u001b[0m\u001b[0;34m\u001b[0m\u001b[0;34m\u001b[0m\u001b[0m\n\u001b[0m\u001b[1;32m    461\u001b[0m         \u001b[0;32mexcept\u001b[0m \u001b[0mKeyError\u001b[0m\u001b[0;34m:\u001b[0m\u001b[0;34m\u001b[0m\u001b[0;34m\u001b[0m\u001b[0m\n\u001b[1;32m    462\u001b[0m             \u001b[0;32mraise\u001b[0m \u001b[0mValueError\u001b[0m\u001b[0;34m(\u001b[0m\u001b[0;34mf\"No axis named {axis} for object type {cls.__name__}\"\u001b[0m\u001b[0;34m)\u001b[0m\u001b[0;34m\u001b[0m\u001b[0;34m\u001b[0m\u001b[0m\n",
      "\u001b[0;32m~/.conda/envs/flash-hdf/lib/python3.8/site-packages/pandas/core/generic.py\u001b[0m in \u001b[0;36m__hash__\u001b[0;34m(self)\u001b[0m\n\u001b[1;32m   1783\u001b[0m \u001b[0;34m\u001b[0m\u001b[0m\n\u001b[1;32m   1784\u001b[0m     \u001b[0;32mdef\u001b[0m \u001b[0m__hash__\u001b[0m\u001b[0;34m(\u001b[0m\u001b[0mself\u001b[0m\u001b[0;34m)\u001b[0m \u001b[0;34m->\u001b[0m \u001b[0mint\u001b[0m\u001b[0;34m:\u001b[0m\u001b[0;34m\u001b[0m\u001b[0;34m\u001b[0m\u001b[0m\n\u001b[0;32m-> 1785\u001b[0;31m         raise TypeError(\n\u001b[0m\u001b[1;32m   1786\u001b[0m             \u001b[0;34mf\"{repr(type(self).__name__)} objects are mutable, \"\u001b[0m\u001b[0;34m\u001b[0m\u001b[0;34m\u001b[0m\u001b[0m\n\u001b[1;32m   1787\u001b[0m             \u001b[0;34mf\"thus they cannot be hashed\"\u001b[0m\u001b[0;34m\u001b[0m\u001b[0;34m\u001b[0m\u001b[0m\n",
      "\u001b[0;31mTypeError\u001b[0m: 'Series' objects are mutable, thus they cannot be hashed"
     ]
    }
   ],
   "source": [
    "df_final.where(df_final.dldMicrobunchId<1000)"
   ]
  },
  {
   "cell_type": "code",
   "execution_count": 134,
   "metadata": {},
   "outputs": [
    {
     "ename": "TypeError",
     "evalue": "concat() got an unexpected keyword argument 'index'",
     "output_type": "error",
     "traceback": [
      "\u001b[0;31m---------------------------------------------------------------------------\u001b[0m",
      "\u001b[0;31mTypeError\u001b[0m                                 Traceback (most recent call last)",
      "\u001b[0;32m<ipython-input-134-cd0c51868801>\u001b[0m in \u001b[0;36m<module>\u001b[0;34m\u001b[0m\n\u001b[1;32m      2\u001b[0m \u001b[0;32mfor\u001b[0m \u001b[0mcol\u001b[0m \u001b[0;32min\u001b[0m \u001b[0mdf\u001b[0m\u001b[0;34m.\u001b[0m\u001b[0mcolumns\u001b[0m\u001b[0;34m:\u001b[0m\u001b[0;34m\u001b[0m\u001b[0;34m\u001b[0m\u001b[0m\n\u001b[1;32m      3\u001b[0m     \u001b[0mnewcols\u001b[0m\u001b[0;34m.\u001b[0m\u001b[0mappend\u001b[0m\u001b[0;34m(\u001b[0m\u001b[0mdf\u001b[0m\u001b[0;34m[\u001b[0m\u001b[0mcol\u001b[0m\u001b[0;34m]\u001b[0m\u001b[0;34m.\u001b[0m\u001b[0mexplode\u001b[0m\u001b[0;34m(\u001b[0m\u001b[0mcol\u001b[0m\u001b[0;34m)\u001b[0m\u001b[0;34m)\u001b[0m\u001b[0;34m\u001b[0m\u001b[0;34m\u001b[0m\u001b[0m\n\u001b[0;32m----> 4\u001b[0;31m \u001b[0mdf_electrons\u001b[0m \u001b[0;34m=\u001b[0m \u001b[0mpd\u001b[0m\u001b[0;34m.\u001b[0m\u001b[0mconcat\u001b[0m\u001b[0;34m(\u001b[0m\u001b[0mnewcols\u001b[0m\u001b[0;34m,\u001b[0m\u001b[0maxis\u001b[0m\u001b[0;34m=\u001b[0m\u001b[0;36m1\u001b[0m\u001b[0;34m,\u001b[0m\u001b[0mindex\u001b[0m\u001b[0;34m=\u001b[0m\u001b[0mnewcols\u001b[0m\u001b[0;34m[\u001b[0m\u001b[0;36m0\u001b[0m\u001b[0;34m]\u001b[0m\u001b[0;34m.\u001b[0m\u001b[0mindex\u001b[0m\u001b[0;34m)\u001b[0m\u001b[0;34m\u001b[0m\u001b[0;34m\u001b[0m\u001b[0m\n\u001b[0m",
      "\u001b[0;31mTypeError\u001b[0m: concat() got an unexpected keyword argument 'index'"
     ]
    }
   ],
   "source": [
    "newcols = []\n",
    "for col in df.columns:\n",
    "    if col == 'dldMicrobunchId'\n",
    "        newcols.append(df[[col,'index']].explode(col))\n",
    "                          \n",
    "df_electrons = pd.concat(newcols,axis=1)"
   ]
  },
  {
   "cell_type": "code",
   "execution_count": null,
   "metadata": {},
   "outputs": [],
   "source": [
    "df_electrons"
   ]
  },
  {
   "cell_type": "code",
   "execution_count": 67,
   "metadata": {
    "collapsed": true
   },
   "outputs": [
    {
     "data": {
      "text/plain": [
       "array([0.0649041 , 0.31345043, 0.18641073, 0.08891681, 0.19820084,\n",
       "       0.2695036 , 0.23108567, 0.11670914, 0.24287583, 0.23399602,\n",
       "       0.21668072, 0.2500059 , 0.28332737, 0.25335258, 0.28245437,\n",
       "       0.17229752, 0.17186089, 0.264266  , 0.2764888 , 0.34357554,\n",
       "       0.2756158 , 0.1527998 , 0.29162568, 0.30806798, 0.1514904 ,\n",
       "       0.10885299, 0.1590571 , 0.18816231, 0.09910413, 0.19994873,\n",
       "       0.26281178, 0.29613695, 0.22818115, 0.30792314, 0.31170648,\n",
       "       0.180451  , 0.05341154, 0.16269535, 0.33106306, 0.16182257,\n",
       "       0.23312882, 0.3086513 , 0.08033457, 0.42593843, 0.2693606 ,\n",
       "       0.27314764, 0.1587674 , 0.14145185, 0.1452352 , 0.09415832,\n",
       "       0.        , 0.06374349, 0.22367173, 0.35405442, 0.08775619,\n",
       "       0.16750212, 0.27256644, 0.19616745, 0.17885192, 0.2037339 ,\n",
       "       0.2919193 , 0.28304324, 0.31636837, 0.34968984, 0.27751434,\n",
       "       0.28129745, 0.36526307, 0.2973036 , 0.43190953, 0.55385274,\n",
       "       0.46901798, 0.28289863, 0.26558304, 0.5056862 , 0.27736947,\n",
       "       0.23473184, 0.3060346 , 0.26762062, 0.10682332, 0.24564523,\n",
       "       0.30851227, 0.3502732 , 0.3287379 , 0.33674097, 0.5599652 ,\n",
       "       0.34852737, 0.35653397, 0.22527476, 0.31767985, 0.35100114,\n",
       "       0.39698547, 0.07160751, 0.39611268, 0.13403419, 0.23065904,\n",
       "       0.5087472 , 0.27198705, 0.5289728 , 0.3681755 , 0.3635194 ,\n",
       "       0.35886303, 0.341544  , 0.27358824, 0.17187063, 0.33179516,\n",
       "       0.2933775 , 0.28450137, 0.26718608, 0.48197088, 0.27475277,\n",
       "       0.45577943, 0.37516075, 0.4253648 , 0.10420638, 0.36119214,\n",
       "       0.21727376, 0.44894114, 0.5075845 , 0.46916676, 0.41387022,\n",
       "       0.32903153, 0.32437545, 0.5054023 , 0.2686424 , 0.2555466 ,\n",
       "       0.47033137, 0.21669254, 0.47367808, 0.48168117, 0.2997852 ,\n",
       "       0.28668958, 0.36221185, 0.2984758 , 0.3106986 , 0.3018225 ,\n",
       "       0.39844736, 0.4824093 , 0.2709715 , 0.4140169 , 0.1899199 ,\n",
       "       0.3962652 , 0.40848777, 0.47557077, 0.48357388, 0.2088364 ,\n",
       "       0.2379416 , 0.34722564, 0.1695457 , 0.3041516 , 0.27417338,\n",
       "       0.36235878, 0.29018325, 0.3783647 , 0.35260993, 0.34795383,\n",
       "       0.3306383 , 0.32598215, 0.36352336, 0.28290835, 0.40907106,\n",
       "       0.30735373, 0.24361765, 0.2263021 , 0.27228647, 0.28028953,\n",
       "       0.38535362, 0.4946377 , 0.3254009 , 0.34184343, 0.42580885,\n",
       "       0.23546973, 0.6654756 , 0.42027628, 0.30589947, 0.39408487,\n",
       "       0.4105274 , 0.27505195, 0.36745337, 0.3290394 , 0.38768274,\n",
       "       0.31128374, 0.25176743, 0.45811272, 0.41547507, 0.45302   ,\n",
       "       0.4146023 , 0.43526804, 0.43061194, 0.2993527 , 0.39597762,\n",
       "       0.29004025, 0.36134303, 0.41577056, 0.2001091 , 0.42755675,\n",
       "       0.3173999 , 0.36338428, 0.35028479, 0.50598955, 0.35785145,\n",
       "       0.27723625, 0.45403972, 0.310125  , 0.3603291 , 0.22906968,\n",
       "       0.37633502, 0.32947788, 0.42188275, 0.34970352, 0.5602723 ,\n",
       "       0.4627746 , 0.28509447, 0.47878054, 0.35596454, 0.5538664 ,\n",
       "       0.5703127 , 0.5994144 , 0.48925757, 0.40864232, 0.42086515,\n",
       "       0.34446618, 0.4832918 , 0.5419354 , 0.499298  , 0.46932346,\n",
       "       0.43512535, 0.4431284 , 0.4680141 , 0.47601697, 0.50090265,\n",
       "       0.45404547, 0.3649873 , 0.34767178, 0.41897455, 0.34679902,\n",
       "       0.6417621 , 0.5400448 , 0.5649305 , 0.50541395, 0.40791628,\n",
       "       0.4243588 , 0.47878262, 0.52476674, 0.48634914, 0.3550936 ,\n",
       "       0.3673162 , 0.35844034, 0.37488288, 0.4208672 , 0.43730953,\n",
       "       0.44953606, 0.43643677, 0.5583835 , 0.35538515, 0.35494873,\n",
       "       0.434691  , 0.5439785 , 0.5013411 , 0.39962372, 0.41184628,\n",
       "       0.36498916, 0.3814317 , 0.40631738, 0.46918043, 0.7430489 ,\n",
       "       0.4725274 , 0.5438337 , 0.53073436, 0.6273593 , 0.5720626 ,\n",
       "       0.40704536, 0.38551033, 0.37663072, 0.30023524, 0.42639822,\n",
       "       0.18964204, 0.46350673, 0.3828915 , 0.25585204, 0.36935583,\n",
       "       0.2845209 , 0.38114572, 0.46088794, 0.3971519 , 0.46423465,\n",
       "       0.39627886, 0.40850165, 0.37008375, 0.38231027, 0.43251434,\n",
       "       0.3814375 , 0.45274   , 0.47762576, 0.45186725, 0.4345517 ,\n",
       "       0.45099425, 0.5729412 , 0.6273649 , 0.30620286, 0.3226491 ,\n",
       "       0.55431277, 0.3766363 , 0.2875781 , 0.32934275, 0.33734584,\n",
       "       0.42975077, 0.31959394, 0.6018981 , 0.37780088, 0.3815842 ,\n",
       "       0.3811478 , 0.41447276, 0.5321962 , 0.70899975, 0.47646323,\n",
       "       0.40006405, 0.52623075, 0.30634978, 0.43251625, 0.52492136,\n",
       "       0.4738445 , 0.32570636, 0.46453202, 0.40079224, 0.40035585,\n",
       "       0.5982615 , 0.34884235, 0.24712497, 0.45347032, 0.42349556,\n",
       "       0.23315641, 0.48592243, 0.47282663, 0.3246885 , 0.48883277,\n",
       "       0.33647493, 0.6230023 , 0.36092404, 0.588368  , 0.38114968,\n",
       "       0.32163334, 0.363398  , 0.39671943, 0.59884477, 0.55199134,\n",
       "       0.50935394, 0.49203467, 0.20041825, 0.43630162, 0.40632713,\n",
       "       0.48184943, 0.41389364, 0.48097667, 0.3919182 , 0.56450564,\n",
       "       0.43324646, 0.43280986, 0.36063433, 0.5289983 , 0.35554183,\n",
       "       0.38886306, 0.409529  , 0.42597157, 0.29893583, 0.35757914,\n",
       "       0.5175037 , 0.30184612, 0.36470923, 0.22079083, 0.53685653,\n",
       "       0.40560085, 0.39250523, 0.24858686, 0.21860865, 0.42073402,\n",
       "       0.39075947, 0.27637923, 0.50382686, 0.2755062 , 0.2202096 ,\n",
       "       0.41389573, 0.42611825, 0.45100397, 0.34928662, 0.36150917,\n",
       "       0.2977731 , 0.48301974, 0.41506022, 0.35976338, 0.46904743,\n",
       "       0.39687192, 0.5272544 , 0.4170976 , 0.3533615 , 0.35714486,\n",
       "       0.3145072 , 0.3014116 , 0.3347368 , 0.19081816, 0.36340192,\n",
       "       0.46846622, 0.20638794, 0.31567174, 0.28991696, 0.47516358,\n",
       "       0.4916059 , 0.47006714, 0.18267047, 0.17801437, 0.3927989 ,\n",
       "       0.18558082, 0.29064512, 0.484331  , 0.27711293, 0.2597939 ,\n",
       "       0.32688063, 0.27580354, 0.37242836, 0.30446887, 0.19431181,\n",
       "       0.2782775 , 0.32848158, 0.37868568, 0.437329  , 0.25542936,\n",
       "       0.20857589, 0.25033662, 0.4187043 , 0.41404817, 0.29966772,\n",
       "       0.3245534 , 0.2987949 , 0.35321876, 0.25572088, 0.4283083 ,\n",
       "       0.24218889, 0.35569268, 0.32571796, 0.4476612 , 0.32906488,\n",
       "       0.34972697, 0.38305208, 0.4037144 , 0.31043994, 0.49990264,\n",
       "       0.36864716, 0.3471084 , 0.28337204, 0.5487973 , 0.40910238,\n",
       "       0.12170199, 0.2689671 , 0.32339093, 0.52129674, 0.22545668,\n",
       "       0.4529043 , 0.19082235, 0.3212085 , 0.5191144 , 0.36675653,\n",
       "       0.20595919, 0.18863994, 0.34856817, 0.42409065, 0.30549413,\n",
       "       0.29239488, 0.26242036, 0.29574552, 0.3037484 , 0.2906491 ,\n",
       "       0.46745625, 0.35307944, 0.21760052, 0.34376723, 0.42772916,\n",
       "       0.41885307, 0.29181734, 0.2744983 , 0.31204298, 0.26940557,\n",
       "       0.23520762, 0.17569129, 0.32295638, 0.51242274, 0.28410235,\n",
       "       0.31320754, 0.17772861, 0.29123613, 0.40473986, 0.27348047,\n",
       "       0.1591039 , 0.14600833, 0.17510982, 0.3476973 , 0.33460164,\n",
       "       0.30462345, 0.12272355, 0.        , 0.39193586], dtype=float32)"
      ]
     },
     "execution_count": 67,
     "metadata": {},
     "output_type": "execute_result"
    }
   ],
   "source": [
    "df_interval.gmdBda[914989700]"
   ]
  },
  {
   "cell_type": "code",
   "execution_count": 66,
   "metadata": {
    "collapsed": true
   },
   "outputs": [
    {
     "data": {
      "text/plain": [
       "array([  8.,   8.,   9.,   9.,   9.,   9.,  15.,  15.,  17.,  17.,  20.,\n",
       "        20.,  21.,  21.,  26.,  26.,  33.,  33.,  39.,  39.,  40.,  40.,\n",
       "        43.,  45.,  45.,  45.,  46.,  46.,  46.,  46.,  46.,  46.,  46.,\n",
       "        46.,  50.,  53.,  53.,  56.,  56.,  57.,  57.,  58.,  58.,  58.,\n",
       "        58.,  60.,  60.,  60.,  60.,  60.,  66.,  66.,  66.,  68.,  68.,\n",
       "        68.,  68.,  68.,  68.,  68.,  68.,  71.,  71.,  72.,  72.,  78.,\n",
       "        78.,  79.,  79.,  80.,  80.,  86.,  86.,  87.,  87.,  87.,  87.,\n",
       "        88.,  88.,  90.,  90.,  91.,  91.,  95.,  95.,  96.,  96.,  97.,\n",
       "        98.,  98.,  98.,  99.,  99., 100., 100., 103., 103., 108., 108.,\n",
       "       108., 108., 109., 109., 112., 112., 112., 115., 115., 115., 115.,\n",
       "       116., 116., 119., 119., 124., 124., 125., 125., 125., 126., 126.,\n",
       "       129., 129., 129., 131., 131., 131., 131., 131., 132., 132., 139.,\n",
       "       139., 142., 142., 146., 146., 151., 151., 154., 154., 161., 161.,\n",
       "       162., 162., 162., 163., 163., 168., 168., 169., 169., 169., 169.,\n",
       "       174., 174., 174., 175., 175., 176., 176., 176., 176., 177., 177.,\n",
       "       178., 178., 179., 179., 179., 179., 184., 184., 185., 185., 186.,\n",
       "       186., 187., 187., 188., 188., 189., 189., 189., 189., 189., 189.,\n",
       "       193., 193., 193., 194., 194., 195., 195., 195., 195., 195., 195.,\n",
       "       196., 196., 197., 197., 197., 197., 198., 198., 198., 198., 198.,\n",
       "       198., 202., 202., 202., 202., 205., 205., 207., 207., 207., 208.,\n",
       "       209., 209., 210., 210., 210., 212., 212., 212., 212., 215., 215.,\n",
       "       220., 220., 223., 223., 224., 224., 226., 226., 227., 229., 229.,\n",
       "       230., 230., 230., 230., 232., 232., 233., 233., 233., 233., 237.,\n",
       "       237., 238., 238., 238., 238., 238., 239., 239., 239., 239., 241.,\n",
       "       241., 243., 243., 245., 245., 246., 246., 251., 251., 252., 252.,\n",
       "       253., 253., 254., 254., 254., 254., 254., 254., 254., 254., 256.,\n",
       "       256., 257., 257., 263., 263., 263., 263., 264., 264., 264., 264.,\n",
       "       268., 268., 270., 270., 271., 271., 272., 272., 272., 272., 272.,\n",
       "       272., 276., 276., 280., 280., 282., 282., 287., 287., 287., 287.,\n",
       "       289., 289., 291., 291., 291., 291., 297., 297., 299., 299., 299.,\n",
       "       299., 305., 305., 306., 306., 308., 308., 310., 310., 311., 311.,\n",
       "       311., 311., 314., 314., 315., 315., 315., 315., 315., 316., 316.,\n",
       "       316., 316., 316., 317., 317., 317., 317., 319., 322., 322., 323.,\n",
       "       323., 324., 324., 331., 332., 332., 332., 332., 333., 333., 335.,\n",
       "       335., 336., 336., 336., 336., 338., 338., 341., 341., 342., 342.,\n",
       "       346., 346., 346., 346., 348., 348., 352., 352., 353., 353., 355.,\n",
       "       355., 355., 355., 355., 355., 355., 355., 363., 363., 364., 364.,\n",
       "       366., 366., 367., 367., 369., 369., 370., 370., 375., 375., 376.,\n",
       "       376., 377., 377., 378., 378., 378., 378., 378., 381., 381., 386.,\n",
       "       387., 387., 387., 387., 388., 388., 390., 390., 392., 392., 393.,\n",
       "       393., 393., 393., 397., 397., 398., 398., 399., 399., 399., 399.,\n",
       "       399., 399., 399., 400., 400., 401., 401., 408., 408., 409., 409.,\n",
       "       411., 411., 413., 413., 413., 413., 413., 413., 413., 413., 414.,\n",
       "       414., 417., 417., 417., 417., 417., 422., 422., 424., 426., 428.,\n",
       "       428., 433., 433., 436., 436., 439., 439., 439., 439., 441., 441.,\n",
       "       445., 445., 448., 448., 455., 455., 462., 462., 463., 463., 468.,\n",
       "       468., 468., 468.,   0.,   0.,   0.,   0.,   0.,   0.,   0.,   0.,\n",
       "         0.,   0.,   0.,   0.,   0.,   0.,   0.,   0.,   0.,   0.,  nan,\n",
       "        nan,  nan,  nan,  nan,  nan,  nan,  nan,  nan,  nan,  nan,  nan,\n",
       "        nan,  nan,  nan,  nan,  nan,  nan,  nan,  nan,  nan,  nan,  nan,\n",
       "        nan,  nan,  nan,  nan,  nan,  nan,  nan,  nan,  nan,  nan,  nan,\n",
       "        nan,  nan,  nan,  nan,  nan,  nan,  nan,  nan,  nan,  nan,  nan,\n",
       "        nan,  nan,  nan,  nan,  nan,  nan,  nan,  nan,  nan,  nan,  nan,\n",
       "        nan,  nan,  nan,  nan,  nan,  nan,  nan,  nan,  nan,  nan,  nan,\n",
       "        nan,  nan,  nan,  nan,  nan,  nan,  nan,  nan,  nan,  nan,  nan,\n",
       "        nan,  nan,  nan,  nan,  nan,  nan,  nan,  nan,  nan,  nan,  nan,\n",
       "        nan,  nan,  nan,  nan,  nan,  nan,  nan,  nan,  nan,  nan,  nan,\n",
       "        nan,  nan,  nan,  nan,  nan,  nan,  nan,  nan,  nan,  nan,  nan,\n",
       "        nan,  nan,  nan,  nan,  nan,  nan,  nan,  nan,  nan,  nan,  nan,\n",
       "        nan,  nan,  nan,  nan,  nan,  nan,  nan,  nan,  nan,  nan,  nan,\n",
       "        nan,  nan,  nan,  nan,  nan,  nan,  nan,  nan,  nan,  nan,  nan,\n",
       "        nan,  nan,  nan,  nan,  nan,  nan,  nan,  nan,  nan,  nan,  nan,\n",
       "        nan,  nan,  nan,  nan,  nan,  nan,  nan,  nan,  nan,  nan,  nan,\n",
       "        nan,  nan,  nan,  nan,  nan,  nan,  nan,  nan,  nan,  nan,  nan,\n",
       "        nan,  nan,  nan,  nan,  nan,  nan,  nan,  nan,  nan,  nan,  nan,\n",
       "        nan,  nan,  nan,  nan,  nan,  nan,  nan,  nan,  nan,  nan,  nan,\n",
       "        nan,  nan,  nan,  nan,  nan,  nan,  nan,  nan,  nan,  nan,  nan,\n",
       "        nan,  nan,  nan,  nan,  nan,  nan,  nan,  nan,  nan,  nan,  nan,\n",
       "        nan,  nan,  nan,  nan,  nan,  nan,  nan,  nan,  nan,  nan,  nan,\n",
       "        nan,  nan,  nan,  nan,  nan,  nan,  nan,  nan,  nan,  nan,  nan,\n",
       "        nan,  nan,  nan,  nan,  nan,  nan,  nan,  nan,  nan,  nan,  nan,\n",
       "        nan,  nan,  nan,  nan,  nan,  nan,  nan,  nan,  nan,  nan,  nan,\n",
       "        nan,  nan,  nan,  nan,  nan,  nan,  nan,  nan,  nan,  nan,  nan,\n",
       "        nan,  nan,  nan,  nan,  nan,  nan,  nan,  nan,  nan,  nan,  nan,\n",
       "        nan,  nan,  nan,  nan,  nan], dtype=float32)"
      ]
     },
     "execution_count": 66,
     "metadata": {},
     "output_type": "execute_result"
    }
   ],
   "source": [
    "df_interval.dldMicrobunchId[914989700]"
   ]
  },
  {
   "cell_type": "code",
   "execution_count": 70,
   "metadata": {
    "scrolled": true
   },
   "outputs": [
    {
     "ename": "IndexError",
     "evalue": "tuple index out of range",
     "output_type": "error",
     "traceback": [
      "\u001b[0;31m---------------------------------------------------------------------------\u001b[0m",
      "\u001b[0;31mIndexError\u001b[0m                                Traceback (most recent call last)",
      "\u001b[0;32m<ipython-input-70-4211df90050b>\u001b[0m in \u001b[0;36m<module>\u001b[0;34m\u001b[0m\n\u001b[0;32m----> 1\u001b[0;31m \u001b[0massignToMircobunch\u001b[0m\u001b[0;34m(\u001b[0m\u001b[0mdf_interval\u001b[0m\u001b[0;34m.\u001b[0m\u001b[0mdldMicrobunchId\u001b[0m\u001b[0;34m,\u001b[0m\u001b[0mdf_interval\u001b[0m\u001b[0;34m.\u001b[0m\u001b[0mgmdBda\u001b[0m\u001b[0;34m)\u001b[0m\u001b[0;34m\u001b[0m\u001b[0;34m\u001b[0m\u001b[0m\n\u001b[0m",
      "\u001b[0;32m~/hextof-newdata/hextof-processor/processor/cscripts/DldFlashProcessorNotCy.py\u001b[0m in \u001b[0;36massignToMircobunch\u001b[0;34m(microbunchIds, toConvert)\u001b[0m\n\u001b[1;32m     18\u001b[0m \u001b[0;34m\u001b[0m\u001b[0m\n\u001b[1;32m     19\u001b[0m \u001b[0;34m\u001b[0m\u001b[0m\n\u001b[0;32m---> 20\u001b[0;31m     \u001b[0mnumOfMicrobunches\u001b[0m \u001b[0;34m=\u001b[0m \u001b[0mtoConvert\u001b[0m\u001b[0;34m.\u001b[0m\u001b[0mshape\u001b[0m\u001b[0;34m[\u001b[0m\u001b[0;36m1\u001b[0m\u001b[0;34m]\u001b[0m\u001b[0;34m\u001b[0m\u001b[0;34m\u001b[0m\u001b[0m\n\u001b[0m\u001b[1;32m     21\u001b[0m     \u001b[0mnumOfElectrons\u001b[0m \u001b[0;34m=\u001b[0m \u001b[0mmicrobunchIds\u001b[0m\u001b[0;34m.\u001b[0m\u001b[0mshape\u001b[0m\u001b[0;34m[\u001b[0m\u001b[0;36m1\u001b[0m\u001b[0;34m]\u001b[0m\u001b[0;34m\u001b[0m\u001b[0;34m\u001b[0m\u001b[0m\n\u001b[1;32m     22\u001b[0m     \u001b[0mnumOfMacrobunches\u001b[0m \u001b[0;34m=\u001b[0m \u001b[0mmicrobunchIds\u001b[0m\u001b[0;34m.\u001b[0m\u001b[0mshape\u001b[0m\u001b[0;34m[\u001b[0m\u001b[0;36m0\u001b[0m\u001b[0;34m]\u001b[0m\u001b[0;34m\u001b[0m\u001b[0;34m\u001b[0m\u001b[0m\n",
      "\u001b[0;31mIndexError\u001b[0m: tuple index out of range"
     ]
    }
   ],
   "source": [
    "assignToMircobunch(df_interval.dldMicrobunchId,df_interval.gmdBda)"
   ]
  },
  {
   "cell_type": "code",
   "execution_count": 82,
   "metadata": {},
   "outputs": [
    {
     "data": {
      "text/html": [
       "<div>\n",
       "<style scoped>\n",
       "    .dataframe tbody tr th:only-of-type {\n",
       "        vertical-align: middle;\n",
       "    }\n",
       "\n",
       "    .dataframe tbody tr th {\n",
       "        vertical-align: top;\n",
       "    }\n",
       "\n",
       "    .dataframe thead th {\n",
       "        text-align: right;\n",
       "    }\n",
       "</style>\n",
       "<table border=\"1\" class=\"dataframe\">\n",
       "  <thead>\n",
       "    <tr style=\"text-align: right;\">\n",
       "      <th></th>\n",
       "      <th>dldAux</th>\n",
       "      <th>dldMicrobunchId</th>\n",
       "      <th>dldPosX</th>\n",
       "      <th>dldPosY</th>\n",
       "      <th>dldTime</th>\n",
       "    </tr>\n",
       "    <tr>\n",
       "      <th>Train ID</th>\n",
       "      <th></th>\n",
       "      <th></th>\n",
       "      <th></th>\n",
       "      <th></th>\n",
       "      <th></th>\n",
       "    </tr>\n",
       "  </thead>\n",
       "  <tbody>\n",
       "    <tr>\n",
       "      <th>914989700</th>\n",
       "      <td>[70.997635, 20.000412, 7999.75, -0.0844707, 0....</td>\n",
       "      <td>8.0</td>\n",
       "      <td>[536.0, 537.0, 501.0, 504.0, 782.0, 785.0, 589...</td>\n",
       "      <td>[578.0, 578.0, 680.0, 677.0, 552.0, 551.0, 671...</td>\n",
       "      <td>[36453.0, 36452.0, 30758.0, 30757.0, 37768.0, ...</td>\n",
       "    </tr>\n",
       "    <tr>\n",
       "      <th>914989700</th>\n",
       "      <td>[70.997635, 20.000412, 7999.75, -0.0844707, 0....</td>\n",
       "      <td>8.0</td>\n",
       "      <td>[536.0, 537.0, 501.0, 504.0, 782.0, 785.0, 589...</td>\n",
       "      <td>[578.0, 578.0, 680.0, 677.0, 552.0, 551.0, 671...</td>\n",
       "      <td>[36453.0, 36452.0, 30758.0, 30757.0, 37768.0, ...</td>\n",
       "    </tr>\n",
       "    <tr>\n",
       "      <th>914989700</th>\n",
       "      <td>[70.997635, 20.000412, 7999.75, -0.0844707, 0....</td>\n",
       "      <td>9.0</td>\n",
       "      <td>[536.0, 537.0, 501.0, 504.0, 782.0, 785.0, 589...</td>\n",
       "      <td>[578.0, 578.0, 680.0, 677.0, 552.0, 551.0, 671...</td>\n",
       "      <td>[36453.0, 36452.0, 30758.0, 30757.0, 37768.0, ...</td>\n",
       "    </tr>\n",
       "    <tr>\n",
       "      <th>914989700</th>\n",
       "      <td>[70.997635, 20.000412, 7999.75, -0.0844707, 0....</td>\n",
       "      <td>9.0</td>\n",
       "      <td>[536.0, 537.0, 501.0, 504.0, 782.0, 785.0, 589...</td>\n",
       "      <td>[578.0, 578.0, 680.0, 677.0, 552.0, 551.0, 671...</td>\n",
       "      <td>[36453.0, 36452.0, 30758.0, 30757.0, 37768.0, ...</td>\n",
       "    </tr>\n",
       "    <tr>\n",
       "      <th>914989700</th>\n",
       "      <td>[70.997635, 20.000412, 7999.75, -0.0844707, 0....</td>\n",
       "      <td>9.0</td>\n",
       "      <td>[536.0, 537.0, 501.0, 504.0, 782.0, 785.0, 589...</td>\n",
       "      <td>[578.0, 578.0, 680.0, 677.0, 552.0, 551.0, 671...</td>\n",
       "      <td>[36453.0, 36452.0, 30758.0, 30757.0, 37768.0, ...</td>\n",
       "    </tr>\n",
       "    <tr>\n",
       "      <th>...</th>\n",
       "      <td>...</td>\n",
       "      <td>...</td>\n",
       "      <td>...</td>\n",
       "      <td>...</td>\n",
       "      <td>...</td>\n",
       "    </tr>\n",
       "    <tr>\n",
       "      <th>914999413</th>\n",
       "      <td>[70.99467, 19.997139, 7999.72, -0.0854884, 0.0...</td>\n",
       "      <td>NaN</td>\n",
       "      <td>[577.0, 582.0, 622.0, 621.0, 510.0, 670.0, 778...</td>\n",
       "      <td>[590.0, 589.0, 736.0, 736.0, 656.0, 504.0, 682...</td>\n",
       "      <td>[36941.0, 36940.0, 33102.0, 33095.0, 37544.0, ...</td>\n",
       "    </tr>\n",
       "    <tr>\n",
       "      <th>914999413</th>\n",
       "      <td>[70.99467, 19.997139, 7999.72, -0.0854884, 0.0...</td>\n",
       "      <td>NaN</td>\n",
       "      <td>[577.0, 582.0, 622.0, 621.0, 510.0, 670.0, 778...</td>\n",
       "      <td>[590.0, 589.0, 736.0, 736.0, 656.0, 504.0, 682...</td>\n",
       "      <td>[36941.0, 36940.0, 33102.0, 33095.0, 37544.0, ...</td>\n",
       "    </tr>\n",
       "    <tr>\n",
       "      <th>914999413</th>\n",
       "      <td>[70.99467, 19.997139, 7999.72, -0.0854884, 0.0...</td>\n",
       "      <td>NaN</td>\n",
       "      <td>[577.0, 582.0, 622.0, 621.0, 510.0, 670.0, 778...</td>\n",
       "      <td>[590.0, 589.0, 736.0, 736.0, 656.0, 504.0, 682...</td>\n",
       "      <td>[36941.0, 36940.0, 33102.0, 33095.0, 37544.0, ...</td>\n",
       "    </tr>\n",
       "    <tr>\n",
       "      <th>914999413</th>\n",
       "      <td>[70.99467, 19.997139, 7999.72, -0.0854884, 0.0...</td>\n",
       "      <td>NaN</td>\n",
       "      <td>[577.0, 582.0, 622.0, 621.0, 510.0, 670.0, 778...</td>\n",
       "      <td>[590.0, 589.0, 736.0, 736.0, 656.0, 504.0, 682...</td>\n",
       "      <td>[36941.0, 36940.0, 33102.0, 33095.0, 37544.0, ...</td>\n",
       "    </tr>\n",
       "    <tr>\n",
       "      <th>914999413</th>\n",
       "      <td>[70.99467, 19.997139, 7999.72, -0.0854884, 0.0...</td>\n",
       "      <td>NaN</td>\n",
       "      <td>[577.0, 582.0, 622.0, 621.0, 510.0, 670.0, 778...</td>\n",
       "      <td>[590.0, 589.0, 736.0, 736.0, 656.0, 504.0, 682...</td>\n",
       "      <td>[36941.0, 36940.0, 33102.0, 33095.0, 37544.0, ...</td>\n",
       "    </tr>\n",
       "  </tbody>\n",
       "</table>\n",
       "<p>8398744 rows × 5 columns</p>\n",
       "</div>"
      ],
      "text/plain": [
       "                                                      dldAux dldMicrobunchId  \\\n",
       "Train ID                                                                       \n",
       "914989700  [70.997635, 20.000412, 7999.75, -0.0844707, 0....             8.0   \n",
       "914989700  [70.997635, 20.000412, 7999.75, -0.0844707, 0....             8.0   \n",
       "914989700  [70.997635, 20.000412, 7999.75, -0.0844707, 0....             9.0   \n",
       "914989700  [70.997635, 20.000412, 7999.75, -0.0844707, 0....             9.0   \n",
       "914989700  [70.997635, 20.000412, 7999.75, -0.0844707, 0....             9.0   \n",
       "...                                                      ...             ...   \n",
       "914999413  [70.99467, 19.997139, 7999.72, -0.0854884, 0.0...             NaN   \n",
       "914999413  [70.99467, 19.997139, 7999.72, -0.0854884, 0.0...             NaN   \n",
       "914999413  [70.99467, 19.997139, 7999.72, -0.0854884, 0.0...             NaN   \n",
       "914999413  [70.99467, 19.997139, 7999.72, -0.0854884, 0.0...             NaN   \n",
       "914999413  [70.99467, 19.997139, 7999.72, -0.0854884, 0.0...             NaN   \n",
       "\n",
       "                                                     dldPosX  \\\n",
       "Train ID                                                       \n",
       "914989700  [536.0, 537.0, 501.0, 504.0, 782.0, 785.0, 589...   \n",
       "914989700  [536.0, 537.0, 501.0, 504.0, 782.0, 785.0, 589...   \n",
       "914989700  [536.0, 537.0, 501.0, 504.0, 782.0, 785.0, 589...   \n",
       "914989700  [536.0, 537.0, 501.0, 504.0, 782.0, 785.0, 589...   \n",
       "914989700  [536.0, 537.0, 501.0, 504.0, 782.0, 785.0, 589...   \n",
       "...                                                      ...   \n",
       "914999413  [577.0, 582.0, 622.0, 621.0, 510.0, 670.0, 778...   \n",
       "914999413  [577.0, 582.0, 622.0, 621.0, 510.0, 670.0, 778...   \n",
       "914999413  [577.0, 582.0, 622.0, 621.0, 510.0, 670.0, 778...   \n",
       "914999413  [577.0, 582.0, 622.0, 621.0, 510.0, 670.0, 778...   \n",
       "914999413  [577.0, 582.0, 622.0, 621.0, 510.0, 670.0, 778...   \n",
       "\n",
       "                                                     dldPosY  \\\n",
       "Train ID                                                       \n",
       "914989700  [578.0, 578.0, 680.0, 677.0, 552.0, 551.0, 671...   \n",
       "914989700  [578.0, 578.0, 680.0, 677.0, 552.0, 551.0, 671...   \n",
       "914989700  [578.0, 578.0, 680.0, 677.0, 552.0, 551.0, 671...   \n",
       "914989700  [578.0, 578.0, 680.0, 677.0, 552.0, 551.0, 671...   \n",
       "914989700  [578.0, 578.0, 680.0, 677.0, 552.0, 551.0, 671...   \n",
       "...                                                      ...   \n",
       "914999413  [590.0, 589.0, 736.0, 736.0, 656.0, 504.0, 682...   \n",
       "914999413  [590.0, 589.0, 736.0, 736.0, 656.0, 504.0, 682...   \n",
       "914999413  [590.0, 589.0, 736.0, 736.0, 656.0, 504.0, 682...   \n",
       "914999413  [590.0, 589.0, 736.0, 736.0, 656.0, 504.0, 682...   \n",
       "914999413  [590.0, 589.0, 736.0, 736.0, 656.0, 504.0, 682...   \n",
       "\n",
       "                                                     dldTime  \n",
       "Train ID                                                      \n",
       "914989700  [36453.0, 36452.0, 30758.0, 30757.0, 37768.0, ...  \n",
       "914989700  [36453.0, 36452.0, 30758.0, 30757.0, 37768.0, ...  \n",
       "914989700  [36453.0, 36452.0, 30758.0, 30757.0, 37768.0, ...  \n",
       "914989700  [36453.0, 36452.0, 30758.0, 30757.0, 37768.0, ...  \n",
       "914989700  [36453.0, 36452.0, 30758.0, 30757.0, 37768.0, ...  \n",
       "...                                                      ...  \n",
       "914999413  [36941.0, 36940.0, 33102.0, 33095.0, 37544.0, ...  \n",
       "914999413  [36941.0, 36940.0, 33102.0, 33095.0, 37544.0, ...  \n",
       "914999413  [36941.0, 36940.0, 33102.0, 33095.0, 37544.0, ...  \n",
       "914999413  [36941.0, 36940.0, 33102.0, 33095.0, 37544.0, ...  \n",
       "914999413  [36941.0, 36940.0, 33102.0, 33095.0, 37544.0, ...  \n",
       "\n",
       "[8398744 rows x 5 columns]"
      ]
     },
     "execution_count": 82,
     "metadata": {},
     "output_type": "execute_result"
    }
   ],
   "source": [
    "df.explode(column='dldMicrobunchId')"
   ]
  },
  {
   "cell_type": "code",
   "execution_count": null,
   "metadata": {},
   "outputs": [],
   "source": []
  },
  {
   "cell_type": "code",
   "execution_count": 85,
   "metadata": {},
   "outputs": [
    {
     "data": {
      "text/html": [
       "<div>\n",
       "<style scoped>\n",
       "    .dataframe tbody tr th:only-of-type {\n",
       "        vertical-align: middle;\n",
       "    }\n",
       "\n",
       "    .dataframe tbody tr th {\n",
       "        vertical-align: top;\n",
       "    }\n",
       "\n",
       "    .dataframe thead th {\n",
       "        text-align: right;\n",
       "    }\n",
       "</style>\n",
       "<table border=\"1\" class=\"dataframe\">\n",
       "  <thead>\n",
       "    <tr style=\"text-align: right;\">\n",
       "      <th></th>\n",
       "      <th>gmdBda</th>\n",
       "    </tr>\n",
       "    <tr>\n",
       "      <th>Train ID</th>\n",
       "      <th></th>\n",
       "    </tr>\n",
       "  </thead>\n",
       "  <tbody>\n",
       "    <tr>\n",
       "      <th>918393840</th>\n",
       "      <td>[0.14958408, 0.098910615, 0.17310153, 0.272263...</td>\n",
       "    </tr>\n",
       "    <tr>\n",
       "      <th>918393841</th>\n",
       "      <td>[0.21268164, 0.11665143, 0.0622427, 0.13686036...</td>\n",
       "    </tr>\n",
       "    <tr>\n",
       "      <th>918393842</th>\n",
       "      <td>[0.15599452, 0.33032665, 0.28822774, 0.1670478...</td>\n",
       "    </tr>\n",
       "    <tr>\n",
       "      <th>918393843</th>\n",
       "      <td>[0.023059618, 0.23041765, 0.22551028, 0.066602...</td>\n",
       "    </tr>\n",
       "    <tr>\n",
       "      <th>918393844</th>\n",
       "      <td>[0.21368022, 0.19672205, 0.23803243, 0.1295075...</td>\n",
       "    </tr>\n",
       "    <tr>\n",
       "      <th>...</th>\n",
       "      <td>...</td>\n",
       "    </tr>\n",
       "    <tr>\n",
       "      <th>918395808</th>\n",
       "      <td>[0.15318371, 0.16941376, 0.13571505, 0.1103404...</td>\n",
       "    </tr>\n",
       "    <tr>\n",
       "      <th>918395809</th>\n",
       "      <td>[0.13462912, 0.0800102, 0.037871584, 0.1787920...</td>\n",
       "    </tr>\n",
       "    <tr>\n",
       "      <th>918395810</th>\n",
       "      <td>[0.15601568, 0.030744035, 0.17174102, 0.304417...</td>\n",
       "    </tr>\n",
       "    <tr>\n",
       "      <th>918395811</th>\n",
       "      <td>[0.07089398, 0.09543191, 0.070048615, 0.181955...</td>\n",
       "    </tr>\n",
       "    <tr>\n",
       "      <th>918395812</th>\n",
       "      <td>[0.19961654, 0.2729539, 0.21108557, 0.28032574...</td>\n",
       "    </tr>\n",
       "  </tbody>\n",
       "</table>\n",
       "<p>1973 rows × 1 columns</p>\n",
       "</div>"
      ],
      "text/plain": [
       "                                                      gmdBda\n",
       "Train ID                                                    \n",
       "918393840  [0.14958408, 0.098910615, 0.17310153, 0.272263...\n",
       "918393841  [0.21268164, 0.11665143, 0.0622427, 0.13686036...\n",
       "918393842  [0.15599452, 0.33032665, 0.28822774, 0.1670478...\n",
       "918393843  [0.023059618, 0.23041765, 0.22551028, 0.066602...\n",
       "918393844  [0.21368022, 0.19672205, 0.23803243, 0.1295075...\n",
       "...                                                      ...\n",
       "918395808  [0.15318371, 0.16941376, 0.13571505, 0.1103404...\n",
       "918395809  [0.13462912, 0.0800102, 0.037871584, 0.1787920...\n",
       "918395810  [0.15601568, 0.030744035, 0.17174102, 0.304417...\n",
       "918395811  [0.07089398, 0.09543191, 0.070048615, 0.181955...\n",
       "918395812  [0.19961654, 0.2729539, 0.21108557, 0.28032574...\n",
       "\n",
       "[1973 rows x 1 columns]"
      ]
     },
     "execution_count": 85,
     "metadata": {},
     "output_type": "execute_result"
    }
   ],
   "source": [
    "test.Channels = ['gmdBda']#,'gmdTunnel','monochromatorPhotonEnergy']\n",
    "# H5 file path\n",
    "path = Path(\"/asap3/flash/gpfs/pg2/2020/data/11008860/raw/hdf/express/FLASH1_USER2_stream_2_run35971_file25_20201128T230926.1.h5\")\n",
    "# Use class method to create dataframe\n",
    "df_pulse = test.createDataframePerFile(path)\n",
    "df_pulse"
   ]
  },
  {
   "cell_type": "code",
   "execution_count": 109,
   "metadata": {},
   "outputs": [
    {
     "data": {
      "text/plain": [
       "(499,)"
      ]
     },
     "execution_count": 109,
     "metadata": {},
     "output_type": "execute_result"
    }
   ],
   "source": [
    "df_pulse['gmdBda'][918393840].shape"
   ]
  },
  {
   "cell_type": "code",
   "execution_count": 100,
   "metadata": {},
   "outputs": [],
   "source": [
    "exp = df_pulse['gmdBda'].explode('gmdBda')"
   ]
  },
  {
   "cell_type": "code",
   "execution_count": 94,
   "metadata": {},
   "outputs": [],
   "source": [
    "import numpy as np"
   ]
  },
  {
   "cell_type": "code",
   "execution_count": 122,
   "metadata": {},
   "outputs": [],
   "source": [
    "x = pd.Series(np.arange(0,len(exp))%df_pulse['gmdBda'][918393840].shape,name='dldMicrobunchId')"
   ]
  },
  {
   "cell_type": "code",
   "execution_count": 123,
   "metadata": {},
   "outputs": [],
   "source": [
    "new_df = pd.concat([exp,x],axis=1)"
   ]
  },
  {
   "cell_type": "code",
   "execution_count": 124,
   "metadata": {},
   "outputs": [
    {
     "data": {
      "text/html": [
       "<div>\n",
       "<style scoped>\n",
       "    .dataframe tbody tr th:only-of-type {\n",
       "        vertical-align: middle;\n",
       "    }\n",
       "\n",
       "    .dataframe tbody tr th {\n",
       "        vertical-align: top;\n",
       "    }\n",
       "\n",
       "    .dataframe thead th {\n",
       "        text-align: right;\n",
       "    }\n",
       "</style>\n",
       "<table border=\"1\" class=\"dataframe\">\n",
       "  <thead>\n",
       "    <tr style=\"text-align: right;\">\n",
       "      <th></th>\n",
       "      <th>gmdBda</th>\n",
       "      <th>dldMicrobunchId</th>\n",
       "    </tr>\n",
       "  </thead>\n",
       "  <tbody>\n",
       "    <tr>\n",
       "      <th>0</th>\n",
       "      <td>0.149584</td>\n",
       "      <td>0</td>\n",
       "    </tr>\n",
       "    <tr>\n",
       "      <th>1</th>\n",
       "      <td>0.098911</td>\n",
       "      <td>1</td>\n",
       "    </tr>\n",
       "    <tr>\n",
       "      <th>2</th>\n",
       "      <td>0.173102</td>\n",
       "      <td>2</td>\n",
       "    </tr>\n",
       "    <tr>\n",
       "      <th>3</th>\n",
       "      <td>0.272263</td>\n",
       "      <td>3</td>\n",
       "    </tr>\n",
       "    <tr>\n",
       "      <th>4</th>\n",
       "      <td>0.400557</td>\n",
       "      <td>4</td>\n",
       "    </tr>\n",
       "    <tr>\n",
       "      <th>...</th>\n",
       "      <td>...</td>\n",
       "      <td>...</td>\n",
       "    </tr>\n",
       "    <tr>\n",
       "      <th>984522</th>\n",
       "      <td>0.262942</td>\n",
       "      <td>494</td>\n",
       "    </tr>\n",
       "    <tr>\n",
       "      <th>984523</th>\n",
       "      <td>0.28302</td>\n",
       "      <td>495</td>\n",
       "    </tr>\n",
       "    <tr>\n",
       "      <th>984524</th>\n",
       "      <td>0.364551</td>\n",
       "      <td>496</td>\n",
       "    </tr>\n",
       "    <tr>\n",
       "      <th>984525</th>\n",
       "      <td>0.241225</td>\n",
       "      <td>497</td>\n",
       "    </tr>\n",
       "    <tr>\n",
       "      <th>984526</th>\n",
       "      <td>0.302272</td>\n",
       "      <td>498</td>\n",
       "    </tr>\n",
       "  </tbody>\n",
       "</table>\n",
       "<p>984527 rows × 2 columns</p>\n",
       "</div>"
      ],
      "text/plain": [
       "          gmdBda  dldMicrobunchId\n",
       "0       0.149584                0\n",
       "1       0.098911                1\n",
       "2       0.173102                2\n",
       "3       0.272263                3\n",
       "4       0.400557                4\n",
       "...          ...              ...\n",
       "984522  0.262942              494\n",
       "984523   0.28302              495\n",
       "984524  0.364551              496\n",
       "984525  0.241225              497\n",
       "984526  0.302272              498\n",
       "\n",
       "[984527 rows x 2 columns]"
      ]
     },
     "execution_count": 124,
     "metadata": {},
     "output_type": "execute_result"
    }
   ],
   "source": [
    "new_df"
   ]
  },
  {
   "cell_type": "code",
   "execution_count": 113,
   "metadata": {},
   "outputs": [],
   "source": [
    "import pandas as pd"
   ]
  },
  {
   "cell_type": "code",
   "execution_count": 18,
   "metadata": {},
   "outputs": [],
   "source": [
    "\n",
    "\n",
    "import h5py"
   ]
  },
  {
   "cell_type": "code",
   "execution_count": null,
   "metadata": {},
   "outputs": [],
   "source": [
    "with h5py.File(path)as f:\n",
    "    "
   ]
  },
  {
   "cell_type": "code",
   "execution_count": 42,
   "metadata": {},
   "outputs": [],
   "source": [
    "class Testclass():\n",
    "    def __init__(self):\n",
    "        self._x = 3\n",
    "    \n",
    "    @property\n",
    "    def x(self):\n",
    "        return self._x\n",
    "    \n",
    "    @x.setter\n",
    "    def x(self,val):\n",
    "        assert isinstance(val,int)\n",
    "        self._x = val"
   ]
  },
  {
   "cell_type": "code",
   "execution_count": 43,
   "metadata": {},
   "outputs": [],
   "source": [
    "t=Testclass()"
   ]
  },
  {
   "cell_type": "code",
   "execution_count": 50,
   "metadata": {},
   "outputs": [
    {
     "ename": "TypeError",
     "evalue": "'int' object is not callable",
     "output_type": "error",
     "traceback": [
      "\u001b[0;31m---------------------------------------------------------------------------\u001b[0m",
      "\u001b[0;31mTypeError\u001b[0m                                 Traceback (most recent call last)",
      "\u001b[0;32m<ipython-input-50-f5dd12ef4ea3>\u001b[0m in \u001b[0;36m<module>\u001b[0;34m\u001b[0m\n\u001b[0;32m----> 1\u001b[0;31m \u001b[0mt\u001b[0m\u001b[0;34m.\u001b[0m\u001b[0mx\u001b[0m\u001b[0;34m(\u001b[0m\u001b[0;34m)\u001b[0m\u001b[0;34m\u001b[0m\u001b[0;34m\u001b[0m\u001b[0m\n\u001b[0m",
      "\u001b[0;31mTypeError\u001b[0m: 'int' object is not callable"
     ]
    }
   ],
   "source": [
    "t.x"
   ]
  },
  {
   "cell_type": "code",
   "execution_count": 49,
   "metadata": {},
   "outputs": [
    {
     "ename": "AssertionError",
     "evalue": "",
     "output_type": "error",
     "traceback": [
      "\u001b[0;31m---------------------------------------------------------------------------\u001b[0m",
      "\u001b[0;31mAssertionError\u001b[0m                            Traceback (most recent call last)",
      "\u001b[0;32m<ipython-input-49-c54803f99444>\u001b[0m in \u001b[0;36m<module>\u001b[0;34m\u001b[0m\n\u001b[0;32m----> 1\u001b[0;31m \u001b[0mt\u001b[0m\u001b[0;34m.\u001b[0m\u001b[0mx\u001b[0m \u001b[0;34m=\u001b[0m \u001b[0;34m'asd'\u001b[0m\u001b[0;34m\u001b[0m\u001b[0;34m\u001b[0m\u001b[0m\n\u001b[0m",
      "\u001b[0;32m<ipython-input-42-a51e192e45e2>\u001b[0m in \u001b[0;36mx\u001b[0;34m(self, val)\u001b[0m\n\u001b[1;32m      7\u001b[0m     \u001b[0;34m@\u001b[0m\u001b[0mx\u001b[0m\u001b[0;34m.\u001b[0m\u001b[0msetter\u001b[0m\u001b[0;34m\u001b[0m\u001b[0;34m\u001b[0m\u001b[0m\n\u001b[1;32m      8\u001b[0m     \u001b[0;32mdef\u001b[0m \u001b[0mx\u001b[0m\u001b[0;34m(\u001b[0m\u001b[0mself\u001b[0m\u001b[0;34m,\u001b[0m\u001b[0mval\u001b[0m\u001b[0;34m)\u001b[0m\u001b[0;34m:\u001b[0m\u001b[0;34m\u001b[0m\u001b[0;34m\u001b[0m\u001b[0m\n\u001b[0;32m----> 9\u001b[0;31m         \u001b[0;32massert\u001b[0m \u001b[0misinstance\u001b[0m\u001b[0;34m(\u001b[0m\u001b[0mval\u001b[0m\u001b[0;34m,\u001b[0m\u001b[0mint\u001b[0m\u001b[0;34m)\u001b[0m\u001b[0;34m\u001b[0m\u001b[0;34m\u001b[0m\u001b[0m\n\u001b[0m\u001b[1;32m     10\u001b[0m         \u001b[0mself\u001b[0m\u001b[0;34m.\u001b[0m\u001b[0m_x\u001b[0m \u001b[0;34m=\u001b[0m \u001b[0mval\u001b[0m\u001b[0;34m\u001b[0m\u001b[0;34m\u001b[0m\u001b[0m\n",
      "\u001b[0;31mAssertionError\u001b[0m: "
     ]
    }
   ],
   "source": [
    "t.x = 'asd'"
   ]
  },
  {
   "cell_type": "code",
   "execution_count": 47,
   "metadata": {},
   "outputs": [
    {
     "ename": "NameError",
     "evalue": "name 'r' is not defined",
     "output_type": "error",
     "traceback": [
      "\u001b[0;31m---------------------------------------------------------------------------\u001b[0m",
      "\u001b[0;31mNameError\u001b[0m                                 Traceback (most recent call last)",
      "\u001b[0;32m<ipython-input-47-d17ca1acc36c>\u001b[0m in \u001b[0;36m<module>\u001b[0;34m\u001b[0m\n\u001b[0;32m----> 1\u001b[0;31m \u001b[0mr\u001b[0m\u001b[0;34m\u001b[0m\u001b[0;34m\u001b[0m\u001b[0m\n\u001b[0m",
      "\u001b[0;31mNameError\u001b[0m: name 'r' is not defined"
     ]
    }
   ],
   "source": [
    "r"
   ]
  },
  {
   "cell_type": "markdown",
   "metadata": {},
   "source": [
    "# Dtypes by channel"
   ]
  },
  {
   "cell_type": "code",
   "execution_count": null,
   "metadata": {},
   "outputs": [],
   "source": [
    "types = {\n",
    "        'runNumber': 'uint32',\n",
    "        'timeStamp': 'uint32',\n",
    "        'pulseId':'uint32',\n",
    "        'macroBunchPulseId':'uint32',\n",
    "        'dldMicrobunchId': 'uint16',\n",
    "        'energy':'float32',\n",
    "        'kx': 'float32',\n",
    "        'ky': 'float32',\n",
    "        'kr': 'float32',\n",
    "        'kt': 'float32',\n",
    "        'pumpProbeTime': 'float32',\n",
    "        'delayStage':'float32',\n",
    "        'dldPosX':'uint32',\n",
    "        'dldPosY':'uint32',\n",
    "        'dldTime_corrected':'float32',\n",
    "        'opticalDiode': 'float32',\n",
    "        'gmdBda': 'float32',\n",
    "        'gmdTunnel':'float32',\n",
    "        'dldTime':'uint32',\n",
    "        'sampleBias':'float32',\n",
    "        'tofVoltage':'float32',\n",
    "        'extractorVoltage':'float32',\n",
    "        'extractorCurrent':'float32',\n",
    "        'streakCamera':'float32',\n",
    "        'bam':'float32',\n",
    "        'dldSectorId':'int8',\n",
    "        'monochromatorPhotonEnergy':'float32',\n",
    "        'i0Monitor':'float32'\n",
    "}\n"
   ]
  }
 ],
 "metadata": {
  "kernelspec": {
   "display_name": "flash-hdf",
   "language": "python",
   "name": "flash-hdf"
  },
  "language_info": {
   "codemirror_mode": {
    "name": "ipython",
    "version": 3
   },
   "file_extension": ".py",
   "mimetype": "text/x-python",
   "name": "python",
   "nbconvert_exporter": "python",
   "pygments_lexer": "ipython3",
   "version": "3.8.8"
  }
 },
 "nbformat": 4,
 "nbformat_minor": 2
}
