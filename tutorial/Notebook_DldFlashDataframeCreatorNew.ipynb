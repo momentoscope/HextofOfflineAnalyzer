{
 "cells": [
  {
   "cell_type": "code",
   "execution_count": 1,
   "metadata": {},
   "outputs": [],
   "source": [
    "import sys, os, time\n",
    "from pathlib import Path\n",
    "sys.path.append(os.path.dirname(os.getcwd()) + '/processor') # add hextof-processor to path\n",
    "from DldFlashDataframeCreatorNew import DldFlashProcessorNew"
   ]
  },
  {
   "cell_type": "markdown",
   "metadata": {},
   "source": [
    "### Create class instance"
   ]
  },
  {
   "cell_type": "code",
   "execution_count": 2,
   "metadata": {},
   "outputs": [
    {
     "ename": "AttributeError",
     "evalue": "type object 'DldFlashProcessorNew' has no attribute '__file__'",
     "output_type": "error",
     "traceback": [
      "\u001b[0;31m---------------------------------------------------------------------------\u001b[0m",
      "\u001b[0;31mAttributeError\u001b[0m                            Traceback (most recent call last)",
      "\u001b[0;32m<ipython-input-2-2a46c6bf3e79>\u001b[0m in \u001b[0;36m<module>\u001b[0;34m\u001b[0m\n\u001b[0;32m----> 1\u001b[0;31m \u001b[0mtest\u001b[0m \u001b[0;34m=\u001b[0m \u001b[0mDldFlashProcessorNew\u001b[0m\u001b[0;34m(\u001b[0m\u001b[0;34m\"/asap3/flash/gpfs/pg2/2020/data/11008860/raw/hdf/express/\"\u001b[0m\u001b[0;34m)\u001b[0m\u001b[0;34m\u001b[0m\u001b[0;34m\u001b[0m\u001b[0m\n\u001b[0m",
      "\u001b[0;32m~/hextof-newdata/hextof-processor/processor/DldFlashDataframeCreatorNew.py\u001b[0m in \u001b[0;36m__init__\u001b[0;34m(self, data_raw_dir, run_number, train_id_interval, channels)\u001b[0m\n\u001b[1;32m     30\u001b[0m         \u001b[0mself\u001b[0m\u001b[0;34m.\u001b[0m\u001b[0mchannels\u001b[0m \u001b[0;34m=\u001b[0m \u001b[0;34m[\u001b[0m\u001b[0;34m]\u001b[0m\u001b[0;34m\u001b[0m\u001b[0;34m\u001b[0m\u001b[0m\n\u001b[1;32m     31\u001b[0m         \u001b[0;32mif\u001b[0m \u001b[0mchannels\u001b[0m \u001b[0;32mis\u001b[0m \u001b[0;32mNone\u001b[0m\u001b[0;34m:\u001b[0m\u001b[0;34m\u001b[0m\u001b[0;34m\u001b[0m\u001b[0m\n\u001b[0;32m---> 32\u001b[0;31m             \u001b[0mall_channel_list_dir\u001b[0m \u001b[0;34m=\u001b[0m \u001b[0mos\u001b[0m\u001b[0;34m.\u001b[0m\u001b[0mpath\u001b[0m\u001b[0;34m.\u001b[0m\u001b[0mjoin\u001b[0m\u001b[0;34m(\u001b[0m\u001b[0mos\u001b[0m\u001b[0;34m.\u001b[0m\u001b[0mpath\u001b[0m\u001b[0;34m.\u001b[0m\u001b[0mdirname\u001b[0m\u001b[0;34m(\u001b[0m\u001b[0mDldFlashProcessorNew\u001b[0m\u001b[0;34m.\u001b[0m\u001b[0m__file__\u001b[0m\u001b[0;34m)\u001b[0m\u001b[0;34m,\u001b[0m\u001b[0;34m\"channels.json\"\u001b[0m\u001b[0;34m)\u001b[0m  \u001b[0;31m# TODO: Generalize\u001b[0m\u001b[0;34m\u001b[0m\u001b[0;34m\u001b[0m\u001b[0m\n\u001b[0m\u001b[1;32m     33\u001b[0m         \u001b[0;32melse\u001b[0m\u001b[0;34m:\u001b[0m\u001b[0;34m\u001b[0m\u001b[0;34m\u001b[0m\u001b[0m\n\u001b[1;32m     34\u001b[0m             \u001b[0mall_channel_list_dir\u001b[0m \u001b[0;34m=\u001b[0m \u001b[0mchannels\u001b[0m\u001b[0;34m\u001b[0m\u001b[0;34m\u001b[0m\u001b[0m\n",
      "\u001b[0;31mAttributeError\u001b[0m: type object 'DldFlashProcessorNew' has no attribute '__file__'"
     ]
    }
   ],
   "source": [
    "test = DldFlashProcessorNew(\"/asap3/flash/gpfs/pg2/2020/data/11008860/raw/hdf/express/\")"
   ]
  },
  {
   "cell_type": "markdown",
   "metadata": {},
   "source": [
    "### Check all available channels"
   ]
  },
  {
   "cell_type": "code",
   "execution_count": null,
   "metadata": {},
   "outputs": [],
   "source": [
    "test.availableChannels"
   ]
  },
  {
   "cell_type": "markdown",
   "metadata": {},
   "source": [
    "### Create a two channel dataframe from a single h5 file"
   ]
  },
  {
   "cell_type": "code",
   "execution_count": 4,
   "metadata": {},
   "outputs": [
    {
     "name": "stdout",
     "output_type": "stream",
     "text": [
      "1.42 s ± 8.52 ms per loop (mean ± std. dev. of 7 runs, 1 loop each)\n"
     ]
    }
   ],
   "source": [
    "%%timeit\n",
    "# Define the channels\n",
    "test.channels = ['dldTime', 'dldPosX']\n",
    "# H5 file path\n",
    "path = Path(\"/asap3/flash/gpfs/pg2/2020/data/11008860/raw/hdf/express/FLASH1_USER2_stream_2_run35971_file25_20201128T230926.1.h5\")\n",
    "# Use class method to create dataframe\n",
    "df1, df2 = test.createDataframePerFile(path)"
   ]
  },
  {
   "cell_type": "code",
   "execution_count": 4,
   "metadata": {},
   "outputs": [
    {
     "data": {
      "text/html": [
       "<div>\n",
       "<style scoped>\n",
       "    .dataframe tbody tr th:only-of-type {\n",
       "        vertical-align: middle;\n",
       "    }\n",
       "\n",
       "    .dataframe tbody tr th {\n",
       "        vertical-align: top;\n",
       "    }\n",
       "\n",
       "    .dataframe thead th {\n",
       "        text-align: right;\n",
       "    }\n",
       "</style>\n",
       "<table border=\"1\" class=\"dataframe\">\n",
       "  <thead>\n",
       "    <tr style=\"text-align: right;\">\n",
       "      <th></th>\n",
       "      <th></th>\n",
       "      <th>dldTime</th>\n",
       "      <th>dldPosX</th>\n",
       "    </tr>\n",
       "    <tr>\n",
       "      <th>macroBunchPulseId</th>\n",
       "      <th>microBunchPulseId</th>\n",
       "      <th></th>\n",
       "      <th></th>\n",
       "    </tr>\n",
       "  </thead>\n",
       "  <tbody>\n",
       "    <tr>\n",
       "      <th rowspan=\"5\" valign=\"top\">918393840</th>\n",
       "      <th>35026.0</th>\n",
       "      <td>704.0</td>\n",
       "      <td>827.0</td>\n",
       "    </tr>\n",
       "    <tr>\n",
       "      <th>35031.0</th>\n",
       "      <td>707.0</td>\n",
       "      <td>829.0</td>\n",
       "    </tr>\n",
       "    <tr>\n",
       "      <th>36662.0</th>\n",
       "      <td>597.0</td>\n",
       "      <td>841.0</td>\n",
       "    </tr>\n",
       "    <tr>\n",
       "      <th>36655.0</th>\n",
       "      <td>597.0</td>\n",
       "      <td>847.0</td>\n",
       "    </tr>\n",
       "    <tr>\n",
       "      <th>33349.0</th>\n",
       "      <td>486.0</td>\n",
       "      <td>643.0</td>\n",
       "    </tr>\n",
       "    <tr>\n",
       "      <th>...</th>\n",
       "      <th>...</th>\n",
       "      <td>...</td>\n",
       "      <td>...</td>\n",
       "    </tr>\n",
       "    <tr>\n",
       "      <th rowspan=\"5\" valign=\"top\">918395812</th>\n",
       "      <th>NaN</th>\n",
       "      <td>NaN</td>\n",
       "      <td>NaN</td>\n",
       "    </tr>\n",
       "    <tr>\n",
       "      <th>NaN</th>\n",
       "      <td>NaN</td>\n",
       "      <td>NaN</td>\n",
       "    </tr>\n",
       "    <tr>\n",
       "      <th>NaN</th>\n",
       "      <td>NaN</td>\n",
       "      <td>NaN</td>\n",
       "    </tr>\n",
       "    <tr>\n",
       "      <th>NaN</th>\n",
       "      <td>NaN</td>\n",
       "      <td>NaN</td>\n",
       "    </tr>\n",
       "    <tr>\n",
       "      <th>NaN</th>\n",
       "      <td>NaN</td>\n",
       "      <td>NaN</td>\n",
       "    </tr>\n",
       "  </tbody>\n",
       "</table>\n",
       "<p>2046001 rows × 2 columns</p>\n",
       "</div>"
      ],
      "text/plain": [
       "                                    dldTime dldPosX\n",
       "macroBunchPulseId microBunchPulseId                \n",
       "918393840         35026.0             704.0   827.0\n",
       "                  35031.0             707.0   829.0\n",
       "                  36662.0             597.0   841.0\n",
       "                  36655.0             597.0   847.0\n",
       "                  33349.0             486.0   643.0\n",
       "...                                     ...     ...\n",
       "918395812         NaN                   NaN     NaN\n",
       "                  NaN                   NaN     NaN\n",
       "                  NaN                   NaN     NaN\n",
       "                  NaN                   NaN     NaN\n",
       "                  NaN                   NaN     NaN\n",
       "\n",
       "[2046001 rows x 2 columns]"
      ]
     },
     "execution_count": 4,
     "metadata": {},
     "output_type": "execute_result"
    }
   ],
   "source": [
    "# Define the channels\n",
    "test.channels = ['dldTime', 'dldPosX']\n",
    "# H5 file path\n",
    "path = Path(\"/asap3/flash/gpfs/pg2/2020/data/11008860/raw/hdf/express/FLASH1_USER2_stream_2_run35971_file25_20201128T230926.1.h5\")\n",
    "# Use class method to create dataframe\n",
    "df1, df2 = test.createDataframePerFile(path)\n",
    "df2"
   ]
  },
  {
   "cell_type": "code",
   "execution_count": 6,
   "metadata": {},
   "outputs": [
    {
     "name": "stdout",
     "output_type": "stream",
     "text": [
      "1.57 s ± 3.44 ms per loop (mean ± std. dev. of 7 runs, 1 loop each)\n"
     ]
    }
   ],
   "source": [
    "%%timeit\n",
    "# Define the channels both pulse and electron resolved\n",
    "test.channels = ['dldTime', 'gmdTunnel', 'dldPosX']\n",
    "# H5 file path\n",
    "path = Path(\"/asap3/flash/gpfs/pg2/2020/data/11008860/raw/hdf/express/FLASH1_USER2_stream_2_run35971_file25_20201128T230926.1.h5\")\n",
    "# Use class method to create dataframe\n",
    "df1, df2 = test.createDataframePerFile(path)"
   ]
  },
  {
   "cell_type": "code",
   "execution_count": 8,
   "metadata": {},
   "outputs": [
    {
     "data": {
      "text/html": [
       "<div>\n",
       "<style scoped>\n",
       "    .dataframe tbody tr th:only-of-type {\n",
       "        vertical-align: middle;\n",
       "    }\n",
       "\n",
       "    .dataframe tbody tr th {\n",
       "        vertical-align: top;\n",
       "    }\n",
       "\n",
       "    .dataframe thead th {\n",
       "        text-align: right;\n",
       "    }\n",
       "</style>\n",
       "<table border=\"1\" class=\"dataframe\">\n",
       "  <thead>\n",
       "    <tr style=\"text-align: right;\">\n",
       "      <th></th>\n",
       "      <th></th>\n",
       "      <th>gmdTunnel</th>\n",
       "    </tr>\n",
       "    <tr>\n",
       "      <th>macroBunchPulseId</th>\n",
       "      <th>microBunchPulseId</th>\n",
       "      <th></th>\n",
       "    </tr>\n",
       "  </thead>\n",
       "  <tbody>\n",
       "    <tr>\n",
       "      <th rowspan=\"5\" valign=\"top\">918393840</th>\n",
       "      <th>0</th>\n",
       "      <td>0.854754</td>\n",
       "    </tr>\n",
       "    <tr>\n",
       "      <th>1</th>\n",
       "      <td>0.801131</td>\n",
       "    </tr>\n",
       "    <tr>\n",
       "      <th>2</th>\n",
       "      <td>0.59965</td>\n",
       "    </tr>\n",
       "    <tr>\n",
       "      <th>3</th>\n",
       "      <td>0.463227</td>\n",
       "    </tr>\n",
       "    <tr>\n",
       "      <th>4</th>\n",
       "      <td>0.935985</td>\n",
       "    </tr>\n",
       "    <tr>\n",
       "      <th>...</th>\n",
       "      <th>...</th>\n",
       "      <td>...</td>\n",
       "    </tr>\n",
       "    <tr>\n",
       "      <th rowspan=\"5\" valign=\"top\">918395812</th>\n",
       "      <th>494</th>\n",
       "      <td>0.760217</td>\n",
       "    </tr>\n",
       "    <tr>\n",
       "      <th>495</th>\n",
       "      <td>1.103755</td>\n",
       "    </tr>\n",
       "    <tr>\n",
       "      <th>496</th>\n",
       "      <td>1.115353</td>\n",
       "    </tr>\n",
       "    <tr>\n",
       "      <th>497</th>\n",
       "      <td>1.016305</td>\n",
       "    </tr>\n",
       "    <tr>\n",
       "      <th>498</th>\n",
       "      <td>1.231729</td>\n",
       "    </tr>\n",
       "  </tbody>\n",
       "</table>\n",
       "<p>984527 rows × 1 columns</p>\n",
       "</div>"
      ],
      "text/plain": [
       "                                    gmdTunnel\n",
       "macroBunchPulseId microBunchPulseId          \n",
       "918393840         0                  0.854754\n",
       "                  1                  0.801131\n",
       "                  2                   0.59965\n",
       "                  3                  0.463227\n",
       "                  4                  0.935985\n",
       "...                                       ...\n",
       "918395812         494                0.760217\n",
       "                  495                1.103755\n",
       "                  496                1.115353\n",
       "                  497                1.016305\n",
       "                  498                1.231729\n",
       "\n",
       "[984527 rows x 1 columns]"
      ]
     },
     "execution_count": 8,
     "metadata": {},
     "output_type": "execute_result"
    }
   ],
   "source": [
    "# %%timeit\n",
    "# Define the channels both pulse and electron resolved\n",
    "test.channels = ['dldTime', 'gmdTunnel', 'dldPosX']\n",
    "# H5 file path\n",
    "path = Path(\"/asap3/flash/gpfs/pg2/2020/data/11008860/raw/hdf/express/FLASH1_USER2_stream_2_run35971_file25_20201128T230926.1.h5\")\n",
    "# Use class method to create dataframe\n",
    "df1, df2 = test.createDataframePerFile(path)\n",
    "df1"
   ]
  },
  {
   "cell_type": "code",
   "execution_count": 9,
   "metadata": {},
   "outputs": [
    {
     "data": {
      "text/html": [
       "<div>\n",
       "<style scoped>\n",
       "    .dataframe tbody tr th:only-of-type {\n",
       "        vertical-align: middle;\n",
       "    }\n",
       "\n",
       "    .dataframe tbody tr th {\n",
       "        vertical-align: top;\n",
       "    }\n",
       "\n",
       "    .dataframe thead th {\n",
       "        text-align: right;\n",
       "    }\n",
       "</style>\n",
       "<table border=\"1\" class=\"dataframe\">\n",
       "  <thead>\n",
       "    <tr style=\"text-align: right;\">\n",
       "      <th></th>\n",
       "      <th></th>\n",
       "      <th>dldTime</th>\n",
       "      <th>dldPosX</th>\n",
       "    </tr>\n",
       "    <tr>\n",
       "      <th>macroBunchPulseId</th>\n",
       "      <th>microBunchPulseId</th>\n",
       "      <th></th>\n",
       "      <th></th>\n",
       "    </tr>\n",
       "  </thead>\n",
       "  <tbody>\n",
       "    <tr>\n",
       "      <th rowspan=\"5\" valign=\"top\">918393840</th>\n",
       "      <th>35026.0</th>\n",
       "      <td>704.0</td>\n",
       "      <td>827.0</td>\n",
       "    </tr>\n",
       "    <tr>\n",
       "      <th>35031.0</th>\n",
       "      <td>707.0</td>\n",
       "      <td>829.0</td>\n",
       "    </tr>\n",
       "    <tr>\n",
       "      <th>36662.0</th>\n",
       "      <td>597.0</td>\n",
       "      <td>841.0</td>\n",
       "    </tr>\n",
       "    <tr>\n",
       "      <th>36655.0</th>\n",
       "      <td>597.0</td>\n",
       "      <td>847.0</td>\n",
       "    </tr>\n",
       "    <tr>\n",
       "      <th>33349.0</th>\n",
       "      <td>486.0</td>\n",
       "      <td>643.0</td>\n",
       "    </tr>\n",
       "    <tr>\n",
       "      <th>...</th>\n",
       "      <th>...</th>\n",
       "      <td>...</td>\n",
       "      <td>...</td>\n",
       "    </tr>\n",
       "    <tr>\n",
       "      <th rowspan=\"5\" valign=\"top\">918395812</th>\n",
       "      <th>NaN</th>\n",
       "      <td>NaN</td>\n",
       "      <td>NaN</td>\n",
       "    </tr>\n",
       "    <tr>\n",
       "      <th>NaN</th>\n",
       "      <td>NaN</td>\n",
       "      <td>NaN</td>\n",
       "    </tr>\n",
       "    <tr>\n",
       "      <th>NaN</th>\n",
       "      <td>NaN</td>\n",
       "      <td>NaN</td>\n",
       "    </tr>\n",
       "    <tr>\n",
       "      <th>NaN</th>\n",
       "      <td>NaN</td>\n",
       "      <td>NaN</td>\n",
       "    </tr>\n",
       "    <tr>\n",
       "      <th>NaN</th>\n",
       "      <td>NaN</td>\n",
       "      <td>NaN</td>\n",
       "    </tr>\n",
       "  </tbody>\n",
       "</table>\n",
       "<p>2046001 rows × 2 columns</p>\n",
       "</div>"
      ],
      "text/plain": [
       "                                    dldTime dldPosX\n",
       "macroBunchPulseId microBunchPulseId                \n",
       "918393840         35026.0             704.0   827.0\n",
       "                  35031.0             707.0   829.0\n",
       "                  36662.0             597.0   841.0\n",
       "                  36655.0             597.0   847.0\n",
       "                  33349.0             486.0   643.0\n",
       "...                                     ...     ...\n",
       "918395812         NaN                   NaN     NaN\n",
       "                  NaN                   NaN     NaN\n",
       "                  NaN                   NaN     NaN\n",
       "                  NaN                   NaN     NaN\n",
       "                  NaN                   NaN     NaN\n",
       "\n",
       "[2046001 rows x 2 columns]"
      ]
     },
     "execution_count": 9,
     "metadata": {},
     "output_type": "execute_result"
    }
   ],
   "source": [
    "df2"
   ]
  },
  {
   "cell_type": "markdown",
   "metadata": {},
   "source": [
    "### Show all filepaths from a single run"
   ]
  },
  {
   "cell_type": "code",
   "execution_count": 14,
   "metadata": {
    "scrolled": true
   },
   "outputs": [
    {
     "data": {
      "text/plain": [
       "[PosixPath('/asap3/flash/gpfs/pg2/2020/data/11008860/raw/hdf/express/FLASH1_USER2_stream_2_run35865_file1_20201125T001801.1.h5'),\n",
       " PosixPath('/asap3/flash/gpfs/pg2/2020/data/11008860/raw/hdf/express/FLASH1_USER2_stream_2_run35865_file2_20201125T002133.1.h5'),\n",
       " PosixPath('/asap3/flash/gpfs/pg2/2020/data/11008860/raw/hdf/express/FLASH1_USER2_stream_2_run35865_file3_20201125T002454.1.h5'),\n",
       " PosixPath('/asap3/flash/gpfs/pg2/2020/data/11008860/raw/hdf/express/FLASH1_USER2_stream_2_run35865_file4_20201125T002815.1.h5'),\n",
       " PosixPath('/asap3/flash/gpfs/pg2/2020/data/11008860/raw/hdf/express/FLASH1_USER2_stream_2_run35865_file5_20201125T003137.1.h5'),\n",
       " PosixPath('/asap3/flash/gpfs/pg2/2020/data/11008860/raw/hdf/express/FLASH1_USER2_stream_2_run35865_file6_20201125T003500.1.h5'),\n",
       " PosixPath('/asap3/flash/gpfs/pg2/2020/data/11008860/raw/hdf/express/FLASH1_USER2_stream_2_run35865_file7_20201125T003823.1.h5'),\n",
       " PosixPath('/asap3/flash/gpfs/pg2/2020/data/11008860/raw/hdf/express/FLASH1_USER2_stream_2_run35865_file8_20201125T004145.1.h5'),\n",
       " PosixPath('/asap3/flash/gpfs/pg2/2020/data/11008860/raw/hdf/express/FLASH1_USER2_stream_2_run35865_file9_20201125T004507.1.h5'),\n",
       " PosixPath('/asap3/flash/gpfs/pg2/2020/data/11008860/raw/hdf/express/FLASH1_USER2_stream_2_run35865_file10_20201125T004830.1.h5'),\n",
       " PosixPath('/asap3/flash/gpfs/pg2/2020/data/11008860/raw/hdf/express/FLASH1_USER2_stream_2_run35865_file11_20201125T005152.1.h5'),\n",
       " PosixPath('/asap3/flash/gpfs/pg2/2020/data/11008860/raw/hdf/express/FLASH1_USER2_stream_2_run35865_file12_20201125T005514.1.h5'),\n",
       " PosixPath('/asap3/flash/gpfs/pg2/2020/data/11008860/raw/hdf/express/FLASH1_USER2_stream_2_run35865_file13_20201125T005837.1.h5'),\n",
       " PosixPath('/asap3/flash/gpfs/pg2/2020/data/11008860/raw/hdf/express/FLASH1_USER2_stream_2_run35865_file14_20201125T010159.1.h5'),\n",
       " PosixPath('/asap3/flash/gpfs/pg2/2020/data/11008860/raw/hdf/express/FLASH1_USER2_stream_2_run35865_file15_20201125T010523.1.h5'),\n",
       " PosixPath('/asap3/flash/gpfs/pg2/2020/data/11008860/raw/hdf/express/FLASH1_USER2_stream_2_run35865_file16_20201125T010846.1.h5'),\n",
       " PosixPath('/asap3/flash/gpfs/pg2/2020/data/11008860/raw/hdf/express/FLASH1_USER2_stream_2_run35865_file17_20201125T011208.1.h5'),\n",
       " PosixPath('/asap3/flash/gpfs/pg2/2020/data/11008860/raw/hdf/express/FLASH1_USER2_stream_2_run35865_file18_20201125T011530.1.h5'),\n",
       " PosixPath('/asap3/flash/gpfs/pg2/2020/data/11008860/raw/hdf/express/FLASH1_USER2_stream_2_run35865_file19_20201125T011852.1.h5'),\n",
       " PosixPath('/asap3/flash/gpfs/pg2/2020/data/11008860/raw/hdf/express/FLASH1_USER2_stream_2_run35865_file20_20201125T012214.1.h5'),\n",
       " PosixPath('/asap3/flash/gpfs/pg2/2020/data/11008860/raw/hdf/express/FLASH1_USER2_stream_2_run35865_file21_20201125T012537.1.h5'),\n",
       " PosixPath('/asap3/flash/gpfs/pg2/2020/data/11008860/raw/hdf/express/FLASH1_USER2_stream_2_run35865_file22_20201125T012859.1.h5'),\n",
       " PosixPath('/asap3/flash/gpfs/pg2/2020/data/11008860/raw/hdf/express/FLASH1_USER2_stream_2_run35865_file23_20201125T013222.1.h5'),\n",
       " PosixPath('/asap3/flash/gpfs/pg2/2020/data/11008860/raw/hdf/express/FLASH1_USER2_stream_2_run35865_file24_20201125T013545.1.h5'),\n",
       " PosixPath('/asap3/flash/gpfs/pg2/2020/data/11008860/raw/hdf/express/FLASH1_USER2_stream_2_run35865_file25_20201125T013908.1.h5'),\n",
       " PosixPath('/asap3/flash/gpfs/pg2/2020/data/11008860/raw/hdf/express/FLASH1_USER2_stream_2_run35865_file26_20201125T014230.1.h5'),\n",
       " PosixPath('/asap3/flash/gpfs/pg2/2020/data/11008860/raw/hdf/express/FLASH1_USER2_stream_2_run35865_file27_20201125T014553.1.h5'),\n",
       " PosixPath('/asap3/flash/gpfs/pg2/2020/data/11008860/raw/hdf/express/FLASH1_USER2_stream_2_run35865_file28_20201125T014915.1.h5'),\n",
       " PosixPath('/asap3/flash/gpfs/pg2/2020/data/11008860/raw/hdf/express/FLASH1_USER2_stream_2_run35865_file29_20201125T015238.1.h5'),\n",
       " PosixPath('/asap3/flash/gpfs/pg2/2020/data/11008860/raw/hdf/express/FLASH1_USER2_stream_2_run35865_file30_20201125T015600.1.h5'),\n",
       " PosixPath('/asap3/flash/gpfs/pg2/2020/data/11008860/raw/hdf/express/FLASH1_USER2_stream_2_run35865_file31_20201125T015923.1.h5'),\n",
       " PosixPath('/asap3/flash/gpfs/pg2/2020/data/11008860/raw/hdf/express/FLASH1_USER2_stream_2_run35865_file32_20201125T020245.1.h5'),\n",
       " PosixPath('/asap3/flash/gpfs/pg2/2020/data/11008860/raw/hdf/express/FLASH1_USER2_stream_2_run35865_file33_20201125T020608.1.h5'),\n",
       " PosixPath('/asap3/flash/gpfs/pg2/2020/data/11008860/raw/hdf/express/FLASH1_USER2_stream_2_run35865_file34_20201125T020931.1.h5'),\n",
       " PosixPath('/asap3/flash/gpfs/pg2/2020/data/11008860/raw/hdf/express/FLASH1_USER2_stream_2_run35865_file35_20201125T021253.1.h5'),\n",
       " PosixPath('/asap3/flash/gpfs/pg2/2020/data/11008860/raw/hdf/express/FLASH1_USER2_stream_2_run35865_file36_20201125T021616.1.h5'),\n",
       " PosixPath('/asap3/flash/gpfs/pg2/2020/data/11008860/raw/hdf/express/FLASH1_USER2_stream_2_run35865_file37_20201125T021939.1.h5'),\n",
       " PosixPath('/asap3/flash/gpfs/pg2/2020/data/11008860/raw/hdf/express/FLASH1_USER2_stream_2_run35865_file38_20201125T022301.1.h5'),\n",
       " PosixPath('/asap3/flash/gpfs/pg2/2020/data/11008860/raw/hdf/express/FLASH1_USER2_stream_2_run35865_file39_20201125T022624.1.h5'),\n",
       " PosixPath('/asap3/flash/gpfs/pg2/2020/data/11008860/raw/hdf/express/FLASH1_USER2_stream_2_run35865_file40_20201125T022946.1.h5'),\n",
       " PosixPath('/asap3/flash/gpfs/pg2/2020/data/11008860/raw/hdf/express/FLASH1_USER2_stream_2_run35865_file41_20201125T023309.1.h5'),\n",
       " PosixPath('/asap3/flash/gpfs/pg2/2020/data/11008860/raw/hdf/express/FLASH1_USER2_stream_2_run35865_file42_20201125T023631.1.h5'),\n",
       " PosixPath('/asap3/flash/gpfs/pg2/2020/data/11008860/raw/hdf/express/FLASH1_USER2_stream_2_run35865_file43_20201125T023954.1.h5'),\n",
       " PosixPath('/asap3/flash/gpfs/pg2/2020/data/11008860/raw/hdf/express/FLASH1_USER2_stream_2_run35865_file44_20201125T024316.1.h5'),\n",
       " PosixPath('/asap3/flash/gpfs/pg2/2020/data/11008860/raw/hdf/express/FLASH1_USER2_stream_2_run35865_file45_20201125T024639.1.h5'),\n",
       " PosixPath('/asap3/flash/gpfs/pg2/2020/data/11008860/raw/hdf/express/FLASH1_USER2_stream_2_run35865_file46_20201125T025002.1.h5'),\n",
       " PosixPath('/asap3/flash/gpfs/pg2/2020/data/11008860/raw/hdf/express/FLASH1_USER2_stream_2_run35865_file47_20201125T025325.1.h5'),\n",
       " PosixPath('/asap3/flash/gpfs/pg2/2020/data/11008860/raw/hdf/express/FLASH1_USER2_stream_2_run35865_file48_20201125T025647.1.h5'),\n",
       " PosixPath('/asap3/flash/gpfs/pg2/2020/data/11008860/raw/hdf/express/FLASH1_USER2_stream_2_run35865_file49_20201125T030010.1.h5'),\n",
       " PosixPath('/asap3/flash/gpfs/pg2/2020/data/11008860/raw/hdf/express/FLASH1_USER2_stream_2_run35865_file50_20201125T030333.1.h5'),\n",
       " PosixPath('/asap3/flash/gpfs/pg2/2020/data/11008860/raw/hdf/express/FLASH1_USER2_stream_2_run35865_file51_20201125T030656.1.h5'),\n",
       " PosixPath('/asap3/flash/gpfs/pg2/2020/data/11008860/raw/hdf/express/FLASH1_USER2_stream_2_run35865_file52_20201125T031019.1.h5'),\n",
       " PosixPath('/asap3/flash/gpfs/pg2/2020/data/11008860/raw/hdf/express/FLASH1_USER2_stream_2_run35865_file53_20201125T031341.1.h5'),\n",
       " PosixPath('/asap3/flash/gpfs/pg2/2020/data/11008860/raw/hdf/express/FLASH1_USER2_stream_2_run35865_file54_20201125T031704.1.h5'),\n",
       " PosixPath('/asap3/flash/gpfs/pg2/2020/data/11008860/raw/hdf/express/FLASH1_USER2_stream_2_run35865_file55_20201125T032027.1.h5'),\n",
       " PosixPath('/asap3/flash/gpfs/pg2/2020/data/11008860/raw/hdf/express/FLASH1_USER2_stream_2_run35865_file56_20201125T032350.1.h5'),\n",
       " PosixPath('/asap3/flash/gpfs/pg2/2020/data/11008860/raw/hdf/express/FLASH1_USER2_stream_2_run35865_file57_20201125T032712.1.h5'),\n",
       " PosixPath('/asap3/flash/gpfs/pg2/2020/data/11008860/raw/hdf/express/FLASH1_USER2_stream_2_run35865_file58_20201125T033035.1.h5'),\n",
       " PosixPath('/asap3/flash/gpfs/pg2/2020/data/11008860/raw/hdf/express/FLASH1_USER2_stream_2_run35865_file59_20201125T033358.1.h5'),\n",
       " PosixPath('/asap3/flash/gpfs/pg2/2020/data/11008860/raw/hdf/express/FLASH1_USER2_stream_2_run35865_file60_20201125T033721.1.h5'),\n",
       " PosixPath('/asap3/flash/gpfs/pg2/2020/data/11008860/raw/hdf/express/FLASH1_USER2_stream_2_run35865_file61_20201125T034044.1.h5'),\n",
       " PosixPath('/asap3/flash/gpfs/pg2/2020/data/11008860/raw/hdf/express/FLASH1_USER2_stream_2_run35865_file62_20201125T034407.1.h5'),\n",
       " PosixPath('/asap3/flash/gpfs/pg2/2020/data/11008860/raw/hdf/express/FLASH1_USER2_stream_2_run35865_file63_20201125T034729.1.h5'),\n",
       " PosixPath('/asap3/flash/gpfs/pg2/2020/data/11008860/raw/hdf/express/FLASH1_USER2_stream_2_run35865_file64_20201125T035052.1.h5'),\n",
       " PosixPath('/asap3/flash/gpfs/pg2/2020/data/11008860/raw/hdf/express/FLASH1_USER2_stream_2_run35865_file65_20201125T035415.1.h5'),\n",
       " PosixPath('/asap3/flash/gpfs/pg2/2020/data/11008860/raw/hdf/express/FLASH1_USER2_stream_2_run35865_file66_20201125T035737.1.h5'),\n",
       " PosixPath('/asap3/flash/gpfs/pg2/2020/data/11008860/raw/hdf/express/FLASH1_USER2_stream_2_run35865_file67_20201125T040100.1.h5'),\n",
       " PosixPath('/asap3/flash/gpfs/pg2/2020/data/11008860/raw/hdf/express/FLASH1_USER2_stream_2_run35865_file68_20201125T040423.1.h5'),\n",
       " PosixPath('/asap3/flash/gpfs/pg2/2020/data/11008860/raw/hdf/express/FLASH1_USER2_stream_2_run35865_file69_20201125T040746.1.h5'),\n",
       " PosixPath('/asap3/flash/gpfs/pg2/2020/data/11008860/raw/hdf/express/FLASH1_USER2_stream_2_run35865_file70_20201125T041109.1.h5'),\n",
       " PosixPath('/asap3/flash/gpfs/pg2/2020/data/11008860/raw/hdf/express/FLASH1_USER2_stream_2_run35865_file71_20201125T041432.1.h5'),\n",
       " PosixPath('/asap3/flash/gpfs/pg2/2020/data/11008860/raw/hdf/express/FLASH1_USER2_stream_2_run35865_file72_20201125T041754.1.h5'),\n",
       " PosixPath('/asap3/flash/gpfs/pg2/2020/data/11008860/raw/hdf/express/FLASH1_USER2_stream_2_run35865_file73_20201125T042117.1.h5'),\n",
       " PosixPath('/asap3/flash/gpfs/pg2/2020/data/11008860/raw/hdf/express/FLASH1_USER2_stream_2_run35865_file74_20201125T042440.1.h5'),\n",
       " PosixPath('/asap3/flash/gpfs/pg2/2020/data/11008860/raw/hdf/express/FLASH1_USER2_stream_2_run35865_file75_20201125T042803.1.h5'),\n",
       " PosixPath('/asap3/flash/gpfs/pg2/2020/data/11008860/raw/hdf/express/FLASH1_USER2_stream_2_run35865_file76_20201125T043126.1.h5'),\n",
       " PosixPath('/asap3/flash/gpfs/pg2/2020/data/11008860/raw/hdf/express/FLASH1_USER2_stream_2_run35865_file77_20201125T043449.1.h5'),\n",
       " PosixPath('/asap3/flash/gpfs/pg2/2020/data/11008860/raw/hdf/express/FLASH1_USER2_stream_2_run35865_file78_20201125T043812.1.h5'),\n",
       " PosixPath('/asap3/flash/gpfs/pg2/2020/data/11008860/raw/hdf/express/FLASH1_USER2_stream_2_run35865_file79_20201125T044135.1.h5'),\n",
       " PosixPath('/asap3/flash/gpfs/pg2/2020/data/11008860/raw/hdf/express/FLASH1_USER2_stream_2_run35865_file80_20201125T044458.1.h5'),\n",
       " PosixPath('/asap3/flash/gpfs/pg2/2020/data/11008860/raw/hdf/express/FLASH1_USER2_stream_2_run35865_file81_20201125T044820.1.h5'),\n",
       " PosixPath('/asap3/flash/gpfs/pg2/2020/data/11008860/raw/hdf/express/FLASH1_USER2_stream_2_run35865_file82_20201125T045143.1.h5'),\n",
       " PosixPath('/asap3/flash/gpfs/pg2/2020/data/11008860/raw/hdf/express/FLASH1_USER2_stream_2_run35865_file83_20201125T045506.1.h5'),\n",
       " PosixPath('/asap3/flash/gpfs/pg2/2020/data/11008860/raw/hdf/express/FLASH1_USER2_stream_2_run35865_file84_20201125T045829.1.h5'),\n",
       " PosixPath('/asap3/flash/gpfs/pg2/2020/data/11008860/raw/hdf/express/FLASH1_USER2_stream_2_run35865_file85_20201125T050151.1.h5'),\n",
       " PosixPath('/asap3/flash/gpfs/pg2/2020/data/11008860/raw/hdf/express/FLASH1_USER2_stream_2_run35865_file86_20201125T050513.1.h5'),\n",
       " PosixPath('/asap3/flash/gpfs/pg2/2020/data/11008860/raw/hdf/express/FLASH1_USER2_stream_2_run35865_file87_20201125T050836.1.h5'),\n",
       " PosixPath('/asap3/flash/gpfs/pg2/2020/data/11008860/raw/hdf/express/FLASH1_USER2_stream_2_run35865_file88_20201125T051158.1.h5'),\n",
       " PosixPath('/asap3/flash/gpfs/pg2/2020/data/11008860/raw/hdf/express/FLASH1_USER2_stream_2_run35865_file89_20201125T051521.1.h5'),\n",
       " PosixPath('/asap3/flash/gpfs/pg2/2020/data/11008860/raw/hdf/express/FLASH1_USER2_stream_2_run35865_file90_20201125T051844.1.h5'),\n",
       " PosixPath('/asap3/flash/gpfs/pg2/2020/data/11008860/raw/hdf/express/FLASH1_USER2_stream_2_run35865_file91_20201125T052206.1.h5'),\n",
       " PosixPath('/asap3/flash/gpfs/pg2/2020/data/11008860/raw/hdf/express/FLASH1_USER2_stream_2_run35865_file92_20201125T052529.1.h5'),\n",
       " PosixPath('/asap3/flash/gpfs/pg2/2020/data/11008860/raw/hdf/express/FLASH1_USER2_stream_2_run35865_file93_20201125T052851.1.h5'),\n",
       " PosixPath('/asap3/flash/gpfs/pg2/2020/data/11008860/raw/hdf/express/FLASH1_USER2_stream_2_run35865_file94_20201125T053214.1.h5'),\n",
       " PosixPath('/asap3/flash/gpfs/pg2/2020/data/11008860/raw/hdf/express/FLASH1_USER2_stream_2_run35865_file95_20201125T053537.1.h5'),\n",
       " PosixPath('/asap3/flash/gpfs/pg2/2020/data/11008860/raw/hdf/express/FLASH1_USER2_stream_2_run35865_file96_20201125T053900.1.h5'),\n",
       " PosixPath('/asap3/flash/gpfs/pg2/2020/data/11008860/raw/hdf/express/FLASH1_USER2_stream_2_run35865_file97_20201125T054223.1.h5'),\n",
       " PosixPath('/asap3/flash/gpfs/pg2/2020/data/11008860/raw/hdf/express/FLASH1_USER2_stream_2_run35865_file98_20201125T054546.1.h5'),\n",
       " PosixPath('/asap3/flash/gpfs/pg2/2020/data/11008860/raw/hdf/express/FLASH1_USER2_stream_2_run35865_file99_20201125T054909.1.h5'),\n",
       " PosixPath('/asap3/flash/gpfs/pg2/2020/data/11008860/raw/hdf/express/FLASH1_USER2_stream_2_run35865_file100_20201125T055232.1.h5'),\n",
       " PosixPath('/asap3/flash/gpfs/pg2/2020/data/11008860/raw/hdf/express/FLASH1_USER2_stream_2_run35865_file101_20201125T055554.1.h5'),\n",
       " PosixPath('/asap3/flash/gpfs/pg2/2020/data/11008860/raw/hdf/express/FLASH1_USER2_stream_2_run35865_file102_20201125T055917.1.h5'),\n",
       " PosixPath('/asap3/flash/gpfs/pg2/2020/data/11008860/raw/hdf/express/FLASH1_USER2_stream_2_run35865_file103_20201125T060239.1.h5'),\n",
       " PosixPath('/asap3/flash/gpfs/pg2/2020/data/11008860/raw/hdf/express/FLASH1_USER2_stream_2_run35865_file104_20201125T060601.1.h5'),\n",
       " PosixPath('/asap3/flash/gpfs/pg2/2020/data/11008860/raw/hdf/express/FLASH1_USER2_stream_2_run35865_file105_20201125T060924.1.h5'),\n",
       " PosixPath('/asap3/flash/gpfs/pg2/2020/data/11008860/raw/hdf/express/FLASH1_USER2_stream_2_run35865_file106_20201125T061248.1.h5'),\n",
       " PosixPath('/asap3/flash/gpfs/pg2/2020/data/11008860/raw/hdf/express/FLASH1_USER2_stream_2_run35865_file107_20201125T061610.1.h5'),\n",
       " PosixPath('/asap3/flash/gpfs/pg2/2020/data/11008860/raw/hdf/express/FLASH1_USER2_stream_2_run35865_file108_20201125T061933.1.h5'),\n",
       " PosixPath('/asap3/flash/gpfs/pg2/2020/data/11008860/raw/hdf/express/FLASH1_USER2_stream_2_run35865_file109_20201125T062255.1.h5'),\n",
       " PosixPath('/asap3/flash/gpfs/pg2/2020/data/11008860/raw/hdf/express/FLASH1_USER2_stream_2_run35865_file110_20201125T062618.1.h5'),\n",
       " PosixPath('/asap3/flash/gpfs/pg2/2020/data/11008860/raw/hdf/express/FLASH1_USER2_stream_2_run35865_file111_20201125T062941.1.h5'),\n",
       " PosixPath('/asap3/flash/gpfs/pg2/2020/data/11008860/raw/hdf/express/FLASH1_USER2_stream_2_run35865_file112_20201125T063304.1.h5'),\n",
       " PosixPath('/asap3/flash/gpfs/pg2/2020/data/11008860/raw/hdf/express/FLASH1_USER2_stream_2_run35865_file113_20201125T063626.1.h5'),\n",
       " PosixPath('/asap3/flash/gpfs/pg2/2020/data/11008860/raw/hdf/express/FLASH1_USER2_stream_2_run35865_file114_20201125T063949.1.h5'),\n",
       " PosixPath('/asap3/flash/gpfs/pg2/2020/data/11008860/raw/hdf/express/FLASH1_USER2_stream_2_run35865_file115_20201125T064312.1.h5'),\n",
       " PosixPath('/asap3/flash/gpfs/pg2/2020/data/11008860/raw/hdf/express/FLASH1_USER2_stream_2_run35865_file116_20201125T064636.1.h5'),\n",
       " PosixPath('/asap3/flash/gpfs/pg2/2020/data/11008860/raw/hdf/express/FLASH1_USER2_stream_2_run35865_file117_20201125T065000.1.h5'),\n",
       " PosixPath('/asap3/flash/gpfs/pg2/2020/data/11008860/raw/hdf/express/FLASH1_USER2_stream_2_run35865_file118_20201125T065325.1.h5'),\n",
       " PosixPath('/asap3/flash/gpfs/pg2/2020/data/11008860/raw/hdf/express/FLASH1_USER2_stream_2_run35865_file119_20201125T065649.1.h5'),\n",
       " PosixPath('/asap3/flash/gpfs/pg2/2020/data/11008860/raw/hdf/express/FLASH1_USER2_stream_2_run35865_file120_20201125T070013.1.h5'),\n",
       " PosixPath('/asap3/flash/gpfs/pg2/2020/data/11008860/raw/hdf/express/FLASH1_USER2_stream_2_run35865_file121_20201125T070337.1.h5')]"
      ]
     },
     "execution_count": 14,
     "metadata": {},
     "output_type": "execute_result"
    }
   ],
   "source": [
    "# Give run number and the daq \n",
    "test.runFilesNames(run_number = 35865, daq = \"fl1user2\")"
   ]
  },
  {
   "cell_type": "markdown",
   "metadata": {},
   "source": [
    "### Create a two channel dataframe from a single run"
   ]
  },
  {
   "cell_type": "code",
   "execution_count": 10,
   "metadata": {
    "collapsed": true
   },
   "outputs": [
    {
     "ename": "KeyboardInterrupt",
     "evalue": "",
     "output_type": "error",
     "traceback": [
      "\u001b[0;31m---------------------------------------------------------------------------\u001b[0m",
      "\u001b[0;31mKeyboardInterrupt\u001b[0m                         Traceback (most recent call last)",
      "\u001b[0;32m<ipython-input-10-a24ca8b2ccca>\u001b[0m in \u001b[0;36m<module>\u001b[0;34m\u001b[0m\n\u001b[0;32m----> 1\u001b[0;31m \u001b[0mget_ipython\u001b[0m\u001b[0;34m(\u001b[0m\u001b[0;34m)\u001b[0m\u001b[0;34m.\u001b[0m\u001b[0mrun_cell_magic\u001b[0m\u001b[0;34m(\u001b[0m\u001b[0;34m'timeit'\u001b[0m\u001b[0;34m,\u001b[0m \u001b[0;34m''\u001b[0m\u001b[0;34m,\u001b[0m \u001b[0;34m'# Give run number and the daq \\ndf1, df2 = test.createDataframePerRun(run_number = 35865, daq = \"fl1user2\")\\n'\u001b[0m\u001b[0;34m)\u001b[0m\u001b[0;34m\u001b[0m\u001b[0;34m\u001b[0m\u001b[0m\n\u001b[0m",
      "\u001b[0;32m~/.conda/envs/flash-hdf/lib/python3.8/site-packages/IPython/core/interactiveshell.py\u001b[0m in \u001b[0;36mrun_cell_magic\u001b[0;34m(self, magic_name, line, cell)\u001b[0m\n\u001b[1;32m   2397\u001b[0m             \u001b[0;32mwith\u001b[0m \u001b[0mself\u001b[0m\u001b[0;34m.\u001b[0m\u001b[0mbuiltin_trap\u001b[0m\u001b[0;34m:\u001b[0m\u001b[0;34m\u001b[0m\u001b[0;34m\u001b[0m\u001b[0m\n\u001b[1;32m   2398\u001b[0m                 \u001b[0margs\u001b[0m \u001b[0;34m=\u001b[0m \u001b[0;34m(\u001b[0m\u001b[0mmagic_arg_s\u001b[0m\u001b[0;34m,\u001b[0m \u001b[0mcell\u001b[0m\u001b[0;34m)\u001b[0m\u001b[0;34m\u001b[0m\u001b[0;34m\u001b[0m\u001b[0m\n\u001b[0;32m-> 2399\u001b[0;31m                 \u001b[0mresult\u001b[0m \u001b[0;34m=\u001b[0m \u001b[0mfn\u001b[0m\u001b[0;34m(\u001b[0m\u001b[0;34m*\u001b[0m\u001b[0margs\u001b[0m\u001b[0;34m,\u001b[0m \u001b[0;34m**\u001b[0m\u001b[0mkwargs\u001b[0m\u001b[0;34m)\u001b[0m\u001b[0;34m\u001b[0m\u001b[0;34m\u001b[0m\u001b[0m\n\u001b[0m\u001b[1;32m   2400\u001b[0m             \u001b[0;32mreturn\u001b[0m \u001b[0mresult\u001b[0m\u001b[0;34m\u001b[0m\u001b[0;34m\u001b[0m\u001b[0m\n\u001b[1;32m   2401\u001b[0m \u001b[0;34m\u001b[0m\u001b[0m\n",
      "\u001b[0;32m~/.conda/envs/flash-hdf/lib/python3.8/site-packages/decorator.py\u001b[0m in \u001b[0;36mfun\u001b[0;34m(*args, **kw)\u001b[0m\n\u001b[1;32m    230\u001b[0m             \u001b[0;32mif\u001b[0m \u001b[0;32mnot\u001b[0m \u001b[0mkwsyntax\u001b[0m\u001b[0;34m:\u001b[0m\u001b[0;34m\u001b[0m\u001b[0;34m\u001b[0m\u001b[0m\n\u001b[1;32m    231\u001b[0m                 \u001b[0margs\u001b[0m\u001b[0;34m,\u001b[0m \u001b[0mkw\u001b[0m \u001b[0;34m=\u001b[0m \u001b[0mfix\u001b[0m\u001b[0;34m(\u001b[0m\u001b[0margs\u001b[0m\u001b[0;34m,\u001b[0m \u001b[0mkw\u001b[0m\u001b[0;34m,\u001b[0m \u001b[0msig\u001b[0m\u001b[0;34m)\u001b[0m\u001b[0;34m\u001b[0m\u001b[0;34m\u001b[0m\u001b[0m\n\u001b[0;32m--> 232\u001b[0;31m             \u001b[0;32mreturn\u001b[0m \u001b[0mcaller\u001b[0m\u001b[0;34m(\u001b[0m\u001b[0mfunc\u001b[0m\u001b[0;34m,\u001b[0m \u001b[0;34m*\u001b[0m\u001b[0;34m(\u001b[0m\u001b[0mextras\u001b[0m \u001b[0;34m+\u001b[0m \u001b[0margs\u001b[0m\u001b[0;34m)\u001b[0m\u001b[0;34m,\u001b[0m \u001b[0;34m**\u001b[0m\u001b[0mkw\u001b[0m\u001b[0;34m)\u001b[0m\u001b[0;34m\u001b[0m\u001b[0;34m\u001b[0m\u001b[0m\n\u001b[0m\u001b[1;32m    233\u001b[0m     \u001b[0mfun\u001b[0m\u001b[0;34m.\u001b[0m\u001b[0m__name__\u001b[0m \u001b[0;34m=\u001b[0m \u001b[0mfunc\u001b[0m\u001b[0;34m.\u001b[0m\u001b[0m__name__\u001b[0m\u001b[0;34m\u001b[0m\u001b[0;34m\u001b[0m\u001b[0m\n\u001b[1;32m    234\u001b[0m     \u001b[0mfun\u001b[0m\u001b[0;34m.\u001b[0m\u001b[0m__doc__\u001b[0m \u001b[0;34m=\u001b[0m \u001b[0mfunc\u001b[0m\u001b[0;34m.\u001b[0m\u001b[0m__doc__\u001b[0m\u001b[0;34m\u001b[0m\u001b[0;34m\u001b[0m\u001b[0m\n",
      "\u001b[0;32m~/.conda/envs/flash-hdf/lib/python3.8/site-packages/IPython/core/magic.py\u001b[0m in \u001b[0;36m<lambda>\u001b[0;34m(f, *a, **k)\u001b[0m\n\u001b[1;32m    185\u001b[0m     \u001b[0;31m# but it's overkill for just that one bit of state.\u001b[0m\u001b[0;34m\u001b[0m\u001b[0;34m\u001b[0m\u001b[0;34m\u001b[0m\u001b[0m\n\u001b[1;32m    186\u001b[0m     \u001b[0;32mdef\u001b[0m \u001b[0mmagic_deco\u001b[0m\u001b[0;34m(\u001b[0m\u001b[0marg\u001b[0m\u001b[0;34m)\u001b[0m\u001b[0;34m:\u001b[0m\u001b[0;34m\u001b[0m\u001b[0;34m\u001b[0m\u001b[0m\n\u001b[0;32m--> 187\u001b[0;31m         \u001b[0mcall\u001b[0m \u001b[0;34m=\u001b[0m \u001b[0;32mlambda\u001b[0m \u001b[0mf\u001b[0m\u001b[0;34m,\u001b[0m \u001b[0;34m*\u001b[0m\u001b[0ma\u001b[0m\u001b[0;34m,\u001b[0m \u001b[0;34m**\u001b[0m\u001b[0mk\u001b[0m\u001b[0;34m:\u001b[0m \u001b[0mf\u001b[0m\u001b[0;34m(\u001b[0m\u001b[0;34m*\u001b[0m\u001b[0ma\u001b[0m\u001b[0;34m,\u001b[0m \u001b[0;34m**\u001b[0m\u001b[0mk\u001b[0m\u001b[0;34m)\u001b[0m\u001b[0;34m\u001b[0m\u001b[0;34m\u001b[0m\u001b[0m\n\u001b[0m\u001b[1;32m    188\u001b[0m \u001b[0;34m\u001b[0m\u001b[0m\n\u001b[1;32m    189\u001b[0m         \u001b[0;32mif\u001b[0m \u001b[0mcallable\u001b[0m\u001b[0;34m(\u001b[0m\u001b[0marg\u001b[0m\u001b[0;34m)\u001b[0m\u001b[0;34m:\u001b[0m\u001b[0;34m\u001b[0m\u001b[0;34m\u001b[0m\u001b[0m\n",
      "\u001b[0;32m~/.conda/envs/flash-hdf/lib/python3.8/site-packages/IPython/core/magics/execution.py\u001b[0m in \u001b[0;36mtimeit\u001b[0;34m(self, line, cell, local_ns)\u001b[0m\n\u001b[1;32m   1171\u001b[0m                     \u001b[0;32mbreak\u001b[0m\u001b[0;34m\u001b[0m\u001b[0;34m\u001b[0m\u001b[0m\n\u001b[1;32m   1172\u001b[0m \u001b[0;34m\u001b[0m\u001b[0m\n\u001b[0;32m-> 1173\u001b[0;31m         \u001b[0mall_runs\u001b[0m \u001b[0;34m=\u001b[0m \u001b[0mtimer\u001b[0m\u001b[0;34m.\u001b[0m\u001b[0mrepeat\u001b[0m\u001b[0;34m(\u001b[0m\u001b[0mrepeat\u001b[0m\u001b[0;34m,\u001b[0m \u001b[0mnumber\u001b[0m\u001b[0;34m)\u001b[0m\u001b[0;34m\u001b[0m\u001b[0;34m\u001b[0m\u001b[0m\n\u001b[0m\u001b[1;32m   1174\u001b[0m         \u001b[0mbest\u001b[0m \u001b[0;34m=\u001b[0m \u001b[0mmin\u001b[0m\u001b[0;34m(\u001b[0m\u001b[0mall_runs\u001b[0m\u001b[0;34m)\u001b[0m \u001b[0;34m/\u001b[0m \u001b[0mnumber\u001b[0m\u001b[0;34m\u001b[0m\u001b[0;34m\u001b[0m\u001b[0m\n\u001b[1;32m   1175\u001b[0m         \u001b[0mworst\u001b[0m \u001b[0;34m=\u001b[0m \u001b[0mmax\u001b[0m\u001b[0;34m(\u001b[0m\u001b[0mall_runs\u001b[0m\u001b[0;34m)\u001b[0m \u001b[0;34m/\u001b[0m \u001b[0mnumber\u001b[0m\u001b[0;34m\u001b[0m\u001b[0;34m\u001b[0m\u001b[0m\n",
      "\u001b[0;32m~/.conda/envs/flash-hdf/lib/python3.8/timeit.py\u001b[0m in \u001b[0;36mrepeat\u001b[0;34m(self, repeat, number)\u001b[0m\n\u001b[1;32m    203\u001b[0m         \u001b[0mr\u001b[0m \u001b[0;34m=\u001b[0m \u001b[0;34m[\u001b[0m\u001b[0;34m]\u001b[0m\u001b[0;34m\u001b[0m\u001b[0;34m\u001b[0m\u001b[0m\n\u001b[1;32m    204\u001b[0m         \u001b[0;32mfor\u001b[0m \u001b[0mi\u001b[0m \u001b[0;32min\u001b[0m \u001b[0mrange\u001b[0m\u001b[0;34m(\u001b[0m\u001b[0mrepeat\u001b[0m\u001b[0;34m)\u001b[0m\u001b[0;34m:\u001b[0m\u001b[0;34m\u001b[0m\u001b[0;34m\u001b[0m\u001b[0m\n\u001b[0;32m--> 205\u001b[0;31m             \u001b[0mt\u001b[0m \u001b[0;34m=\u001b[0m \u001b[0mself\u001b[0m\u001b[0;34m.\u001b[0m\u001b[0mtimeit\u001b[0m\u001b[0;34m(\u001b[0m\u001b[0mnumber\u001b[0m\u001b[0;34m)\u001b[0m\u001b[0;34m\u001b[0m\u001b[0;34m\u001b[0m\u001b[0m\n\u001b[0m\u001b[1;32m    206\u001b[0m             \u001b[0mr\u001b[0m\u001b[0;34m.\u001b[0m\u001b[0mappend\u001b[0m\u001b[0;34m(\u001b[0m\u001b[0mt\u001b[0m\u001b[0;34m)\u001b[0m\u001b[0;34m\u001b[0m\u001b[0;34m\u001b[0m\u001b[0m\n\u001b[1;32m    207\u001b[0m         \u001b[0;32mreturn\u001b[0m \u001b[0mr\u001b[0m\u001b[0;34m\u001b[0m\u001b[0;34m\u001b[0m\u001b[0m\n",
      "\u001b[0;32m~/.conda/envs/flash-hdf/lib/python3.8/site-packages/IPython/core/magics/execution.py\u001b[0m in \u001b[0;36mtimeit\u001b[0;34m(self, number)\u001b[0m\n\u001b[1;32m    167\u001b[0m         \u001b[0mgc\u001b[0m\u001b[0;34m.\u001b[0m\u001b[0mdisable\u001b[0m\u001b[0;34m(\u001b[0m\u001b[0;34m)\u001b[0m\u001b[0;34m\u001b[0m\u001b[0;34m\u001b[0m\u001b[0m\n\u001b[1;32m    168\u001b[0m         \u001b[0;32mtry\u001b[0m\u001b[0;34m:\u001b[0m\u001b[0;34m\u001b[0m\u001b[0;34m\u001b[0m\u001b[0m\n\u001b[0;32m--> 169\u001b[0;31m             \u001b[0mtiming\u001b[0m \u001b[0;34m=\u001b[0m \u001b[0mself\u001b[0m\u001b[0;34m.\u001b[0m\u001b[0minner\u001b[0m\u001b[0;34m(\u001b[0m\u001b[0mit\u001b[0m\u001b[0;34m,\u001b[0m \u001b[0mself\u001b[0m\u001b[0;34m.\u001b[0m\u001b[0mtimer\u001b[0m\u001b[0;34m)\u001b[0m\u001b[0;34m\u001b[0m\u001b[0;34m\u001b[0m\u001b[0m\n\u001b[0m\u001b[1;32m    170\u001b[0m         \u001b[0;32mfinally\u001b[0m\u001b[0;34m:\u001b[0m\u001b[0;34m\u001b[0m\u001b[0;34m\u001b[0m\u001b[0m\n\u001b[1;32m    171\u001b[0m             \u001b[0;32mif\u001b[0m \u001b[0mgcold\u001b[0m\u001b[0;34m:\u001b[0m\u001b[0;34m\u001b[0m\u001b[0;34m\u001b[0m\u001b[0m\n",
      "\u001b[0;32m<magic-timeit>\u001b[0m in \u001b[0;36minner\u001b[0;34m(_it, _timer)\u001b[0m\n",
      "\u001b[0;32m~/hextof-newdata/hextof-processor/processor/DldFlashDataframeCreatorNew.py\u001b[0m in \u001b[0;36mcreateDataframePerRun\u001b[0;34m(self, run_number, daq)\u001b[0m\n\u001b[1;32m    214\u001b[0m         \u001b[0;31m# Creates a list of dataframes for all files in a run\u001b[0m\u001b[0;34m\u001b[0m\u001b[0;34m\u001b[0m\u001b[0;34m\u001b[0m\u001b[0m\n\u001b[1;32m    215\u001b[0m         \u001b[0;31m# genexpr not used due to the need to call this twice\u001b[0m\u001b[0;34m\u001b[0m\u001b[0;34m\u001b[0m\u001b[0;34m\u001b[0m\u001b[0m\n\u001b[0;32m--> 216\u001b[0;31m         data_frames = [\n\u001b[0m\u001b[1;32m    217\u001b[0m             self.createDataframePerFile(each_file) for each_file in files]\n\u001b[1;32m    218\u001b[0m \u001b[0;34m\u001b[0m\u001b[0m\n",
      "\u001b[0;32m~/hextof-newdata/hextof-processor/processor/DldFlashDataframeCreatorNew.py\u001b[0m in \u001b[0;36m<listcomp>\u001b[0;34m(.0)\u001b[0m\n\u001b[1;32m    215\u001b[0m         \u001b[0;31m# genexpr not used due to the need to call this twice\u001b[0m\u001b[0;34m\u001b[0m\u001b[0;34m\u001b[0m\u001b[0;34m\u001b[0m\u001b[0m\n\u001b[1;32m    216\u001b[0m         data_frames = [\n\u001b[0;32m--> 217\u001b[0;31m             self.createDataframePerFile(each_file) for each_file in files]\n\u001b[0m\u001b[1;32m    218\u001b[0m \u001b[0;34m\u001b[0m\u001b[0m\n\u001b[1;32m    219\u001b[0m         assert (data_frames\n",
      "\u001b[0;32m~/hextof-newdata/hextof-processor/processor/DldFlashDataframeCreatorNew.py\u001b[0m in \u001b[0;36mcreateDataframePerFile\u001b[0;34m(self, file_path)\u001b[0m\n\u001b[1;32m    179\u001b[0m         \u001b[0;31m# Loads h5 file and creates two dataframes\u001b[0m\u001b[0;34m\u001b[0m\u001b[0;34m\u001b[0m\u001b[0;34m\u001b[0m\u001b[0m\n\u001b[1;32m    180\u001b[0m         \u001b[0;32mwith\u001b[0m \u001b[0mh5py\u001b[0m\u001b[0;34m.\u001b[0m\u001b[0mFile\u001b[0m\u001b[0;34m(\u001b[0m\u001b[0mfile_path\u001b[0m\u001b[0;34m,\u001b[0m \u001b[0;34m\"r\"\u001b[0m\u001b[0;34m)\u001b[0m \u001b[0;32mas\u001b[0m \u001b[0mh5_file\u001b[0m\u001b[0;34m:\u001b[0m\u001b[0;34m\u001b[0m\u001b[0;34m\u001b[0m\u001b[0m\n\u001b[0;32m--> 181\u001b[0;31m             data_frame_per_electron = self.splitDataframePerFormat(\n\u001b[0m\u001b[1;32m    182\u001b[0m                 h5_file, \"per_electron\")\n\u001b[1;32m    183\u001b[0m             data_frame_per_pulse = self.splitDataframePerFormat(\n",
      "\u001b[0;32m~/hextof-newdata/hextof-processor/processor/DldFlashDataframeCreatorNew.py\u001b[0m in \u001b[0;36msplitDataframePerFormat\u001b[0;34m(self, h5_file, format_)\u001b[0m\n\u001b[1;32m    166\u001b[0m                 \u001b[0mself\u001b[0m\u001b[0;34m.\u001b[0m\u001b[0mcreateDataframePerChannel\u001b[0m\u001b[0;34m(\u001b[0m\u001b[0mh5_file\u001b[0m\u001b[0;34m,\u001b[0m \u001b[0meach\u001b[0m\u001b[0;34m)\u001b[0m\u001b[0;34m\u001b[0m\u001b[0;34m\u001b[0m\u001b[0m\n\u001b[1;32m    167\u001b[0m                 for each in channels_format) \n\u001b[0;32m--> 168\u001b[0;31m             \u001b[0;32mreturn\u001b[0m \u001b[0mconcat\u001b[0m\u001b[0;34m(\u001b[0m\u001b[0mdata_frames\u001b[0m\u001b[0;34m,\u001b[0m \u001b[0maxis\u001b[0m\u001b[0;34m=\u001b[0m\u001b[0;36m1\u001b[0m\u001b[0;34m)\u001b[0m\u001b[0;34m\u001b[0m\u001b[0;34m\u001b[0m\u001b[0m\n\u001b[0m\u001b[1;32m    169\u001b[0m \u001b[0;34m\u001b[0m\u001b[0m\n\u001b[1;32m    170\u001b[0m         \u001b[0;32melse\u001b[0m\u001b[0;34m:\u001b[0m\u001b[0;34m\u001b[0m\u001b[0;34m\u001b[0m\u001b[0m\n",
      "\u001b[0;32m~/.conda/envs/flash-hdf/lib/python3.8/site-packages/pandas/core/reshape/concat.py\u001b[0m in \u001b[0;36mconcat\u001b[0;34m(objs, axis, join, ignore_index, keys, levels, names, verify_integrity, sort, copy)\u001b[0m\n\u001b[1;32m    283\u001b[0m     \u001b[0mValueError\u001b[0m\u001b[0;34m:\u001b[0m \u001b[0mIndexes\u001b[0m \u001b[0mhave\u001b[0m \u001b[0moverlapping\u001b[0m \u001b[0mvalues\u001b[0m\u001b[0;34m:\u001b[0m \u001b[0;34m[\u001b[0m\u001b[0;34m'a'\u001b[0m\u001b[0;34m]\u001b[0m\u001b[0;34m\u001b[0m\u001b[0;34m\u001b[0m\u001b[0m\n\u001b[1;32m    284\u001b[0m     \"\"\"\n\u001b[0;32m--> 285\u001b[0;31m     op = _Concatenator(\n\u001b[0m\u001b[1;32m    286\u001b[0m         \u001b[0mobjs\u001b[0m\u001b[0;34m,\u001b[0m\u001b[0;34m\u001b[0m\u001b[0;34m\u001b[0m\u001b[0m\n\u001b[1;32m    287\u001b[0m         \u001b[0maxis\u001b[0m\u001b[0;34m=\u001b[0m\u001b[0maxis\u001b[0m\u001b[0;34m,\u001b[0m\u001b[0;34m\u001b[0m\u001b[0;34m\u001b[0m\u001b[0m\n",
      "\u001b[0;32m~/.conda/envs/flash-hdf/lib/python3.8/site-packages/pandas/core/reshape/concat.py\u001b[0m in \u001b[0;36m__init__\u001b[0;34m(self, objs, axis, join, keys, levels, names, ignore_index, verify_integrity, copy, sort)\u001b[0m\n\u001b[1;32m    337\u001b[0m             \u001b[0mobjs\u001b[0m \u001b[0;34m=\u001b[0m \u001b[0;34m[\u001b[0m\u001b[0mobjs\u001b[0m\u001b[0;34m[\u001b[0m\u001b[0mk\u001b[0m\u001b[0;34m]\u001b[0m \u001b[0;32mfor\u001b[0m \u001b[0mk\u001b[0m \u001b[0;32min\u001b[0m \u001b[0mkeys\u001b[0m\u001b[0;34m]\u001b[0m\u001b[0;34m\u001b[0m\u001b[0;34m\u001b[0m\u001b[0m\n\u001b[1;32m    338\u001b[0m         \u001b[0;32melse\u001b[0m\u001b[0;34m:\u001b[0m\u001b[0;34m\u001b[0m\u001b[0;34m\u001b[0m\u001b[0m\n\u001b[0;32m--> 339\u001b[0;31m             \u001b[0mobjs\u001b[0m \u001b[0;34m=\u001b[0m \u001b[0mlist\u001b[0m\u001b[0;34m(\u001b[0m\u001b[0mobjs\u001b[0m\u001b[0;34m)\u001b[0m\u001b[0;34m\u001b[0m\u001b[0;34m\u001b[0m\u001b[0m\n\u001b[0m\u001b[1;32m    340\u001b[0m \u001b[0;34m\u001b[0m\u001b[0m\n\u001b[1;32m    341\u001b[0m         \u001b[0;32mif\u001b[0m \u001b[0mlen\u001b[0m\u001b[0;34m(\u001b[0m\u001b[0mobjs\u001b[0m\u001b[0;34m)\u001b[0m \u001b[0;34m==\u001b[0m \u001b[0;36m0\u001b[0m\u001b[0;34m:\u001b[0m\u001b[0;34m\u001b[0m\u001b[0;34m\u001b[0m\u001b[0m\n",
      "\u001b[0;32m~/hextof-newdata/hextof-processor/processor/DldFlashDataframeCreatorNew.py\u001b[0m in \u001b[0;36m<genexpr>\u001b[0;34m(.0)\u001b[0m\n\u001b[1;32m    164\u001b[0m         \u001b[0;32mif\u001b[0m \u001b[0mchannels_format\u001b[0m\u001b[0;34m:\u001b[0m\u001b[0;34m\u001b[0m\u001b[0;34m\u001b[0m\u001b[0m\n\u001b[1;32m    165\u001b[0m             data_frames = (\n\u001b[0;32m--> 166\u001b[0;31m                 \u001b[0mself\u001b[0m\u001b[0;34m.\u001b[0m\u001b[0mcreateDataframePerChannel\u001b[0m\u001b[0;34m(\u001b[0m\u001b[0mh5_file\u001b[0m\u001b[0;34m,\u001b[0m \u001b[0meach\u001b[0m\u001b[0;34m)\u001b[0m\u001b[0;34m\u001b[0m\u001b[0;34m\u001b[0m\u001b[0m\n\u001b[0m\u001b[1;32m    167\u001b[0m                 for each in channels_format) \n\u001b[1;32m    168\u001b[0m             \u001b[0;32mreturn\u001b[0m \u001b[0mconcat\u001b[0m\u001b[0;34m(\u001b[0m\u001b[0mdata_frames\u001b[0m\u001b[0;34m,\u001b[0m \u001b[0maxis\u001b[0m\u001b[0;34m=\u001b[0m\u001b[0;36m1\u001b[0m\u001b[0;34m)\u001b[0m\u001b[0;34m\u001b[0m\u001b[0;34m\u001b[0m\u001b[0m\n",
      "\u001b[0;32m~/hextof-newdata/hextof-processor/processor/DldFlashDataframeCreatorNew.py\u001b[0m in \u001b[0;36mcreateDataframePerChannel\u001b[0;34m(self, h5_file, channel)\u001b[0m\n\u001b[1;32m    111\u001b[0m             \u001b[0;31m# The macrobunch resolved data is exploded and converted to dataframe,\u001b[0m\u001b[0;34m\u001b[0m\u001b[0;34m\u001b[0m\u001b[0;34m\u001b[0m\u001b[0m\n\u001b[1;32m    112\u001b[0m             \u001b[0;31m# afterwhich the MultiIndex is set\u001b[0m\u001b[0;34m\u001b[0m\u001b[0;34m\u001b[0m\u001b[0;34m\u001b[0m\u001b[0m\n\u001b[0;32m--> 113\u001b[0;31m             return (Series((np_array[i] for i in train_id.index), name=channel)\n\u001b[0m\u001b[1;32m    114\u001b[0m                 \u001b[0;34m.\u001b[0m\u001b[0mexplode\u001b[0m\u001b[0;34m(\u001b[0m\u001b[0;34m)\u001b[0m\u001b[0;34m\u001b[0m\u001b[0;34m\u001b[0m\u001b[0m\n\u001b[1;32m    115\u001b[0m                 \u001b[0;34m.\u001b[0m\u001b[0mto_frame\u001b[0m\u001b[0;34m(\u001b[0m\u001b[0;34m)\u001b[0m\u001b[0;34m\u001b[0m\u001b[0;34m\u001b[0m\u001b[0m\n",
      "\u001b[0;32m~/.conda/envs/flash-hdf/lib/python3.8/site-packages/pandas/core/frame.py\u001b[0m in \u001b[0;36mset_index\u001b[0;34m(self, keys, drop, append, inplace, verify_integrity)\u001b[0m\n\u001b[1;32m   4746\u001b[0m             \u001b[0;32mif\u001b[0m \u001b[0misinstance\u001b[0m\u001b[0;34m(\u001b[0m\u001b[0mcol\u001b[0m\u001b[0;34m,\u001b[0m \u001b[0mMultiIndex\u001b[0m\u001b[0;34m)\u001b[0m\u001b[0;34m:\u001b[0m\u001b[0;34m\u001b[0m\u001b[0;34m\u001b[0m\u001b[0m\n\u001b[1;32m   4747\u001b[0m                 \u001b[0;32mfor\u001b[0m \u001b[0mn\u001b[0m \u001b[0;32min\u001b[0m \u001b[0mrange\u001b[0m\u001b[0;34m(\u001b[0m\u001b[0mcol\u001b[0m\u001b[0;34m.\u001b[0m\u001b[0mnlevels\u001b[0m\u001b[0;34m)\u001b[0m\u001b[0;34m:\u001b[0m\u001b[0;34m\u001b[0m\u001b[0;34m\u001b[0m\u001b[0m\n\u001b[0;32m-> 4748\u001b[0;31m                     \u001b[0marrays\u001b[0m\u001b[0;34m.\u001b[0m\u001b[0mappend\u001b[0m\u001b[0;34m(\u001b[0m\u001b[0mcol\u001b[0m\u001b[0;34m.\u001b[0m\u001b[0m_get_level_values\u001b[0m\u001b[0;34m(\u001b[0m\u001b[0mn\u001b[0m\u001b[0;34m)\u001b[0m\u001b[0;34m)\u001b[0m\u001b[0;34m\u001b[0m\u001b[0;34m\u001b[0m\u001b[0m\n\u001b[0m\u001b[1;32m   4749\u001b[0m                 \u001b[0mnames\u001b[0m\u001b[0;34m.\u001b[0m\u001b[0mextend\u001b[0m\u001b[0;34m(\u001b[0m\u001b[0mcol\u001b[0m\u001b[0;34m.\u001b[0m\u001b[0mnames\u001b[0m\u001b[0;34m)\u001b[0m\u001b[0;34m\u001b[0m\u001b[0;34m\u001b[0m\u001b[0m\n\u001b[1;32m   4750\u001b[0m             \u001b[0;32melif\u001b[0m \u001b[0misinstance\u001b[0m\u001b[0;34m(\u001b[0m\u001b[0mcol\u001b[0m\u001b[0;34m,\u001b[0m \u001b[0;34m(\u001b[0m\u001b[0mIndex\u001b[0m\u001b[0;34m,\u001b[0m \u001b[0mSeries\u001b[0m\u001b[0;34m)\u001b[0m\u001b[0;34m)\u001b[0m\u001b[0;34m:\u001b[0m\u001b[0;34m\u001b[0m\u001b[0;34m\u001b[0m\u001b[0m\n",
      "\u001b[0;32m~/.conda/envs/flash-hdf/lib/python3.8/site-packages/pandas/core/indexes/multi.py\u001b[0m in \u001b[0;36m_get_level_values\u001b[0;34m(self, level, unique)\u001b[0m\n\u001b[1;32m   1639\u001b[0m         \u001b[0;32mif\u001b[0m \u001b[0munique\u001b[0m\u001b[0;34m:\u001b[0m\u001b[0;34m\u001b[0m\u001b[0;34m\u001b[0m\u001b[0m\n\u001b[1;32m   1640\u001b[0m             \u001b[0mlevel_codes\u001b[0m \u001b[0;34m=\u001b[0m \u001b[0malgos\u001b[0m\u001b[0;34m.\u001b[0m\u001b[0munique\u001b[0m\u001b[0;34m(\u001b[0m\u001b[0mlevel_codes\u001b[0m\u001b[0;34m)\u001b[0m\u001b[0;34m\u001b[0m\u001b[0;34m\u001b[0m\u001b[0m\n\u001b[0;32m-> 1641\u001b[0;31m         \u001b[0mfilled\u001b[0m \u001b[0;34m=\u001b[0m \u001b[0malgos\u001b[0m\u001b[0;34m.\u001b[0m\u001b[0mtake_1d\u001b[0m\u001b[0;34m(\u001b[0m\u001b[0mlev\u001b[0m\u001b[0;34m.\u001b[0m\u001b[0m_values\u001b[0m\u001b[0;34m,\u001b[0m \u001b[0mlevel_codes\u001b[0m\u001b[0;34m,\u001b[0m \u001b[0mfill_value\u001b[0m\u001b[0;34m=\u001b[0m\u001b[0mlev\u001b[0m\u001b[0;34m.\u001b[0m\u001b[0m_na_value\u001b[0m\u001b[0;34m)\u001b[0m\u001b[0;34m\u001b[0m\u001b[0;34m\u001b[0m\u001b[0m\n\u001b[0m\u001b[1;32m   1642\u001b[0m         \u001b[0;32mreturn\u001b[0m \u001b[0mlev\u001b[0m\u001b[0;34m.\u001b[0m\u001b[0m_shallow_copy\u001b[0m\u001b[0;34m(\u001b[0m\u001b[0mfilled\u001b[0m\u001b[0;34m,\u001b[0m \u001b[0mname\u001b[0m\u001b[0;34m=\u001b[0m\u001b[0mname\u001b[0m\u001b[0;34m)\u001b[0m\u001b[0;34m\u001b[0m\u001b[0;34m\u001b[0m\u001b[0m\n\u001b[1;32m   1643\u001b[0m \u001b[0;34m\u001b[0m\u001b[0m\n",
      "\u001b[0;32m~/.conda/envs/flash-hdf/lib/python3.8/site-packages/pandas/core/algorithms.py\u001b[0m in \u001b[0;36mtake_nd\u001b[0;34m(arr, indexer, axis, out, fill_value, allow_fill)\u001b[0m\n\u001b[1;32m   1757\u001b[0m         \u001b[0marr\u001b[0m\u001b[0;34m.\u001b[0m\u001b[0mndim\u001b[0m\u001b[0;34m,\u001b[0m \u001b[0marr\u001b[0m\u001b[0;34m.\u001b[0m\u001b[0mdtype\u001b[0m\u001b[0;34m,\u001b[0m \u001b[0mout\u001b[0m\u001b[0;34m.\u001b[0m\u001b[0mdtype\u001b[0m\u001b[0;34m,\u001b[0m \u001b[0maxis\u001b[0m\u001b[0;34m=\u001b[0m\u001b[0maxis\u001b[0m\u001b[0;34m,\u001b[0m \u001b[0mmask_info\u001b[0m\u001b[0;34m=\u001b[0m\u001b[0mmask_info\u001b[0m\u001b[0;34m\u001b[0m\u001b[0;34m\u001b[0m\u001b[0m\n\u001b[1;32m   1758\u001b[0m     )\n\u001b[0;32m-> 1759\u001b[0;31m     \u001b[0mfunc\u001b[0m\u001b[0;34m(\u001b[0m\u001b[0marr\u001b[0m\u001b[0;34m,\u001b[0m \u001b[0mindexer\u001b[0m\u001b[0;34m,\u001b[0m \u001b[0mout\u001b[0m\u001b[0;34m,\u001b[0m \u001b[0mfill_value\u001b[0m\u001b[0;34m)\u001b[0m\u001b[0;34m\u001b[0m\u001b[0;34m\u001b[0m\u001b[0m\n\u001b[0m\u001b[1;32m   1760\u001b[0m \u001b[0;34m\u001b[0m\u001b[0m\n\u001b[1;32m   1761\u001b[0m     \u001b[0;32mif\u001b[0m \u001b[0mflip_order\u001b[0m\u001b[0;34m:\u001b[0m\u001b[0;34m\u001b[0m\u001b[0;34m\u001b[0m\u001b[0m\n",
      "\u001b[0;32m~/.conda/envs/flash-hdf/lib/python3.8/site-packages/pandas/core/algorithms.py\u001b[0m in \u001b[0;36mfunc2\u001b[0;34m(arr, indexer, out, fill_value)\u001b[0m\n\u001b[1;32m   1561\u001b[0m     \u001b[0;32mdef\u001b[0m \u001b[0mfunc2\u001b[0m\u001b[0;34m(\u001b[0m\u001b[0marr\u001b[0m\u001b[0;34m,\u001b[0m \u001b[0mindexer\u001b[0m\u001b[0;34m,\u001b[0m \u001b[0mout\u001b[0m\u001b[0;34m,\u001b[0m \u001b[0mfill_value\u001b[0m\u001b[0;34m=\u001b[0m\u001b[0mnp\u001b[0m\u001b[0;34m.\u001b[0m\u001b[0mnan\u001b[0m\u001b[0;34m)\u001b[0m\u001b[0;34m:\u001b[0m\u001b[0;34m\u001b[0m\u001b[0;34m\u001b[0m\u001b[0m\n\u001b[1;32m   1562\u001b[0m         \u001b[0mindexer\u001b[0m \u001b[0;34m=\u001b[0m \u001b[0mensure_int64\u001b[0m\u001b[0;34m(\u001b[0m\u001b[0mindexer\u001b[0m\u001b[0;34m)\u001b[0m\u001b[0;34m\u001b[0m\u001b[0;34m\u001b[0m\u001b[0m\n\u001b[0;32m-> 1563\u001b[0;31m         _take_nd_object(\n\u001b[0m\u001b[1;32m   1564\u001b[0m             \u001b[0marr\u001b[0m\u001b[0;34m,\u001b[0m \u001b[0mindexer\u001b[0m\u001b[0;34m,\u001b[0m \u001b[0mout\u001b[0m\u001b[0;34m,\u001b[0m \u001b[0maxis\u001b[0m\u001b[0;34m=\u001b[0m\u001b[0maxis\u001b[0m\u001b[0;34m,\u001b[0m \u001b[0mfill_value\u001b[0m\u001b[0;34m=\u001b[0m\u001b[0mfill_value\u001b[0m\u001b[0;34m,\u001b[0m \u001b[0mmask_info\u001b[0m\u001b[0;34m=\u001b[0m\u001b[0mmask_info\u001b[0m\u001b[0;34m\u001b[0m\u001b[0;34m\u001b[0m\u001b[0m\n\u001b[1;32m   1565\u001b[0m         )\n",
      "\u001b[0;32m~/.conda/envs/flash-hdf/lib/python3.8/site-packages/pandas/core/algorithms.py\u001b[0m in \u001b[0;36m_take_nd_object\u001b[0;34m(arr, indexer, out, axis, fill_value, mask_info)\u001b[0m\n\u001b[1;32m   1424\u001b[0m         \u001b[0marr\u001b[0m \u001b[0;34m=\u001b[0m \u001b[0marr\u001b[0m\u001b[0;34m.\u001b[0m\u001b[0mastype\u001b[0m\u001b[0;34m(\u001b[0m\u001b[0mout\u001b[0m\u001b[0;34m.\u001b[0m\u001b[0mdtype\u001b[0m\u001b[0;34m)\u001b[0m\u001b[0;34m\u001b[0m\u001b[0;34m\u001b[0m\u001b[0m\n\u001b[1;32m   1425\u001b[0m     \u001b[0;32mif\u001b[0m \u001b[0marr\u001b[0m\u001b[0;34m.\u001b[0m\u001b[0mshape\u001b[0m\u001b[0;34m[\u001b[0m\u001b[0maxis\u001b[0m\u001b[0;34m]\u001b[0m \u001b[0;34m>\u001b[0m \u001b[0;36m0\u001b[0m\u001b[0;34m:\u001b[0m\u001b[0;34m\u001b[0m\u001b[0;34m\u001b[0m\u001b[0m\n\u001b[0;32m-> 1426\u001b[0;31m         \u001b[0marr\u001b[0m\u001b[0;34m.\u001b[0m\u001b[0mtake\u001b[0m\u001b[0;34m(\u001b[0m\u001b[0mensure_platform_int\u001b[0m\u001b[0;34m(\u001b[0m\u001b[0mindexer\u001b[0m\u001b[0;34m)\u001b[0m\u001b[0;34m,\u001b[0m \u001b[0maxis\u001b[0m\u001b[0;34m=\u001b[0m\u001b[0maxis\u001b[0m\u001b[0;34m,\u001b[0m \u001b[0mout\u001b[0m\u001b[0;34m=\u001b[0m\u001b[0mout\u001b[0m\u001b[0;34m)\u001b[0m\u001b[0;34m\u001b[0m\u001b[0;34m\u001b[0m\u001b[0m\n\u001b[0m\u001b[1;32m   1427\u001b[0m     \u001b[0;32mif\u001b[0m \u001b[0mneeds_masking\u001b[0m\u001b[0;34m:\u001b[0m\u001b[0;34m\u001b[0m\u001b[0;34m\u001b[0m\u001b[0m\n\u001b[1;32m   1428\u001b[0m         \u001b[0moutindexer\u001b[0m \u001b[0;34m=\u001b[0m \u001b[0;34m[\u001b[0m\u001b[0mslice\u001b[0m\u001b[0;34m(\u001b[0m\u001b[0;32mNone\u001b[0m\u001b[0;34m)\u001b[0m\u001b[0;34m]\u001b[0m \u001b[0;34m*\u001b[0m \u001b[0marr\u001b[0m\u001b[0;34m.\u001b[0m\u001b[0mndim\u001b[0m\u001b[0;34m\u001b[0m\u001b[0;34m\u001b[0m\u001b[0m\n",
      "\u001b[0;31mKeyboardInterrupt\u001b[0m: "
     ]
    }
   ],
   "source": [
    "%%timeit\n",
    "# Give run number and the daq \n",
    "df1, df2 = test.createDataframePerRun(run_number = 35865, daq = \"fl1user2\")"
   ]
  },
  {
   "cell_type": "code",
   "execution_count": 10,
   "metadata": {},
   "outputs": [
    {
     "name": "stdout",
     "output_type": "stream",
     "text": [
      "time elapsed: 172.859 s\n"
     ]
    }
   ],
   "source": [
    "# Give run number and the daq \n",
    "tik = time.time()\n",
    "df1, df2 = test.createDataframePerRun(run_number = 35865, daq = \"fl1user2\")\n",
    "tok = time.time()\n",
    "print(f'time elapsed: {tok-tik:.3f} s')"
   ]
  },
  {
   "cell_type": "code",
   "execution_count": 13,
   "metadata": {},
   "outputs": [
    {
     "data": {
      "text/html": [
       "<div>\n",
       "<style scoped>\n",
       "    .dataframe tbody tr th:only-of-type {\n",
       "        vertical-align: middle;\n",
       "    }\n",
       "\n",
       "    .dataframe tbody tr th {\n",
       "        vertical-align: top;\n",
       "    }\n",
       "\n",
       "    .dataframe thead th {\n",
       "        text-align: right;\n",
       "    }\n",
       "</style>\n",
       "<table border=\"1\" class=\"dataframe\">\n",
       "  <thead>\n",
       "    <tr style=\"text-align: right;\">\n",
       "      <th></th>\n",
       "      <th></th>\n",
       "      <th>gmdTunnel</th>\n",
       "    </tr>\n",
       "    <tr>\n",
       "      <th>macroBunchPulseId</th>\n",
       "      <th>microBunchPulseId</th>\n",
       "      <th></th>\n",
       "    </tr>\n",
       "  </thead>\n",
       "  <tbody>\n",
       "    <tr>\n",
       "      <th rowspan=\"5\" valign=\"top\">914979174</th>\n",
       "      <th>0</th>\n",
       "      <td>0.677199</td>\n",
       "    </tr>\n",
       "    <tr>\n",
       "      <th>1</th>\n",
       "      <td>0.647185</td>\n",
       "    </tr>\n",
       "    <tr>\n",
       "      <th>2</th>\n",
       "      <td>0.542433</td>\n",
       "    </tr>\n",
       "    <tr>\n",
       "      <th>3</th>\n",
       "      <td>0.6868</td>\n",
       "    </tr>\n",
       "    <tr>\n",
       "      <th>4</th>\n",
       "      <td>0.442541</td>\n",
       "    </tr>\n",
       "    <tr>\n",
       "      <th>...</th>\n",
       "      <th>...</th>\n",
       "      <td>...</td>\n",
       "    </tr>\n",
       "    <tr>\n",
       "      <th rowspan=\"5\" valign=\"top\">915223967</th>\n",
       "      <th>494</th>\n",
       "      <td>0.672989</td>\n",
       "    </tr>\n",
       "    <tr>\n",
       "      <th>495</th>\n",
       "      <td>0.835501</td>\n",
       "    </tr>\n",
       "    <tr>\n",
       "      <th>496</th>\n",
       "      <td>0.936963</td>\n",
       "    </tr>\n",
       "    <tr>\n",
       "      <th>497</th>\n",
       "      <td>1.104568</td>\n",
       "    </tr>\n",
       "    <tr>\n",
       "      <th>498</th>\n",
       "      <td>0.793907</td>\n",
       "    </tr>\n",
       "  </tbody>\n",
       "</table>\n",
       "<p>122062885 rows × 1 columns</p>\n",
       "</div>"
      ],
      "text/plain": [
       "                                    gmdTunnel\n",
       "macroBunchPulseId microBunchPulseId          \n",
       "914979174         0                  0.677199\n",
       "                  1                  0.647185\n",
       "                  2                  0.542433\n",
       "                  3                    0.6868\n",
       "                  4                  0.442541\n",
       "...                                       ...\n",
       "915223967         494                0.672989\n",
       "                  495                0.835501\n",
       "                  496                0.936963\n",
       "                  497                1.104568\n",
       "                  498                0.793907\n",
       "\n",
       "[122062885 rows x 1 columns]"
      ]
     },
     "execution_count": 13,
     "metadata": {},
     "output_type": "execute_result"
    }
   ],
   "source": [
    "df1"
   ]
  },
  {
   "cell_type": "code",
   "execution_count": 14,
   "metadata": {},
   "outputs": [
    {
     "data": {
      "text/html": [
       "<div>\n",
       "<style scoped>\n",
       "    .dataframe tbody tr th:only-of-type {\n",
       "        vertical-align: middle;\n",
       "    }\n",
       "\n",
       "    .dataframe tbody tr th {\n",
       "        vertical-align: top;\n",
       "    }\n",
       "\n",
       "    .dataframe thead th {\n",
       "        text-align: right;\n",
       "    }\n",
       "</style>\n",
       "<table border=\"1\" class=\"dataframe\">\n",
       "  <thead>\n",
       "    <tr style=\"text-align: right;\">\n",
       "      <th></th>\n",
       "      <th></th>\n",
       "      <th>dldTime</th>\n",
       "      <th>dldPosX</th>\n",
       "    </tr>\n",
       "    <tr>\n",
       "      <th>macroBunchPulseId</th>\n",
       "      <th>microBunchPulseId</th>\n",
       "      <th></th>\n",
       "      <th></th>\n",
       "    </tr>\n",
       "  </thead>\n",
       "  <tbody>\n",
       "    <tr>\n",
       "      <th rowspan=\"5\" valign=\"top\">914979216</th>\n",
       "      <th>37141.0</th>\n",
       "      <td>467.0</td>\n",
       "      <td>657.0</td>\n",
       "    </tr>\n",
       "    <tr>\n",
       "      <th>37443.0</th>\n",
       "      <td>846.0</td>\n",
       "      <td>681.0</td>\n",
       "    </tr>\n",
       "    <tr>\n",
       "      <th>37458.0</th>\n",
       "      <td>831.0</td>\n",
       "      <td>679.0</td>\n",
       "    </tr>\n",
       "    <tr>\n",
       "      <th>41834.0</th>\n",
       "      <td>829.0</td>\n",
       "      <td>729.0</td>\n",
       "    </tr>\n",
       "    <tr>\n",
       "      <th>41835.0</th>\n",
       "      <td>829.0</td>\n",
       "      <td>723.0</td>\n",
       "    </tr>\n",
       "    <tr>\n",
       "      <th>...</th>\n",
       "      <th>...</th>\n",
       "      <td>...</td>\n",
       "      <td>...</td>\n",
       "    </tr>\n",
       "    <tr>\n",
       "      <th rowspan=\"5\" valign=\"top\">915223966</th>\n",
       "      <th>NaN</th>\n",
       "      <td>NaN</td>\n",
       "      <td>NaN</td>\n",
       "    </tr>\n",
       "    <tr>\n",
       "      <th>NaN</th>\n",
       "      <td>NaN</td>\n",
       "      <td>NaN</td>\n",
       "    </tr>\n",
       "    <tr>\n",
       "      <th>NaN</th>\n",
       "      <td>NaN</td>\n",
       "      <td>NaN</td>\n",
       "    </tr>\n",
       "    <tr>\n",
       "      <th>NaN</th>\n",
       "      <td>NaN</td>\n",
       "      <td>NaN</td>\n",
       "    </tr>\n",
       "    <tr>\n",
       "      <th>NaN</th>\n",
       "      <td>NaN</td>\n",
       "      <td>NaN</td>\n",
       "    </tr>\n",
       "  </tbody>\n",
       "</table>\n",
       "<p>201906554 rows × 2 columns</p>\n",
       "</div>"
      ],
      "text/plain": [
       "                                    dldTime dldPosX\n",
       "macroBunchPulseId microBunchPulseId                \n",
       "914979216         37141.0             467.0   657.0\n",
       "                  37443.0             846.0   681.0\n",
       "                  37458.0             831.0   679.0\n",
       "                  41834.0             829.0   729.0\n",
       "                  41835.0             829.0   723.0\n",
       "...                                     ...     ...\n",
       "915223966         NaN                   NaN     NaN\n",
       "                  NaN                   NaN     NaN\n",
       "                  NaN                   NaN     NaN\n",
       "                  NaN                   NaN     NaN\n",
       "                  NaN                   NaN     NaN\n",
       "\n",
       "[201906554 rows x 2 columns]"
      ]
     },
     "execution_count": 14,
     "metadata": {},
     "output_type": "execute_result"
    }
   ],
   "source": [
    "df2"
   ]
  },
  {
   "cell_type": "code",
   "execution_count": 15,
   "metadata": {},
   "outputs": [
    {
     "ename": "AttributeError",
     "evalue": "'DataFrame' object has no attribute 'disk_size'",
     "output_type": "error",
     "traceback": [
      "\u001b[0;31m---------------------------------------------------------------------------\u001b[0m",
      "\u001b[0;31mAttributeError\u001b[0m                            Traceback (most recent call last)",
      "\u001b[0;32m<ipython-input-15-a4d2ec1c8da2>\u001b[0m in \u001b[0;36m<module>\u001b[0;34m\u001b[0m\n\u001b[0;32m----> 1\u001b[0;31m \u001b[0mdf2\u001b[0m\u001b[0;34m.\u001b[0m\u001b[0mdisk_size\u001b[0m\u001b[0;34m\u001b[0m\u001b[0;34m\u001b[0m\u001b[0m\n\u001b[0m",
      "\u001b[0;32m~/.conda/envs/flash-hdf/lib/python3.8/site-packages/pandas/core/generic.py\u001b[0m in \u001b[0;36m__getattr__\u001b[0;34m(self, name)\u001b[0m\n\u001b[1;32m   5463\u001b[0m             \u001b[0;32mif\u001b[0m \u001b[0mself\u001b[0m\u001b[0;34m.\u001b[0m\u001b[0m_info_axis\u001b[0m\u001b[0;34m.\u001b[0m\u001b[0m_can_hold_identifiers_and_holds_name\u001b[0m\u001b[0;34m(\u001b[0m\u001b[0mname\u001b[0m\u001b[0;34m)\u001b[0m\u001b[0;34m:\u001b[0m\u001b[0;34m\u001b[0m\u001b[0;34m\u001b[0m\u001b[0m\n\u001b[1;32m   5464\u001b[0m                 \u001b[0;32mreturn\u001b[0m \u001b[0mself\u001b[0m\u001b[0;34m[\u001b[0m\u001b[0mname\u001b[0m\u001b[0;34m]\u001b[0m\u001b[0;34m\u001b[0m\u001b[0;34m\u001b[0m\u001b[0m\n\u001b[0;32m-> 5465\u001b[0;31m             \u001b[0;32mreturn\u001b[0m \u001b[0mobject\u001b[0m\u001b[0;34m.\u001b[0m\u001b[0m__getattribute__\u001b[0m\u001b[0;34m(\u001b[0m\u001b[0mself\u001b[0m\u001b[0;34m,\u001b[0m \u001b[0mname\u001b[0m\u001b[0;34m)\u001b[0m\u001b[0;34m\u001b[0m\u001b[0;34m\u001b[0m\u001b[0m\n\u001b[0m\u001b[1;32m   5466\u001b[0m \u001b[0;34m\u001b[0m\u001b[0m\n\u001b[1;32m   5467\u001b[0m     \u001b[0;32mdef\u001b[0m \u001b[0m__setattr__\u001b[0m\u001b[0;34m(\u001b[0m\u001b[0mself\u001b[0m\u001b[0;34m,\u001b[0m \u001b[0mname\u001b[0m\u001b[0;34m:\u001b[0m \u001b[0mstr\u001b[0m\u001b[0;34m,\u001b[0m \u001b[0mvalue\u001b[0m\u001b[0;34m)\u001b[0m \u001b[0;34m->\u001b[0m \u001b[0;32mNone\u001b[0m\u001b[0;34m:\u001b[0m\u001b[0;34m\u001b[0m\u001b[0;34m\u001b[0m\u001b[0m\n",
      "\u001b[0;31mAttributeError\u001b[0m: 'DataFrame' object has no attribute 'disk_size'"
     ]
    }
   ],
   "source": [
    "df2.disk_size"
   ]
  },
  {
   "cell_type": "markdown",
   "metadata": {},
   "source": [
    "# Test on real run"
   ]
  },
  {
   "cell_type": "code",
   "execution_count": 29,
   "metadata": {},
   "outputs": [],
   "source": [
    "test = DldFlashProcessorNew(\"/asap3/flash/gpfs/pg2/2020/data/11008860/raw/hdf/express/\")"
   ]
  },
  {
   "cell_type": "code",
   "execution_count": 30,
   "metadata": {},
   "outputs": [
    {
     "ename": "ValueError",
     "evalue": "Length mismatch: Expected 1593574 rows, received array of length 991513",
     "output_type": "error",
     "traceback": [
      "\u001b[0;31m---------------------------------------------------------------------------\u001b[0m",
      "\u001b[0;31mValueError\u001b[0m                                Traceback (most recent call last)",
      "\u001b[0;32m<ipython-input-30-21b1ec8d3fd1>\u001b[0m in \u001b[0;36m<module>\u001b[0;34m\u001b[0m\n\u001b[1;32m      3\u001b[0m \u001b[0mtest\u001b[0m\u001b[0;34m.\u001b[0m\u001b[0mchannels\u001b[0m \u001b[0;34m=\u001b[0m \u001b[0;34m[\u001b[0m\u001b[0;34m'dldTime'\u001b[0m\u001b[0;34m,\u001b[0m \u001b[0;34m'gmdTunnel'\u001b[0m\u001b[0;34m,\u001b[0m \u001b[0;34m'dldPosX'\u001b[0m\u001b[0;34m,\u001b[0m\u001b[0;34m'dldPosY'\u001b[0m\u001b[0;34m,\u001b[0m\u001b[0;34m'bam'\u001b[0m\u001b[0;34m,\u001b[0m\u001b[0;34m'opticalDiode'\u001b[0m\u001b[0;34m]\u001b[0m\u001b[0;31m#,'bam','delayStage'\u001b[0m\u001b[0;34m\u001b[0m\u001b[0;34m\u001b[0m\u001b[0m\n\u001b[1;32m      4\u001b[0m \u001b[0;34m\u001b[0m\u001b[0m\n\u001b[0;32m----> 5\u001b[0;31m \u001b[0mdf1_\u001b[0m\u001b[0;34m,\u001b[0m \u001b[0mdf2_\u001b[0m \u001b[0;34m=\u001b[0m \u001b[0mtest\u001b[0m\u001b[0;34m.\u001b[0m\u001b[0mcreateDataframePerRun\u001b[0m\u001b[0;34m(\u001b[0m\u001b[0mrun_number\u001b[0m \u001b[0;34m=\u001b[0m \u001b[0;36m35933\u001b[0m\u001b[0;34m,\u001b[0m \u001b[0mdaq\u001b[0m \u001b[0;34m=\u001b[0m \u001b[0;34m\"fl1user2\"\u001b[0m\u001b[0;34m)\u001b[0m\u001b[0;34m\u001b[0m\u001b[0;34m\u001b[0m\u001b[0m\n\u001b[0m\u001b[1;32m      6\u001b[0m \u001b[0mtok\u001b[0m \u001b[0;34m=\u001b[0m \u001b[0mtime\u001b[0m\u001b[0;34m.\u001b[0m\u001b[0mtime\u001b[0m\u001b[0;34m(\u001b[0m\u001b[0;34m)\u001b[0m\u001b[0;34m\u001b[0m\u001b[0;34m\u001b[0m\u001b[0m\n\u001b[1;32m      7\u001b[0m \u001b[0mprint\u001b[0m\u001b[0;34m(\u001b[0m\u001b[0;34mf'time elapsed: {tok-tik:.3f} s'\u001b[0m\u001b[0;34m)\u001b[0m\u001b[0;34m\u001b[0m\u001b[0;34m\u001b[0m\u001b[0m\n",
      "\u001b[0;32m~/hextof-newdata/hextof-processor/processor/DldFlashDataframeCreatorNew.py\u001b[0m in \u001b[0;36mcreateDataframePerRun\u001b[0;34m(self, run_number, daq)\u001b[0m\n\u001b[1;32m    214\u001b[0m         \u001b[0;31m# Creates a list of dataframes for all files in a run\u001b[0m\u001b[0;34m\u001b[0m\u001b[0;34m\u001b[0m\u001b[0;34m\u001b[0m\u001b[0m\n\u001b[1;32m    215\u001b[0m         \u001b[0;31m# genexpr not used due to the need to call this twice\u001b[0m\u001b[0;34m\u001b[0m\u001b[0;34m\u001b[0m\u001b[0;34m\u001b[0m\u001b[0m\n\u001b[0;32m--> 216\u001b[0;31m         data_frames = [\n\u001b[0m\u001b[1;32m    217\u001b[0m             self.createDataframePerFile(each_file) for each_file in files]\n\u001b[1;32m    218\u001b[0m \u001b[0;34m\u001b[0m\u001b[0m\n",
      "\u001b[0;32m~/hextof-newdata/hextof-processor/processor/DldFlashDataframeCreatorNew.py\u001b[0m in \u001b[0;36m<listcomp>\u001b[0;34m(.0)\u001b[0m\n\u001b[1;32m    215\u001b[0m         \u001b[0;31m# genexpr not used due to the need to call this twice\u001b[0m\u001b[0;34m\u001b[0m\u001b[0;34m\u001b[0m\u001b[0;34m\u001b[0m\u001b[0m\n\u001b[1;32m    216\u001b[0m         data_frames = [\n\u001b[0;32m--> 217\u001b[0;31m             self.createDataframePerFile(each_file) for each_file in files]\n\u001b[0m\u001b[1;32m    218\u001b[0m \u001b[0;34m\u001b[0m\u001b[0m\n\u001b[1;32m    219\u001b[0m         assert (data_frames\n",
      "\u001b[0;32m~/hextof-newdata/hextof-processor/processor/DldFlashDataframeCreatorNew.py\u001b[0m in \u001b[0;36mcreateDataframePerFile\u001b[0;34m(self, file_path)\u001b[0m\n\u001b[1;32m    181\u001b[0m             data_frame_per_electron = self.splitDataframePerFormat(\n\u001b[1;32m    182\u001b[0m                 h5_file, \"per_electron\")\n\u001b[0;32m--> 183\u001b[0;31m             data_frame_per_pulse = self.splitDataframePerFormat(\n\u001b[0m\u001b[1;32m    184\u001b[0m                 h5_file, \"per_pulse\")\n\u001b[1;32m    185\u001b[0m \u001b[0;34m\u001b[0m\u001b[0m\n",
      "\u001b[0;32m~/hextof-newdata/hextof-processor/processor/DldFlashDataframeCreatorNew.py\u001b[0m in \u001b[0;36msplitDataframePerFormat\u001b[0;34m(self, h5_file, format_)\u001b[0m\n\u001b[1;32m    166\u001b[0m                 \u001b[0mself\u001b[0m\u001b[0;34m.\u001b[0m\u001b[0mcreateDataframePerChannel\u001b[0m\u001b[0;34m(\u001b[0m\u001b[0mh5_file\u001b[0m\u001b[0;34m,\u001b[0m \u001b[0meach\u001b[0m\u001b[0;34m)\u001b[0m\u001b[0;34m\u001b[0m\u001b[0;34m\u001b[0m\u001b[0m\n\u001b[1;32m    167\u001b[0m                 for each in channels_format) \n\u001b[0;32m--> 168\u001b[0;31m             \u001b[0;32mreturn\u001b[0m \u001b[0mconcat\u001b[0m\u001b[0;34m(\u001b[0m\u001b[0mdata_frames\u001b[0m\u001b[0;34m,\u001b[0m \u001b[0maxis\u001b[0m\u001b[0;34m=\u001b[0m\u001b[0;36m1\u001b[0m\u001b[0;34m)\u001b[0m\u001b[0;34m\u001b[0m\u001b[0;34m\u001b[0m\u001b[0m\n\u001b[0m\u001b[1;32m    169\u001b[0m \u001b[0;34m\u001b[0m\u001b[0m\n\u001b[1;32m    170\u001b[0m         \u001b[0;32melse\u001b[0m\u001b[0;34m:\u001b[0m\u001b[0;34m\u001b[0m\u001b[0;34m\u001b[0m\u001b[0m\n",
      "\u001b[0;32m~/.conda/envs/flash-hdf/lib/python3.8/site-packages/pandas/core/reshape/concat.py\u001b[0m in \u001b[0;36mconcat\u001b[0;34m(objs, axis, join, ignore_index, keys, levels, names, verify_integrity, sort, copy)\u001b[0m\n\u001b[1;32m    283\u001b[0m     \u001b[0mValueError\u001b[0m\u001b[0;34m:\u001b[0m \u001b[0mIndexes\u001b[0m \u001b[0mhave\u001b[0m \u001b[0moverlapping\u001b[0m \u001b[0mvalues\u001b[0m\u001b[0;34m:\u001b[0m \u001b[0;34m[\u001b[0m\u001b[0;34m'a'\u001b[0m\u001b[0;34m]\u001b[0m\u001b[0;34m\u001b[0m\u001b[0;34m\u001b[0m\u001b[0m\n\u001b[1;32m    284\u001b[0m     \"\"\"\n\u001b[0;32m--> 285\u001b[0;31m     op = _Concatenator(\n\u001b[0m\u001b[1;32m    286\u001b[0m         \u001b[0mobjs\u001b[0m\u001b[0;34m,\u001b[0m\u001b[0;34m\u001b[0m\u001b[0;34m\u001b[0m\u001b[0m\n\u001b[1;32m    287\u001b[0m         \u001b[0maxis\u001b[0m\u001b[0;34m=\u001b[0m\u001b[0maxis\u001b[0m\u001b[0;34m,\u001b[0m\u001b[0;34m\u001b[0m\u001b[0;34m\u001b[0m\u001b[0m\n",
      "\u001b[0;32m~/.conda/envs/flash-hdf/lib/python3.8/site-packages/pandas/core/reshape/concat.py\u001b[0m in \u001b[0;36m__init__\u001b[0;34m(self, objs, axis, join, keys, levels, names, ignore_index, verify_integrity, copy, sort)\u001b[0m\n\u001b[1;32m    337\u001b[0m             \u001b[0mobjs\u001b[0m \u001b[0;34m=\u001b[0m \u001b[0;34m[\u001b[0m\u001b[0mobjs\u001b[0m\u001b[0;34m[\u001b[0m\u001b[0mk\u001b[0m\u001b[0;34m]\u001b[0m \u001b[0;32mfor\u001b[0m \u001b[0mk\u001b[0m \u001b[0;32min\u001b[0m \u001b[0mkeys\u001b[0m\u001b[0;34m]\u001b[0m\u001b[0;34m\u001b[0m\u001b[0;34m\u001b[0m\u001b[0m\n\u001b[1;32m    338\u001b[0m         \u001b[0;32melse\u001b[0m\u001b[0;34m:\u001b[0m\u001b[0;34m\u001b[0m\u001b[0;34m\u001b[0m\u001b[0m\n\u001b[0;32m--> 339\u001b[0;31m             \u001b[0mobjs\u001b[0m \u001b[0;34m=\u001b[0m \u001b[0mlist\u001b[0m\u001b[0;34m(\u001b[0m\u001b[0mobjs\u001b[0m\u001b[0;34m)\u001b[0m\u001b[0;34m\u001b[0m\u001b[0;34m\u001b[0m\u001b[0m\n\u001b[0m\u001b[1;32m    340\u001b[0m \u001b[0;34m\u001b[0m\u001b[0m\n\u001b[1;32m    341\u001b[0m         \u001b[0;32mif\u001b[0m \u001b[0mlen\u001b[0m\u001b[0;34m(\u001b[0m\u001b[0mobjs\u001b[0m\u001b[0;34m)\u001b[0m \u001b[0;34m==\u001b[0m \u001b[0;36m0\u001b[0m\u001b[0;34m:\u001b[0m\u001b[0;34m\u001b[0m\u001b[0;34m\u001b[0m\u001b[0m\n",
      "\u001b[0;32m~/hextof-newdata/hextof-processor/processor/DldFlashDataframeCreatorNew.py\u001b[0m in \u001b[0;36m<genexpr>\u001b[0;34m(.0)\u001b[0m\n\u001b[1;32m    164\u001b[0m         \u001b[0;32mif\u001b[0m \u001b[0mchannels_format\u001b[0m\u001b[0;34m:\u001b[0m\u001b[0;34m\u001b[0m\u001b[0;34m\u001b[0m\u001b[0m\n\u001b[1;32m    165\u001b[0m             data_frames = (\n\u001b[0;32m--> 166\u001b[0;31m                 \u001b[0mself\u001b[0m\u001b[0;34m.\u001b[0m\u001b[0mcreateDataframePerChannel\u001b[0m\u001b[0;34m(\u001b[0m\u001b[0mh5_file\u001b[0m\u001b[0;34m,\u001b[0m \u001b[0meach\u001b[0m\u001b[0;34m)\u001b[0m\u001b[0;34m\u001b[0m\u001b[0;34m\u001b[0m\u001b[0m\n\u001b[0m\u001b[1;32m    167\u001b[0m                 for each in channels_format) \n\u001b[1;32m    168\u001b[0m             \u001b[0;32mreturn\u001b[0m \u001b[0mconcat\u001b[0m\u001b[0;34m(\u001b[0m\u001b[0mdata_frames\u001b[0m\u001b[0;34m,\u001b[0m \u001b[0maxis\u001b[0m\u001b[0;34m=\u001b[0m\u001b[0;36m1\u001b[0m\u001b[0;34m)\u001b[0m\u001b[0;34m\u001b[0m\u001b[0;34m\u001b[0m\u001b[0m\n",
      "\u001b[0;32m~/hextof-newdata/hextof-processor/processor/DldFlashDataframeCreatorNew.py\u001b[0m in \u001b[0;36mcreateDataframePerChannel\u001b[0;34m(self, h5_file, channel)\u001b[0m\n\u001b[1;32m    142\u001b[0m                 \u001b[0;31m# data is exploded to a dataframe and the MultiIndex set\u001b[0m\u001b[0;34m\u001b[0m\u001b[0;34m\u001b[0m\u001b[0;34m\u001b[0m\u001b[0m\n\u001b[1;32m    143\u001b[0m                 return (\n\u001b[0;32m--> 144\u001b[0;31m                     \u001b[0mSeries\u001b[0m\u001b[0;34m(\u001b[0m\u001b[0;34m(\u001b[0m\u001b[0mnp_array\u001b[0m\u001b[0;34m[\u001b[0m\u001b[0mi\u001b[0m\u001b[0;34m]\u001b[0m \u001b[0;32mfor\u001b[0m \u001b[0mi\u001b[0m \u001b[0;32min\u001b[0m \u001b[0mtrain_id\u001b[0m\u001b[0;34m.\u001b[0m\u001b[0mindex\u001b[0m\u001b[0;34m)\u001b[0m\u001b[0;34m,\u001b[0m \u001b[0mname\u001b[0m\u001b[0;34m=\u001b[0m\u001b[0mchannel\u001b[0m\u001b[0;34m)\u001b[0m\u001b[0;34m\u001b[0m\u001b[0;34m\u001b[0m\u001b[0m\n\u001b[0m\u001b[1;32m    145\u001b[0m                     \u001b[0;34m.\u001b[0m\u001b[0mexplode\u001b[0m\u001b[0;34m(\u001b[0m\u001b[0;34m)\u001b[0m\u001b[0;34m\u001b[0m\u001b[0;34m\u001b[0m\u001b[0m\n\u001b[1;32m    146\u001b[0m                     \u001b[0;34m.\u001b[0m\u001b[0mto_frame\u001b[0m\u001b[0;34m(\u001b[0m\u001b[0;34m)\u001b[0m\u001b[0;34m\u001b[0m\u001b[0;34m\u001b[0m\u001b[0m\n",
      "\u001b[0;32m~/.conda/envs/flash-hdf/lib/python3.8/site-packages/pandas/core/frame.py\u001b[0m in \u001b[0;36mset_index\u001b[0;34m(self, keys, drop, append, inplace, verify_integrity)\u001b[0m\n\u001b[1;32m   4768\u001b[0m                 \u001b[0;31m# check newest element against length of calling frame, since\u001b[0m\u001b[0;34m\u001b[0m\u001b[0;34m\u001b[0m\u001b[0;34m\u001b[0m\u001b[0m\n\u001b[1;32m   4769\u001b[0m                 \u001b[0;31m# ensure_index_from_sequences would not raise for append=False.\u001b[0m\u001b[0;34m\u001b[0m\u001b[0;34m\u001b[0m\u001b[0;34m\u001b[0m\u001b[0m\n\u001b[0;32m-> 4770\u001b[0;31m                 raise ValueError(\n\u001b[0m\u001b[1;32m   4771\u001b[0m                     \u001b[0;34mf\"Length mismatch: Expected {len(self)} rows, \"\u001b[0m\u001b[0;34m\u001b[0m\u001b[0;34m\u001b[0m\u001b[0m\n\u001b[1;32m   4772\u001b[0m                     \u001b[0;34mf\"received array of length {len(arrays[-1])}\"\u001b[0m\u001b[0;34m\u001b[0m\u001b[0;34m\u001b[0m\u001b[0m\n",
      "\u001b[0;31mValueError\u001b[0m: Length mismatch: Expected 1593574 rows, received array of length 991513"
     ]
    }
   ],
   "source": [
    "# Give run number and the daq \n",
    "tik = time.time()\n",
    "test.channels = ['dldTime', 'gmdTunnel', 'dldPosX','dldPosY','delayStage']#,'bam','delayStage'\n",
    "\n",
    "df1_, df2_ = test.createDataframePerRun(run_number = 35933, daq = \"fl1user2\")\n",
    "tok = time.time()\n",
    "print(f'time elapsed: {tok-tik:.3f} s')"
   ]
  },
  {
   "cell_type": "code",
   "execution_count": 11,
   "metadata": {},
   "outputs": [
    {
     "data": {
      "text/plain": [
       "38"
      ]
     },
     "execution_count": 11,
     "metadata": {},
     "output_type": "execute_result"
    }
   ],
   "source": [
    "len(test.runFilesNames(run_number = 35933, daq = \"fl1user2\"))"
   ]
  },
  {
   "cell_type": "code",
   "execution_count": 5,
   "metadata": {},
   "outputs": [
    {
     "ename": "NameError",
     "evalue": "name 'df1' is not defined",
     "output_type": "error",
     "traceback": [
      "\u001b[0;31m---------------------------------------------------------------------------\u001b[0m",
      "\u001b[0;31mNameError\u001b[0m                                 Traceback (most recent call last)",
      "\u001b[0;32m<ipython-input-5-6a861a8b3f1a>\u001b[0m in \u001b[0;36m<module>\u001b[0;34m\u001b[0m\n\u001b[0;32m----> 1\u001b[0;31m \u001b[0mdf1\u001b[0m\u001b[0;34m\u001b[0m\u001b[0;34m\u001b[0m\u001b[0m\n\u001b[0m",
      "\u001b[0;31mNameError\u001b[0m: name 'df1' is not defined"
     ]
    }
   ],
   "source": [
    "df1"
   ]
  },
  {
   "cell_type": "code",
   "execution_count": 20,
   "metadata": {},
   "outputs": [
    {
     "data": {
      "text/html": [
       "<div>\n",
       "<style scoped>\n",
       "    .dataframe tbody tr th:only-of-type {\n",
       "        vertical-align: middle;\n",
       "    }\n",
       "\n",
       "    .dataframe tbody tr th {\n",
       "        vertical-align: top;\n",
       "    }\n",
       "\n",
       "    .dataframe thead th {\n",
       "        text-align: right;\n",
       "    }\n",
       "</style>\n",
       "<table border=\"1\" class=\"dataframe\">\n",
       "  <thead>\n",
       "    <tr style=\"text-align: right;\">\n",
       "      <th></th>\n",
       "      <th></th>\n",
       "      <th>dldTime</th>\n",
       "      <th>dldPosX</th>\n",
       "      <th>dldPosY</th>\n",
       "    </tr>\n",
       "    <tr>\n",
       "      <th>macroBunchPulseId</th>\n",
       "      <th>microBunchPulseId</th>\n",
       "      <th></th>\n",
       "      <th></th>\n",
       "      <th></th>\n",
       "    </tr>\n",
       "  </thead>\n",
       "  <tbody>\n",
       "    <tr>\n",
       "      <th rowspan=\"5\" valign=\"top\">917081408</th>\n",
       "      <th>35448.0</th>\n",
       "      <td>763.0</td>\n",
       "      <td>605.0</td>\n",
       "      <td>13.0</td>\n",
       "    </tr>\n",
       "    <tr>\n",
       "      <th>35451.0</th>\n",
       "      <td>770.0</td>\n",
       "      <td>607.0</td>\n",
       "      <td>13.0</td>\n",
       "    </tr>\n",
       "    <tr>\n",
       "      <th>34894.0</th>\n",
       "      <td>503.0</td>\n",
       "      <td>725.0</td>\n",
       "      <td>16.0</td>\n",
       "    </tr>\n",
       "    <tr>\n",
       "      <th>34893.0</th>\n",
       "      <td>505.0</td>\n",
       "      <td>720.0</td>\n",
       "      <td>16.0</td>\n",
       "    </tr>\n",
       "    <tr>\n",
       "      <th>42279.0</th>\n",
       "      <td>575.0</td>\n",
       "      <td>791.0</td>\n",
       "      <td>19.0</td>\n",
       "    </tr>\n",
       "    <tr>\n",
       "      <th>...</th>\n",
       "      <th>...</th>\n",
       "      <td>...</td>\n",
       "      <td>...</td>\n",
       "      <td>...</td>\n",
       "    </tr>\n",
       "    <tr>\n",
       "      <th rowspan=\"5\" valign=\"top\">917156429</th>\n",
       "      <th>29129.0</th>\n",
       "      <td>701.0</td>\n",
       "      <td>619.0</td>\n",
       "      <td>472.0</td>\n",
       "    </tr>\n",
       "    <tr>\n",
       "      <th>29128.0</th>\n",
       "      <td>696.0</td>\n",
       "      <td>622.0</td>\n",
       "      <td>472.0</td>\n",
       "    </tr>\n",
       "    <tr>\n",
       "      <th>46437.0</th>\n",
       "      <td>461.0</td>\n",
       "      <td>684.0</td>\n",
       "      <td>476.0</td>\n",
       "    </tr>\n",
       "    <tr>\n",
       "      <th>46446.0</th>\n",
       "      <td>459.0</td>\n",
       "      <td>685.0</td>\n",
       "      <td>476.0</td>\n",
       "    </tr>\n",
       "    <tr>\n",
       "      <th>35494.0</th>\n",
       "      <td>625.0</td>\n",
       "      <td>824.0</td>\n",
       "      <td>477.0</td>\n",
       "    </tr>\n",
       "  </tbody>\n",
       "</table>\n",
       "<p>35260862 rows × 3 columns</p>\n",
       "</div>"
      ],
      "text/plain": [
       "                                    dldTime dldPosX dldPosY\n",
       "macroBunchPulseId microBunchPulseId                        \n",
       "917081408         35448.0             763.0   605.0    13.0\n",
       "                  35451.0             770.0   607.0    13.0\n",
       "                  34894.0             503.0   725.0    16.0\n",
       "                  34893.0             505.0   720.0    16.0\n",
       "                  42279.0             575.0   791.0    19.0\n",
       "...                                     ...     ...     ...\n",
       "917156429         29129.0             701.0   619.0   472.0\n",
       "                  29128.0             696.0   622.0   472.0\n",
       "                  46437.0             461.0   684.0   476.0\n",
       "                  46446.0             459.0   685.0   476.0\n",
       "                  35494.0             625.0   824.0   477.0\n",
       "\n",
       "[35260862 rows x 3 columns]"
      ]
     },
     "execution_count": 20,
     "metadata": {},
     "output_type": "execute_result"
    }
   ],
   "source": [
    "df2.where(df2.dldTime>0).dropna()"
   ]
  },
  {
   "cell_type": "code",
   "execution_count": 21,
   "metadata": {},
   "outputs": [
    {
     "data": {
      "text/plain": [
       "-20067"
      ]
     },
     "execution_count": 21,
     "metadata": {},
     "output_type": "execute_result"
    }
   ],
   "source": [
    "35240795-35260862 \n"
   ]
  },
  {
   "cell_type": "code",
   "execution_count": null,
   "metadata": {
    "collapsed": true
   },
   "outputs": [],
   "source": []
  },
  {
   "cell_type": "code",
   "execution_count": 3,
   "metadata": {},
   "outputs": [],
   "source": [
    "test = DldFlashProcessorNew(\n",
    "    \"/asap3/flash/gpfs/pg2/2020/data/11008860/raw/hdf/express/\",\n",
    "    channels = '../processor/channels.json')\n"
   ]
  },
  {
   "cell_type": "code",
   "execution_count": 4,
   "metadata": {
    "scrolled": false
   },
   "outputs": [],
   "source": [
    "# Define the channels both pulse and electron resolved\n",
    "test.channels = ['dldTime', 'gmdTunnel', 'dldPosX','dldPosY']#,'delayStage']#,'bam','delayStage'\n",
    "# H5 file path\n",
    "path = Path(\"/asap3/flash/gpfs/pg2/2020/data/11008860/raw/hdf/express/FLASH1_USER2_stream_2_run35933_file2_20201127T104509.1.h5\")\n",
    "# Use class method to create dataframe\n",
    "df1, df2 = test.createDataframePerFile(path)\n"
   ]
  },
  {
   "cell_type": "code",
   "execution_count": 8,
   "metadata": {},
   "outputs": [
    {
     "data": {
      "text/html": [
       "<div>\n",
       "<style scoped>\n",
       "    .dataframe tbody tr th:only-of-type {\n",
       "        vertical-align: middle;\n",
       "    }\n",
       "\n",
       "    .dataframe tbody tr th {\n",
       "        vertical-align: top;\n",
       "    }\n",
       "\n",
       "    .dataframe thead th {\n",
       "        text-align: right;\n",
       "    }\n",
       "</style>\n",
       "<table border=\"1\" class=\"dataframe\">\n",
       "  <thead>\n",
       "    <tr style=\"text-align: right;\">\n",
       "      <th></th>\n",
       "      <th>gmdTunnel</th>\n",
       "    </tr>\n",
       "    <tr>\n",
       "      <th>pulseId</th>\n",
       "      <th></th>\n",
       "    </tr>\n",
       "  </thead>\n",
       "  <tbody>\n",
       "    <tr>\n",
       "      <th>0</th>\n",
       "      <td>0.397396</td>\n",
       "    </tr>\n",
       "    <tr>\n",
       "      <th>1</th>\n",
       "      <td>0.42323</td>\n",
       "    </tr>\n",
       "    <tr>\n",
       "      <th>2</th>\n",
       "      <td>0.729933</td>\n",
       "    </tr>\n",
       "    <tr>\n",
       "      <th>3</th>\n",
       "      <td>0.350793</td>\n",
       "    </tr>\n",
       "    <tr>\n",
       "      <th>4</th>\n",
       "      <td>0.592182</td>\n",
       "    </tr>\n",
       "    <tr>\n",
       "      <th>...</th>\n",
       "      <td>...</td>\n",
       "    </tr>\n",
       "    <tr>\n",
       "      <th>494</th>\n",
       "      <td>0.990562</td>\n",
       "    </tr>\n",
       "    <tr>\n",
       "      <th>495</th>\n",
       "      <td>1.205816</td>\n",
       "    </tr>\n",
       "    <tr>\n",
       "      <th>496</th>\n",
       "      <td>1.061825</td>\n",
       "    </tr>\n",
       "    <tr>\n",
       "      <th>497</th>\n",
       "      <td>1.139914</td>\n",
       "    </tr>\n",
       "    <tr>\n",
       "      <th>498</th>\n",
       "      <td>1.10696</td>\n",
       "    </tr>\n",
       "  </tbody>\n",
       "</table>\n",
       "<p>499 rows × 1 columns</p>\n",
       "</div>"
      ],
      "text/plain": [
       "        gmdTunnel\n",
       "pulseId          \n",
       "0        0.397396\n",
       "1         0.42323\n",
       "2        0.729933\n",
       "3        0.350793\n",
       "4        0.592182\n",
       "...           ...\n",
       "494      0.990562\n",
       "495      1.205816\n",
       "496      1.061825\n",
       "497      1.139914\n",
       "498       1.10696\n",
       "\n",
       "[499 rows x 1 columns]"
      ]
     },
     "execution_count": 8,
     "metadata": {},
     "output_type": "execute_result"
    }
   ],
   "source": [
    "df1.loc[917083394]"
   ]
  },
  {
   "cell_type": "code",
   "execution_count": 6,
   "metadata": {},
   "outputs": [
    {
     "data": {
      "text/html": [
       "<div>\n",
       "<style scoped>\n",
       "    .dataframe tbody tr th:only-of-type {\n",
       "        vertical-align: middle;\n",
       "    }\n",
       "\n",
       "    .dataframe tbody tr th {\n",
       "        vertical-align: top;\n",
       "    }\n",
       "\n",
       "    .dataframe thead th {\n",
       "        text-align: right;\n",
       "    }\n",
       "</style>\n",
       "<table border=\"1\" class=\"dataframe\">\n",
       "  <thead>\n",
       "    <tr style=\"text-align: right;\">\n",
       "      <th></th>\n",
       "      <th></th>\n",
       "      <th>dldTime</th>\n",
       "      <th>dldPosX</th>\n",
       "      <th>dldPosY</th>\n",
       "    </tr>\n",
       "    <tr>\n",
       "      <th>trainId</th>\n",
       "      <th>pulseId</th>\n",
       "      <th></th>\n",
       "      <th></th>\n",
       "      <th></th>\n",
       "    </tr>\n",
       "  </thead>\n",
       "  <tbody>\n",
       "    <tr>\n",
       "      <th rowspan=\"5\" valign=\"top\">917083394</th>\n",
       "      <th>16.0</th>\n",
       "      <td>34807.0</td>\n",
       "      <td>769.0</td>\n",
       "      <td>688.0</td>\n",
       "    </tr>\n",
       "    <tr>\n",
       "      <th>16.0</th>\n",
       "      <td>34802.0</td>\n",
       "      <td>761.0</td>\n",
       "      <td>689.0</td>\n",
       "    </tr>\n",
       "    <tr>\n",
       "      <th>36.0</th>\n",
       "      <td>41938.0</td>\n",
       "      <td>768.0</td>\n",
       "      <td>857.0</td>\n",
       "    </tr>\n",
       "    <tr>\n",
       "      <th>36.0</th>\n",
       "      <td>41931.0</td>\n",
       "      <td>766.0</td>\n",
       "      <td>857.0</td>\n",
       "    </tr>\n",
       "    <tr>\n",
       "      <th>40.0</th>\n",
       "      <td>34848.0</td>\n",
       "      <td>564.0</td>\n",
       "      <td>760.0</td>\n",
       "    </tr>\n",
       "    <tr>\n",
       "      <th>...</th>\n",
       "      <th>...</th>\n",
       "      <td>...</td>\n",
       "      <td>...</td>\n",
       "      <td>...</td>\n",
       "    </tr>\n",
       "    <tr>\n",
       "      <th rowspan=\"5\" valign=\"top\">917085381</th>\n",
       "      <th>NaN</th>\n",
       "      <td>NaN</td>\n",
       "      <td>NaN</td>\n",
       "      <td>NaN</td>\n",
       "    </tr>\n",
       "    <tr>\n",
       "      <th>NaN</th>\n",
       "      <td>NaN</td>\n",
       "      <td>NaN</td>\n",
       "      <td>NaN</td>\n",
       "    </tr>\n",
       "    <tr>\n",
       "      <th>NaN</th>\n",
       "      <td>NaN</td>\n",
       "      <td>NaN</td>\n",
       "      <td>NaN</td>\n",
       "    </tr>\n",
       "    <tr>\n",
       "      <th>NaN</th>\n",
       "      <td>NaN</td>\n",
       "      <td>NaN</td>\n",
       "      <td>NaN</td>\n",
       "    </tr>\n",
       "    <tr>\n",
       "      <th>NaN</th>\n",
       "      <td>NaN</td>\n",
       "      <td>NaN</td>\n",
       "      <td>NaN</td>\n",
       "    </tr>\n",
       "  </tbody>\n",
       "</table>\n",
       "<p>1391600 rows × 3 columns</p>\n",
       "</div>"
      ],
      "text/plain": [
       "                   dldTime dldPosX dldPosY\n",
       "trainId   pulseId                         \n",
       "917083394 16.0     34807.0   769.0   688.0\n",
       "          16.0     34802.0   761.0   689.0\n",
       "          36.0     41938.0   768.0   857.0\n",
       "          36.0     41931.0   766.0   857.0\n",
       "          40.0     34848.0   564.0   760.0\n",
       "...                    ...     ...     ...\n",
       "917085381 NaN          NaN     NaN     NaN\n",
       "          NaN          NaN     NaN     NaN\n",
       "          NaN          NaN     NaN     NaN\n",
       "          NaN          NaN     NaN     NaN\n",
       "          NaN          NaN     NaN     NaN\n",
       "\n",
       "[1391600 rows x 3 columns]"
      ]
     },
     "execution_count": 6,
     "metadata": {},
     "output_type": "execute_result"
    }
   ],
   "source": [
    "df2"
   ]
  },
  {
   "cell_type": "code",
   "execution_count": 5,
   "metadata": {},
   "outputs": [
    {
     "data": {
      "text/plain": [
       "{'bam': {'format': 'per_pulse',\n",
       "  'group_name': '/FL1/Electron Diagnostic/BAM/4DBC3/electron bunch arrival time (low charge)/',\n",
       "  'old_name': '/FL1/Electron Diagnostic/BAM/4DBC3/electron bunch arrival time (low charge)',\n",
       "  'slice': ':'},\n",
       " 'delayStage': {'format': 'per_pulse',\n",
       "  'group_name': '/uncategorised/FLASH1_USER2/FLASH.SYNC/LASER.LOCK.EXP/FLASH1.MOD1.PG.OSC/FMC0.MD22.1.POSITION.RD/',\n",
       "  'old_name': '/uncategorised/FLASH1_USER2/FLASH.SYNC/LASER.LOCK.EXP/FLASH1.MOD1.PG.OSC/FMC0.MD22.1.POSITION.RD/dset',\n",
       "  'slice': ':'},\n",
       " 'dldAux': {'axis': 1,\n",
       "  'format': 'per_pulse',\n",
       "  'group_name': '/FL1/Experiment/PG/Hextof/Detector/monitor/',\n",
       "  'old_name': '/FL1/Experiment/PG/Hextof/Detector/monitor 0',\n",
       "  'slice': 4},\n",
       " 'dldMicrobunchId': {'axis': 1,\n",
       "  'format': 'per_electron',\n",
       "  'group_name': '/FL1/Experiment/PG/Hextof/Detector/monitor/',\n",
       "  'old_name': '/FL1/Experiment/PG/Hextof/Detector/monitor 3',\n",
       "  'slice': 3},\n",
       " 'dldPosX': {'axis': 1,\n",
       "  'format': 'per_electron',\n",
       "  'group_name': '/FL1/Experiment/PG/Hextof/Detector/monitor/',\n",
       "  'old_name': '/FL1/Experiment/PG/Hextof/Detector/monitor 1',\n",
       "  'slice': 1},\n",
       " 'dldPosY': {'axis': 1,\n",
       "  'format': 'per_electron',\n",
       "  'group_name': '/FL1/Experiment/PG/Hextof/Detector/monitor/',\n",
       "  'old_name': '/FL1/Experiment/PG/Hextof/Detector/monitor 2',\n",
       "  'slice': 2},\n",
       " 'dldTime': {'axis': 1,\n",
       "  'format': 'per_electron',\n",
       "  'group_name': '/FL1/Experiment/PG/Hextof/Detector/monitor/',\n",
       "  'old_name': '/FL1/Experiment/PG/Hextof/Detector/control info',\n",
       "  'slice': 0},\n",
       " 'gmdBda': {'format': 'per_pulse',\n",
       "  'group_name': '/FL1/Photon Diagnostic/GMD/Pulse resolved energy/energy BDA copy/',\n",
       "  'old_name': '/FL1/Photon Diagnostic/GMD/Pulse resolved energy/energy BDA copy',\n",
       "  'slice': ':'},\n",
       " 'gmdTunnel': {'format': 'per_pulse',\n",
       "  'group_name': '/FL1/Photon Diagnostic/GMD/Pulse resolved energy/energy tunnel copy/',\n",
       "  'old_name': '/FL1/Photon Diagnostic/GMD/Pulse resolved energy/energy tunnel copy',\n",
       "  'slice': ':'},\n",
       " 'monochromatorPhotonEnergy': {'format': 'per_pulse',\n",
       "  'group_name': '/FL1/Beamlines/PG/Monochromator/monochromator photon energy/',\n",
       "  'old_name': '/FL1/Beamlines/PG/Monochromator/monochromator photon energy',\n",
       "  'slice': ':'},\n",
       " 'opticalDiode': {'format': 'per_pulse',\n",
       "  'group_name': '/FL1/Experiment/PG/SIS8300 100MHz ADC/CH9/pulse energy/TD/',\n",
       "  'old_name': '/FL1/Experiment/PG/SIS8300 100MHz ADC/CH9/pulse energy/TD',\n",
       "  'slice': ':'},\n",
       " 'streakCam': {'format': 'per_pulse',\n",
       "  'group_name': '/FL1/Experiment/Pump probe laser/streak camera delay time/',\n",
       "  'old_name': '/FL1/Experiment/Pump probe laser/streak camera delay time',\n",
       "  'slice': ':'},\n",
       " 'timeStamp': {'format': 'per_pulse',\n",
       "  'group_name': '/Timing/time stamp/fl1user2',\n",
       "  'old_name': '/Timing/time stamp/fl1user2',\n",
       "  'slice': ':'}}"
      ]
     },
     "execution_count": 5,
     "metadata": {},
     "output_type": "execute_result"
    }
   ],
   "source": [
    "test.all_channels"
   ]
  },
  {
   "cell_type": "code",
   "execution_count": 11,
   "metadata": {},
   "outputs": [],
   "source": [
    "import h5py#\"/asap3/flash/gpfs/pg2/2020/data/11008860/raw/hdf/express/FLASH1_USER2_stream_2_run35933_file2_20201127T104509.1.h5\""
   ]
  },
  {
   "cell_type": "code",
   "execution_count": 20,
   "metadata": {},
   "outputs": [],
   "source": [
    "f = h5py.File(\"/asap3/flash/gpfs/pg2/2020/data/11008860/raw/hdf/express/FLASH1_USER2_stream_2_run35933_file2_20201127T104509.1.h5\")\n",
    "v = f['/FL1/Experiment/PG/Hextof/Detector/monitor/value']"
   ]
  },
  {
   "cell_type": "code",
   "execution_count": 22,
   "metadata": {},
   "outputs": [
    {
     "data": {
      "text/plain": [
       "(125, 1, 88)"
      ]
     },
     "execution_count": 22,
     "metadata": {},
     "output_type": "execute_result"
    }
   ],
   "source": [
    "v.chunks"
   ]
  },
  {
   "cell_type": "code",
   "execution_count": null,
   "metadata": {},
   "outputs": [],
   "source": [
    "f.close()"
   ]
  },
  {
   "cell_type": "code",
   "execution_count": null,
   "metadata": {},
   "outputs": [],
   "source": []
  },
  {
   "cell_type": "code",
   "execution_count": null,
   "metadata": {},
   "outputs": [],
   "source": []
  },
  {
   "cell_type": "markdown",
   "metadata": {},
   "source": [
    "# Read data"
   ]
  },
  {
   "cell_type": "code",
   "execution_count": null,
   "metadata": {},
   "outputs": [],
   "source": [
    "prc = DldFlashProcessor(read_mode='online')"
   ]
  },
  {
   "cell_type": "code",
   "execution_count": null,
   "metadata": {},
   "outputs": [],
   "source": [
    "prc.dd = \n",
    "prc.ddMicrobunches "
   ]
  }
 ],
 "metadata": {
  "kernelspec": {
   "display_name": "Python [conda env:flash-hdf]",
   "language": "python",
   "name": "conda-env-flash-hdf-py"
  },
  "language_info": {
   "codemirror_mode": {
    "name": "ipython",
    "version": 3
   },
   "file_extension": ".py",
   "mimetype": "text/x-python",
   "name": "python",
   "nbconvert_exporter": "python",
   "pygments_lexer": "ipython3",
   "version": "3.8.8"
  }
 },
 "nbformat": 4,
 "nbformat_minor": 2
}
