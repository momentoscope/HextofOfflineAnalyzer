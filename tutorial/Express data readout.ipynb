{
 "cells": [
  {
   "cell_type": "code",
   "execution_count": 1,
   "metadata": {},
   "outputs": [],
   "source": [
    "import sys, os\n",
    "import dask\n",
    "from dask.diagnostics import ProgressBar\n",
    "\n",
    "sys.path.append(os.getenv(\"HOME\")+'/hextof-newdata/hextof-processor/')\n",
    "from processor.DldFlashDataframeCreatorNew import readData, DldProcessor\n",
    "from processor.utilities import calibration, diagnostics, misc, io, vis,dfops\n",
    "settings = 'Jonas_2020_express'\n"
   ]
  },
  {
   "cell_type": "markdown",
   "metadata": {},
   "source": [
    "# first time readout: slow"
   ]
  },
  {
   "cell_type": "code",
   "execution_count": null,
   "metadata": {},
   "outputs": [
    {
     "name": "stdout",
     "output_type": "stream",
     "text": [
      "Using settings from Jonas_2020_express.ini\n",
      "reading runs run35990: 27 new files of 27 total.\n",
      "[#######                                 ] | 18% Completed | 12min 56.1s"
     ]
    }
   ],
   "source": [
    "prc = readData(35990,settings=settings)"
   ]
  },
  {
   "cell_type": "markdown",
   "metadata": {},
   "source": [
    "# Second time readout: very fast"
   ]
  },
  {
   "cell_type": "code",
   "execution_count": null,
   "metadata": {},
   "outputs": [],
   "source": [
    "prc = readData(35990,settings=settings)"
   ]
  },
  {
   "cell_type": "markdown",
   "metadata": {},
   "source": [
    "# Binning"
   ]
  },
  {
   "cell_type": "code",
   "execution_count": null,
   "metadata": {},
   "outputs": [],
   "source": [
    "prc = readData(35990,settings=settings)\n",
    "prc.addBinning('dldTime',580,800,0.01)\n",
    "prc.addBinning('dldPosX',400,900,4)\n",
    "prc.addBinning('dldPosY',400,900,4)\n",
    "prc.addBinning('delayStage',dask.compute(prc.dd.delayStage.min(),prc.dd.delayStage.max()),0.5)\n",
    "prc."
   ]
  }
 ],
 "metadata": {
  "kernelspec": {
   "display_name": "hextof",
   "language": "python",
   "name": "hextof"
  },
  "language_info": {
   "codemirror_mode": {
    "name": "ipython",
    "version": 3
   },
   "file_extension": ".py",
   "mimetype": "text/x-python",
   "name": "python",
   "nbconvert_exporter": "python",
   "pygments_lexer": "ipython3",
   "version": "3.7.10"
  }
 },
 "nbformat": 4,
 "nbformat_minor": 2
}
