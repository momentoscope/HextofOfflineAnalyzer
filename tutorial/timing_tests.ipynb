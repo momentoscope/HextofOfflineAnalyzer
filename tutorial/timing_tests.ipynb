{
 "cells": [
  {
   "cell_type": "markdown",
   "metadata": {},
   "source": [
    "# HEXTOF-processor binning procedure tutorial\n",
    "\n",
    "This notebook is an example of how to use the hextof-processor to process raw data from the FLASH DAQ raw data format, into binned arrays. These can then be used for analysis with the users favourite tools.\n",
    "\n",
    "The procedure described here is divided in two sections. First, a direct binning in the raw data axis is presented. The second includes calibration of Binding Energy and pump-probe time delay axes and allows binning in the desired physical quantities.\n",
    "\n",
    "This guide is intended to be used with the example raw data provided in this repository, and should be run from its original location.\n"
   ]
  },
  {
   "cell_type": "markdown",
   "metadata": {},
   "source": [
    "## 0. Imports\n",
    "Import required libraries"
   ]
  },
  {
   "cell_type": "code",
   "execution_count": 2,
   "metadata": {},
   "outputs": [],
   "source": [
    "import sys, os\n",
    "from datetime import datetime\n",
    "from tqdm.notebook import tnrange\n",
    "\n",
    "# import numeric packages\n",
    "import numpy as np\n",
    "import xarray as xr\n",
    "import dask\n",
    "from dask.diagnostics import ProgressBar\n",
    "\n",
    "# plotting packages\n",
    "import matplotlib.pyplot as plt\n",
    "\n",
    "# invoke interactive matplotlib plots\n",
    "%matplotlib notebook\n",
    "%matplotlib inline \n",
    "\n",
    "# hextof-processor imports\n",
    "sys.path.append(os.path.dirname(os.getcwd()) ) # add hextof-processor to path\n",
    "from processor.DldFlashDataframeCreator import DldFlashProcessor\n",
    "from processor.utilities import calibration, diagnostics, misc, io, vis"
   ]
  },
  {
   "cell_type": "markdown",
   "metadata": {},
   "source": [
    "### 1. Read raw data and generate single event dataframe"
   ]
  },
  {
   "cell_type": "code",
   "execution_count": 5,
   "metadata": {},
   "outputs": [
    {
     "output_type": "stream",
     "name": "stdout",
     "text": [
      "Loaded settings from tutorial.ini\n",
      "loading data...\n",
      "Reading DAQ data from run 22097... Please wait...\n",
      "Run 22097\n",
      "Macrobunches: 7,064  from 99,007,477 to 99,014,541 \n",
      "Total electrons: 6,970,556, electrons/Macrobunch 986\n",
      "Generating metadata...\n",
      "...done!\n",
      "Creating dataframes... Please wait...\n",
      "[########################################] | 100% Completed | 20.0s\n",
      "Electron dataframe created.\n",
      "Microbunch dataframe created.\n",
      "Reading Complete.\n",
      "Creating parquet container ../tutorial/parquetrun22097\n",
      "[########################################] | 100% Completed |  8.1s\n",
      "[########################################] | 100% Completed |  1.3s\n"
     ]
    }
   ],
   "source": [
    "prc = DldFlashProcessor()\n",
    "# load the correct configuration for the dataset you want to read.\n",
    "# This can be different for each beamtime.\n",
    "prc.load_settings('tutorial') \n",
    "prc.DATA_RAW_DIR = '../tutorial/raw' # manually overwrite data folder to use the tutorial dataset\n",
    "prc.DATA_PARQUET_DIR = '../tutorial/parquet' # manually overwrite parquet data folder. it is STRONGLY recomendend to use an SSD drive here.\n",
    "prc.runNumber = 22097 # run number of the example data given for this tutorial\n",
    "prc.readData() # read the raw data and generate the single event tables\n",
    "prc.storeDataframes() # store the single event tables as parquet files.    \n",
    "\n"
   ]
  },
  {
   "cell_type": "markdown",
   "metadata": {},
   "source": [
    "At this point, the prc object can be re-created using the fresh parquet dataset only. This improves memory efficiency of the overall code. However, generating the parquet intermediate format is not mandatory, and binning can be performed, on small runs, also on the raw data loaded in memory.\n",
    "\n"
   ]
  },
  {
   "cell_type": "code",
   "execution_count": 7,
   "metadata": {},
   "outputs": [
    {
     "output_type": "stream",
     "name": "stdout",
     "text": [
      "Searching for parquet data from run22097...\n",
      "Run 22097\n",
      "Macrobunches: 7,064  from 99,007,477 to 99,014,541 \n",
      "Total electrons: 6,970,556, electrons/Macrobunch 986\n",
      "Loading complete.\n"
     ]
    }
   ],
   "source": [
    "# **OPTIONAL** clear memory and load the single event tables from parquet:\n",
    "prc = DldFlashProcessor() # overwrite the processor with a fresh new instance\n",
    "prc.runNumber = 22097\n",
    "prc.DATA_PARQUET_DIR = '../tutorial/parquet' # manually overwrite parquet data folder. it is STRONGLY recomendend to use an SSD drive here.\n",
    "prc.readDataframes() # load data from single event tables saved as parquet"
   ]
  },
  {
   "cell_type": "markdown",
   "metadata": {},
   "source": [
    "## 2. Basic binning"
   ]
  },
  {
   "cell_type": "markdown",
   "metadata": {},
   "source": [
    "### 2.1 define binning range"
   ]
  },
  {
   "cell_type": "code",
   "execution_count": 8,
   "metadata": {},
   "outputs": [],
   "source": [
    "# Time of flight parameters\n",
    "tof_from = 620#180\n",
    "tof_to = 660\n",
    "tof_step = 0.003 # the bigger number between this and the original step size is used in the final binning size definition.\n",
    "\n",
    "# pump-probe delay parameters\n",
    "delay_from = -517\n",
    "delay_to = -512.5\n",
    "delay_step = 0.05\n",
    "\n",
    "# detector position parameters, valid both in x and y directions\n",
    "dld_from=0\n",
    "dld_to=3000\n",
    "dld_step=30"
   ]
  },
  {
   "cell_type": "code",
   "execution_count": 5,
   "metadata": {},
   "outputs": [],
   "source": [
    "def timing(cores, method):\n",
    "    prc.N_CORES = cores\n",
    "    prc.resetBins() # ensure there is no previous binning axes assigned.\n",
    "    # prc.addBinning('dldTime', tof_from,tof_to,tof_step, method = method);\n",
    "    # prc.addBinning('delayStage',delay_from,delay_to,delay_step, method = method);\n",
    "    prc.addBinning('dldPosX',dld_from,dld_to,dld_step, method = method);\n",
    "    prc.addBinning('dldPosY',dld_from,dld_to,dld_step, method = method);\n",
    "    prc.computeBinnedData(method = method, usePbar=False)"
   ]
  },
  {
   "cell_type": "code",
   "execution_count": 39,
   "metadata": {},
   "outputs": [
    {
     "output_type": "stream",
     "name": "stdout",
     "text": [
      "Failed creating metadata: 'forced to skip metadata creation'\n",
      "Failed creating metadata: 'forced to skip metadata creation'\n",
      "Failed creating metadata: 'forced to skip metadata creation'\n",
      "Failed creating metadata: 'forced to skip metadata creation'\n",
      "Failed creating metadata: 'forced to skip metadata creation'\n",
      "Failed creating metadata: 'forced to skip metadata creation'\n",
      "Failed creating metadata: 'forced to skip metadata creation'\n",
      "Failed creating metadata: 'forced to skip metadata creation'\n",
      "1.74 s ± 20.8 ms per loop (mean ± std. dev. of 7 runs, 1 loop each)\n"
     ]
    }
   ],
   "source": [
    "boost_times_dldPosXY = %timeit -o timing(5, 'boost')"
   ]
  },
  {
   "cell_type": "code",
   "execution_count": 38,
   "metadata": {},
   "outputs": [
    {
     "output_type": "stream",
     "name": "stdout",
     "text": [
      "Failed creating metadata: 'forced to skip metadata creation'\n",
      "Failed creating metadata: 'forced to skip metadata creation'\n",
      "Failed creating metadata: 'forced to skip metadata creation'\n",
      "Failed creating metadata: 'forced to skip metadata creation'\n",
      "Failed creating metadata: 'forced to skip metadata creation'\n",
      "Failed creating metadata: 'forced to skip metadata creation'\n",
      "Failed creating metadata: 'forced to skip metadata creation'\n",
      "Failed creating metadata: 'forced to skip metadata creation'\n",
      "1.83 s ± 31.5 ms per loop (mean ± std. dev. of 7 runs, 1 loop each)\n"
     ]
    }
   ],
   "source": [
    "numpy_times_dldPosXY = %timeit -o timing(5, 'numpy')"
   ]
  },
  {
   "cell_type": "code",
   "execution_count": 43,
   "metadata": {},
   "outputs": [
    {
     "output_type": "stream",
     "name": "stdout",
     "text": [
      "Failed creating metadata: 'forced to skip metadata creation'\n",
      "Failed creating metadata: 'forced to skip metadata creation'\n",
      "Failed creating metadata: 'forced to skip metadata creation'\n",
      "Failed creating metadata: 'forced to skip metadata creation'\n",
      "Failed creating metadata: 'forced to skip metadata creation'\n",
      "Failed creating metadata: 'forced to skip metadata creation'\n",
      "Failed creating metadata: 'forced to skip metadata creation'\n",
      "Failed creating metadata: 'forced to skip metadata creation'\n",
      "2.61 s ± 49.5 ms per loop (mean ± std. dev. of 7 runs, 1 loop each)\n"
     ]
    }
   ],
   "source": [
    "boost_times_dldPosXY_delay = %timeit -o timing(5, 'boost')"
   ]
  },
  {
   "cell_type": "code",
   "execution_count": 42,
   "metadata": {},
   "outputs": [
    {
     "output_type": "stream",
     "name": "stdout",
     "text": [
      "Failed creating metadata: 'forced to skip metadata creation'\n",
      "Failed creating metadata: 'forced to skip metadata creation'\n",
      "Failed creating metadata: 'forced to skip metadata creation'\n",
      "Failed creating metadata: 'forced to skip metadata creation'\n",
      "Failed creating metadata: 'forced to skip metadata creation'\n",
      "Failed creating metadata: 'forced to skip metadata creation'\n",
      "Failed creating metadata: 'forced to skip metadata creation'\n",
      "Failed creating metadata: 'forced to skip metadata creation'\n",
      "2.25 s ± 34.2 ms per loop (mean ± std. dev. of 7 runs, 1 loop each)\n"
     ]
    }
   ],
   "source": [
    "numpy_times_dldPosXY_delay = %timeit -o timing(5, 'numpy')"
   ]
  },
  {
   "cell_type": "code",
   "execution_count": 6,
   "metadata": {},
   "outputs": [
    {
     "output_type": "stream",
     "name": "stdout",
     "text": [
      "Failed creating metadata: 'forced to skip metadata creation'\n",
      "Failed creating metadata: 'forced to skip metadata creation'\n",
      "Failed creating metadata: 'forced to skip metadata creation'\n",
      "Failed creating metadata: 'forced to skip metadata creation'\n",
      "Failed creating metadata: 'forced to skip metadata creation'\n",
      "Failed creating metadata: 'forced to skip metadata creation'\n",
      "Failed creating metadata: 'forced to skip metadata creation'\n",
      "Failed creating metadata: 'forced to skip metadata creation'\n",
      "3.97 s ± 116 ms per loop (mean ± std. dev. of 7 runs, 1 loop each)\n",
      "Failed creating metadata: 'forced to skip metadata creation'\n",
      "Failed creating metadata: 'forced to skip metadata creation'\n",
      "Failed creating metadata: 'forced to skip metadata creation'\n",
      "Failed creating metadata: 'forced to skip metadata creation'\n",
      "Failed creating metadata: 'forced to skip metadata creation'\n",
      "Failed creating metadata: 'forced to skip metadata creation'\n",
      "Failed creating metadata: 'forced to skip metadata creation'\n",
      "Failed creating metadata: 'forced to skip metadata creation'\n",
      "1.94 s ± 50.5 ms per loop (mean ± std. dev. of 7 runs, 1 loop each)\n",
      "Failed creating metadata: 'forced to skip metadata creation'\n",
      "Failed creating metadata: 'forced to skip metadata creation'\n",
      "Failed creating metadata: 'forced to skip metadata creation'\n",
      "Failed creating metadata: 'forced to skip metadata creation'\n",
      "Failed creating metadata: 'forced to skip metadata creation'\n",
      "Failed creating metadata: 'forced to skip metadata creation'\n",
      "Failed creating metadata: 'forced to skip metadata creation'\n",
      "Failed creating metadata: 'forced to skip metadata creation'\n",
      "1.92 s ± 37.3 ms per loop (mean ± std. dev. of 7 runs, 1 loop each)\n",
      "Failed creating metadata: 'forced to skip metadata creation'\n",
      "Failed creating metadata: 'forced to skip metadata creation'\n",
      "Failed creating metadata: 'forced to skip metadata creation'\n",
      "Failed creating metadata: 'forced to skip metadata creation'\n",
      "Failed creating metadata: 'forced to skip metadata creation'\n",
      "Failed creating metadata: 'forced to skip metadata creation'\n",
      "Failed creating metadata: 'forced to skip metadata creation'\n",
      "Failed creating metadata: 'forced to skip metadata creation'\n",
      "2.03 s ± 38.4 ms per loop (mean ± std. dev. of 7 runs, 1 loop each)\n"
     ]
    }
   ],
   "source": [
    "numpy_times = []\n",
    "for i in [1, 5, 10, 20]:\n",
    "    numpy_time =  %timeit -o timing(i, 'numpy')\n",
    "    numpy_times.append(numpy_time)"
   ]
  },
  {
   "cell_type": "code",
   "execution_count": 7,
   "metadata": {},
   "outputs": [
    {
     "output_type": "execute_result",
     "data": {
      "text/plain": [
       "[<TimeitResult : 3.97 s ± 116 ms per loop (mean ± std. dev. of 7 runs, 1 loop each)>,\n",
       " <TimeitResult : 1.94 s ± 50.5 ms per loop (mean ± std. dev. of 7 runs, 1 loop each)>,\n",
       " <TimeitResult : 1.92 s ± 37.3 ms per loop (mean ± std. dev. of 7 runs, 1 loop each)>,\n",
       " <TimeitResult : 2.03 s ± 38.4 ms per loop (mean ± std. dev. of 7 runs, 1 loop each)>]"
      ]
     },
     "metadata": {},
     "execution_count": 7
    }
   ],
   "source": [
    "numpy_times"
   ]
  },
  {
   "cell_type": "code",
   "execution_count": 8,
   "metadata": {},
   "outputs": [
    {
     "output_type": "stream",
     "name": "stdout",
     "text": [
      "Failed creating metadata: 'forced to skip metadata creation'\n",
      "Failed creating metadata: 'forced to skip metadata creation'\n",
      "Failed creating metadata: 'forced to skip metadata creation'\n",
      "Failed creating metadata: 'forced to skip metadata creation'\n",
      "Failed creating metadata: 'forced to skip metadata creation'\n",
      "Failed creating metadata: 'forced to skip metadata creation'\n",
      "Failed creating metadata: 'forced to skip metadata creation'\n",
      "Failed creating metadata: 'forced to skip metadata creation'\n",
      "3.52 s ± 131 ms per loop (mean ± std. dev. of 7 runs, 1 loop each)\n",
      "Failed creating metadata: 'forced to skip metadata creation'\n",
      "Failed creating metadata: 'forced to skip metadata creation'\n",
      "Failed creating metadata: 'forced to skip metadata creation'\n",
      "Failed creating metadata: 'forced to skip metadata creation'\n",
      "Failed creating metadata: 'forced to skip metadata creation'\n",
      "Failed creating metadata: 'forced to skip metadata creation'\n",
      "Failed creating metadata: 'forced to skip metadata creation'\n",
      "Failed creating metadata: 'forced to skip metadata creation'\n",
      "1.79 s ± 19.7 ms per loop (mean ± std. dev. of 7 runs, 1 loop each)\n",
      "Failed creating metadata: 'forced to skip metadata creation'\n",
      "Failed creating metadata: 'forced to skip metadata creation'\n",
      "Failed creating metadata: 'forced to skip metadata creation'\n",
      "Failed creating metadata: 'forced to skip metadata creation'\n",
      "Failed creating metadata: 'forced to skip metadata creation'\n",
      "Failed creating metadata: 'forced to skip metadata creation'\n",
      "Failed creating metadata: 'forced to skip metadata creation'\n",
      "Failed creating metadata: 'forced to skip metadata creation'\n",
      "1.83 s ± 10.9 ms per loop (mean ± std. dev. of 7 runs, 1 loop each)\n",
      "Failed creating metadata: 'forced to skip metadata creation'\n",
      "Failed creating metadata: 'forced to skip metadata creation'\n",
      "Failed creating metadata: 'forced to skip metadata creation'\n",
      "Failed creating metadata: 'forced to skip metadata creation'\n",
      "Failed creating metadata: 'forced to skip metadata creation'\n",
      "Failed creating metadata: 'forced to skip metadata creation'\n",
      "Failed creating metadata: 'forced to skip metadata creation'\n",
      "Failed creating metadata: 'forced to skip metadata creation'\n",
      "2.02 s ± 91.8 ms per loop (mean ± std. dev. of 7 runs, 1 loop each)\n"
     ]
    }
   ],
   "source": [
    "boost_times = []\n",
    "for i in [1, 5, 10, 20]:\n",
    "    boost_time =  %timeit -o timing(i, 'boost')\n",
    "    boost_times.append(boost_time)"
   ]
  },
  {
   "cell_type": "code",
   "execution_count": 9,
   "metadata": {},
   "outputs": [
    {
     "output_type": "execute_result",
     "data": {
      "text/plain": [
       "[<TimeitResult : 3.52 s ± 131 ms per loop (mean ± std. dev. of 7 runs, 1 loop each)>,\n",
       " <TimeitResult : 1.79 s ± 19.7 ms per loop (mean ± std. dev. of 7 runs, 1 loop each)>,\n",
       " <TimeitResult : 1.83 s ± 10.9 ms per loop (mean ± std. dev. of 7 runs, 1 loop each)>,\n",
       " <TimeitResult : 2.02 s ± 91.8 ms per loop (mean ± std. dev. of 7 runs, 1 loop each)>]"
      ]
     },
     "metadata": {},
     "execution_count": 9
    }
   ],
   "source": [
    "boost_times"
   ]
  },
  {
   "cell_type": "code",
   "execution_count": 22,
   "metadata": {},
   "outputs": [],
   "source": [
    "boost_y = []\n",
    "boost_z = []\n",
    "numpy_y = []\n",
    "numpy_z = []\n",
    "for i in range(len(boost_times)):\n",
    "    boost_y.append(boost_times[i].best)\n",
    "    boost_z.append(boost_times[i].stdev)\n",
    "    numpy_y.append(numpy_times[i].best)\n",
    "    numpy_z.append(numpy_times[i].stdev)\n"
   ]
  },
  {
   "cell_type": "code",
   "execution_count": 30,
   "metadata": {},
   "outputs": [
    {
     "output_type": "display_data",
     "data": {
      "text/plain": "<Figure size 432x288 with 1 Axes>",
      "image/svg+xml": "<?xml version=\"1.0\" encoding=\"utf-8\" standalone=\"no\"?>\n<!DOCTYPE svg PUBLIC \"-//W3C//DTD SVG 1.1//EN\"\n  \"http://www.w3.org/Graphics/SVG/1.1/DTD/svg11.dtd\">\n<!-- Created with matplotlib (https://matplotlib.org/) -->\n<svg height=\"263.63625pt\" version=\"1.1\" viewBox=\"0 0 427.813125 263.63625\" width=\"427.813125pt\" xmlns=\"http://www.w3.org/2000/svg\" xmlns:xlink=\"http://www.w3.org/1999/xlink\">\n <metadata>\n  <rdf:RDF xmlns:cc=\"http://creativecommons.org/ns#\" xmlns:dc=\"http://purl.org/dc/elements/1.1/\" xmlns:rdf=\"http://www.w3.org/1999/02/22-rdf-syntax-ns#\">\n   <cc:Work>\n    <dc:type rdf:resource=\"http://purl.org/dc/dcmitype/StillImage\"/>\n    <dc:date>2021-03-11T02:22:43.961617</dc:date>\n    <dc:format>image/svg+xml</dc:format>\n    <dc:creator>\n     <cc:Agent>\n      <dc:title>Matplotlib v3.3.2, https://matplotlib.org/</dc:title>\n     </cc:Agent>\n    </dc:creator>\n   </cc:Work>\n  </rdf:RDF>\n </metadata>\n <defs>\n  <style type=\"text/css\">*{stroke-linecap:butt;stroke-linejoin:round;}</style>\n </defs>\n <g id=\"figure_1\">\n  <g id=\"patch_1\">\n   <path d=\"M -0 263.63625 \nL 427.813125 263.63625 \nL 427.813125 0 \nL -0 0 \nz\n\" style=\"fill:none;\"/>\n  </g>\n  <g id=\"axes_1\">\n   <g id=\"patch_2\">\n    <path d=\"M 46.506562 239.758125 \nL 381.306562 239.758125 \nL 381.306562 22.318125 \nL 46.506562 22.318125 \nz\n\" style=\"fill:#ffffff;\"/>\n   </g>\n   <g id=\"matplotlib.axis_1\">\n    <g id=\"xtick_1\">\n     <g id=\"line2d_1\">\n      <defs>\n       <path d=\"M 0 0 \nL 0 3.5 \n\" id=\"m24cdfec305\" style=\"stroke:#000000;stroke-width:0.8;\"/>\n      </defs>\n      <g>\n       <use style=\"stroke:#000000;stroke-width:0.8;\" x=\"85.753452\" xlink:href=\"#m24cdfec305\" y=\"239.758125\"/>\n      </g>\n     </g>\n     <g id=\"text_1\">\n      <!-- 2.5 -->\n      <g transform=\"translate(77.80189 254.356563)scale(0.1 -0.1)\">\n       <defs>\n        <path d=\"M 19.1875 8.296875 \nL 53.609375 8.296875 \nL 53.609375 0 \nL 7.328125 0 \nL 7.328125 8.296875 \nQ 12.9375 14.109375 22.625 23.890625 \nQ 32.328125 33.6875 34.8125 36.53125 \nQ 39.546875 41.84375 41.421875 45.53125 \nQ 43.3125 49.21875 43.3125 52.78125 \nQ 43.3125 58.59375 39.234375 62.25 \nQ 35.15625 65.921875 28.609375 65.921875 \nQ 23.96875 65.921875 18.8125 64.3125 \nQ 13.671875 62.703125 7.8125 59.421875 \nL 7.8125 69.390625 \nQ 13.765625 71.78125 18.9375 73 \nQ 24.125 74.21875 28.421875 74.21875 \nQ 39.75 74.21875 46.484375 68.546875 \nQ 53.21875 62.890625 53.21875 53.421875 \nQ 53.21875 48.921875 51.53125 44.890625 \nQ 49.859375 40.875 45.40625 35.40625 \nQ 44.1875 33.984375 37.640625 27.21875 \nQ 31.109375 20.453125 19.1875 8.296875 \nz\n\" id=\"DejaVuSans-50\"/>\n        <path d=\"M 10.6875 12.40625 \nL 21 12.40625 \nL 21 0 \nL 10.6875 0 \nz\n\" id=\"DejaVuSans-46\"/>\n        <path d=\"M 10.796875 72.90625 \nL 49.515625 72.90625 \nL 49.515625 64.59375 \nL 19.828125 64.59375 \nL 19.828125 46.734375 \nQ 21.96875 47.46875 24.109375 47.828125 \nQ 26.265625 48.1875 28.421875 48.1875 \nQ 40.625 48.1875 47.75 41.5 \nQ 54.890625 34.8125 54.890625 23.390625 \nQ 54.890625 11.625 47.5625 5.09375 \nQ 40.234375 -1.421875 26.90625 -1.421875 \nQ 22.3125 -1.421875 17.546875 -0.640625 \nQ 12.796875 0.140625 7.71875 1.703125 \nL 7.71875 11.625 \nQ 12.109375 9.234375 16.796875 8.0625 \nQ 21.484375 6.890625 26.703125 6.890625 \nQ 35.15625 6.890625 40.078125 11.328125 \nQ 45.015625 15.765625 45.015625 23.390625 \nQ 45.015625 31 40.078125 35.4375 \nQ 35.15625 39.890625 26.703125 39.890625 \nQ 22.75 39.890625 18.8125 39.015625 \nQ 14.890625 38.140625 10.796875 36.28125 \nz\n\" id=\"DejaVuSans-53\"/>\n       </defs>\n       <use xlink:href=\"#DejaVuSans-50\"/>\n       <use x=\"63.623047\" xlink:href=\"#DejaVuSans-46\"/>\n       <use x=\"95.410156\" xlink:href=\"#DejaVuSans-53\"/>\n      </g>\n     </g>\n    </g>\n    <g id=\"xtick_2\">\n     <g id=\"line2d_2\">\n      <g>\n       <use style=\"stroke:#000000;stroke-width:0.8;\" x=\"125.801299\" xlink:href=\"#m24cdfec305\" y=\"239.758125\"/>\n      </g>\n     </g>\n     <g id=\"text_2\">\n      <!-- 5.0 -->\n      <g transform=\"translate(117.849737 254.356563)scale(0.1 -0.1)\">\n       <defs>\n        <path d=\"M 31.78125 66.40625 \nQ 24.171875 66.40625 20.328125 58.90625 \nQ 16.5 51.421875 16.5 36.375 \nQ 16.5 21.390625 20.328125 13.890625 \nQ 24.171875 6.390625 31.78125 6.390625 \nQ 39.453125 6.390625 43.28125 13.890625 \nQ 47.125 21.390625 47.125 36.375 \nQ 47.125 51.421875 43.28125 58.90625 \nQ 39.453125 66.40625 31.78125 66.40625 \nz\nM 31.78125 74.21875 \nQ 44.046875 74.21875 50.515625 64.515625 \nQ 56.984375 54.828125 56.984375 36.375 \nQ 56.984375 17.96875 50.515625 8.265625 \nQ 44.046875 -1.421875 31.78125 -1.421875 \nQ 19.53125 -1.421875 13.0625 8.265625 \nQ 6.59375 17.96875 6.59375 36.375 \nQ 6.59375 54.828125 13.0625 64.515625 \nQ 19.53125 74.21875 31.78125 74.21875 \nz\n\" id=\"DejaVuSans-48\"/>\n       </defs>\n       <use xlink:href=\"#DejaVuSans-53\"/>\n       <use x=\"63.623047\" xlink:href=\"#DejaVuSans-46\"/>\n       <use x=\"95.410156\" xlink:href=\"#DejaVuSans-48\"/>\n      </g>\n     </g>\n    </g>\n    <g id=\"xtick_3\">\n     <g id=\"line2d_3\">\n      <g>\n       <use style=\"stroke:#000000;stroke-width:0.8;\" x=\"165.849146\" xlink:href=\"#m24cdfec305\" y=\"239.758125\"/>\n      </g>\n     </g>\n     <g id=\"text_3\">\n      <!-- 7.5 -->\n      <g transform=\"translate(157.897584 254.356563)scale(0.1 -0.1)\">\n       <defs>\n        <path d=\"M 8.203125 72.90625 \nL 55.078125 72.90625 \nL 55.078125 68.703125 \nL 28.609375 0 \nL 18.3125 0 \nL 43.21875 64.59375 \nL 8.203125 64.59375 \nz\n\" id=\"DejaVuSans-55\"/>\n       </defs>\n       <use xlink:href=\"#DejaVuSans-55\"/>\n       <use x=\"63.623047\" xlink:href=\"#DejaVuSans-46\"/>\n       <use x=\"95.410156\" xlink:href=\"#DejaVuSans-53\"/>\n      </g>\n     </g>\n    </g>\n    <g id=\"xtick_4\">\n     <g id=\"line2d_4\">\n      <g>\n       <use style=\"stroke:#000000;stroke-width:0.8;\" x=\"205.896993\" xlink:href=\"#m24cdfec305\" y=\"239.758125\"/>\n      </g>\n     </g>\n     <g id=\"text_4\">\n      <!-- 10.0 -->\n      <g transform=\"translate(194.764181 254.356563)scale(0.1 -0.1)\">\n       <defs>\n        <path d=\"M 12.40625 8.296875 \nL 28.515625 8.296875 \nL 28.515625 63.921875 \nL 10.984375 60.40625 \nL 10.984375 69.390625 \nL 28.421875 72.90625 \nL 38.28125 72.90625 \nL 38.28125 8.296875 \nL 54.390625 8.296875 \nL 54.390625 0 \nL 12.40625 0 \nz\n\" id=\"DejaVuSans-49\"/>\n       </defs>\n       <use xlink:href=\"#DejaVuSans-49\"/>\n       <use x=\"63.623047\" xlink:href=\"#DejaVuSans-48\"/>\n       <use x=\"127.246094\" xlink:href=\"#DejaVuSans-46\"/>\n       <use x=\"159.033203\" xlink:href=\"#DejaVuSans-48\"/>\n      </g>\n     </g>\n    </g>\n    <g id=\"xtick_5\">\n     <g id=\"line2d_5\">\n      <g>\n       <use style=\"stroke:#000000;stroke-width:0.8;\" x=\"245.94484\" xlink:href=\"#m24cdfec305\" y=\"239.758125\"/>\n      </g>\n     </g>\n     <g id=\"text_5\">\n      <!-- 12.5 -->\n      <g transform=\"translate(234.812028 254.356563)scale(0.1 -0.1)\">\n       <use xlink:href=\"#DejaVuSans-49\"/>\n       <use x=\"63.623047\" xlink:href=\"#DejaVuSans-50\"/>\n       <use x=\"127.246094\" xlink:href=\"#DejaVuSans-46\"/>\n       <use x=\"159.033203\" xlink:href=\"#DejaVuSans-53\"/>\n      </g>\n     </g>\n    </g>\n    <g id=\"xtick_6\">\n     <g id=\"line2d_6\">\n      <g>\n       <use style=\"stroke:#000000;stroke-width:0.8;\" x=\"285.992687\" xlink:href=\"#m24cdfec305\" y=\"239.758125\"/>\n      </g>\n     </g>\n     <g id=\"text_6\">\n      <!-- 15.0 -->\n      <g transform=\"translate(274.859874 254.356563)scale(0.1 -0.1)\">\n       <use xlink:href=\"#DejaVuSans-49\"/>\n       <use x=\"63.623047\" xlink:href=\"#DejaVuSans-53\"/>\n       <use x=\"127.246094\" xlink:href=\"#DejaVuSans-46\"/>\n       <use x=\"159.033203\" xlink:href=\"#DejaVuSans-48\"/>\n      </g>\n     </g>\n    </g>\n    <g id=\"xtick_7\">\n     <g id=\"line2d_7\">\n      <g>\n       <use style=\"stroke:#000000;stroke-width:0.8;\" x=\"326.040534\" xlink:href=\"#m24cdfec305\" y=\"239.758125\"/>\n      </g>\n     </g>\n     <g id=\"text_7\">\n      <!-- 17.5 -->\n      <g transform=\"translate(314.907721 254.356563)scale(0.1 -0.1)\">\n       <use xlink:href=\"#DejaVuSans-49\"/>\n       <use x=\"63.623047\" xlink:href=\"#DejaVuSans-55\"/>\n       <use x=\"127.246094\" xlink:href=\"#DejaVuSans-46\"/>\n       <use x=\"159.033203\" xlink:href=\"#DejaVuSans-53\"/>\n      </g>\n     </g>\n    </g>\n    <g id=\"xtick_8\">\n     <g id=\"line2d_8\">\n      <g>\n       <use style=\"stroke:#000000;stroke-width:0.8;\" x=\"366.088381\" xlink:href=\"#m24cdfec305\" y=\"239.758125\"/>\n      </g>\n     </g>\n     <g id=\"text_8\">\n      <!-- 20.0 -->\n      <g transform=\"translate(354.955568 254.356563)scale(0.1 -0.1)\">\n       <use xlink:href=\"#DejaVuSans-50\"/>\n       <use x=\"63.623047\" xlink:href=\"#DejaVuSans-48\"/>\n       <use x=\"127.246094\" xlink:href=\"#DejaVuSans-46\"/>\n       <use x=\"159.033203\" xlink:href=\"#DejaVuSans-48\"/>\n      </g>\n     </g>\n    </g>\n   </g>\n   <g id=\"matplotlib.axis_2\">\n    <g id=\"ytick_1\">\n     <g id=\"line2d_9\">\n      <defs>\n       <path d=\"M 0 0 \nL -3.5 0 \n\" id=\"m0e38485177\" style=\"stroke:#000000;stroke-width:0.8;\"/>\n      </defs>\n      <g>\n       <use style=\"stroke:#000000;stroke-width:0.8;\" x=\"46.506562\" xlink:href=\"#m0e38485177\" y=\"205.942629\"/>\n      </g>\n     </g>\n     <g id=\"text_9\">\n      <!-- 2.0 -->\n      <g transform=\"translate(23.603437 209.741848)scale(0.1 -0.1)\">\n       <use xlink:href=\"#DejaVuSans-50\"/>\n       <use x=\"63.623047\" xlink:href=\"#DejaVuSans-46\"/>\n       <use x=\"95.410156\" xlink:href=\"#DejaVuSans-48\"/>\n      </g>\n     </g>\n    </g>\n    <g id=\"ytick_2\">\n     <g id=\"line2d_10\">\n      <g>\n       <use style=\"stroke:#000000;stroke-width:0.8;\" x=\"46.506562\" xlink:href=\"#m0e38485177\" y=\"159.891282\"/>\n      </g>\n     </g>\n     <g id=\"text_10\">\n      <!-- 2.5 -->\n      <g transform=\"translate(23.603437 163.690501)scale(0.1 -0.1)\">\n       <use xlink:href=\"#DejaVuSans-50\"/>\n       <use x=\"63.623047\" xlink:href=\"#DejaVuSans-46\"/>\n       <use x=\"95.410156\" xlink:href=\"#DejaVuSans-53\"/>\n      </g>\n     </g>\n    </g>\n    <g id=\"ytick_3\">\n     <g id=\"line2d_11\">\n      <g>\n       <use style=\"stroke:#000000;stroke-width:0.8;\" x=\"46.506562\" xlink:href=\"#m0e38485177\" y=\"113.839935\"/>\n      </g>\n     </g>\n     <g id=\"text_11\">\n      <!-- 3.0 -->\n      <g transform=\"translate(23.603437 117.639154)scale(0.1 -0.1)\">\n       <defs>\n        <path d=\"M 40.578125 39.3125 \nQ 47.65625 37.796875 51.625 33 \nQ 55.609375 28.21875 55.609375 21.1875 \nQ 55.609375 10.40625 48.1875 4.484375 \nQ 40.765625 -1.421875 27.09375 -1.421875 \nQ 22.515625 -1.421875 17.65625 -0.515625 \nQ 12.796875 0.390625 7.625 2.203125 \nL 7.625 11.71875 \nQ 11.71875 9.328125 16.59375 8.109375 \nQ 21.484375 6.890625 26.8125 6.890625 \nQ 36.078125 6.890625 40.9375 10.546875 \nQ 45.796875 14.203125 45.796875 21.1875 \nQ 45.796875 27.640625 41.28125 31.265625 \nQ 36.765625 34.90625 28.71875 34.90625 \nL 20.21875 34.90625 \nL 20.21875 43.015625 \nL 29.109375 43.015625 \nQ 36.375 43.015625 40.234375 45.921875 \nQ 44.09375 48.828125 44.09375 54.296875 \nQ 44.09375 59.90625 40.109375 62.90625 \nQ 36.140625 65.921875 28.71875 65.921875 \nQ 24.65625 65.921875 20.015625 65.03125 \nQ 15.375 64.15625 9.8125 62.3125 \nL 9.8125 71.09375 \nQ 15.4375 72.65625 20.34375 73.4375 \nQ 25.25 74.21875 29.59375 74.21875 \nQ 40.828125 74.21875 47.359375 69.109375 \nQ 53.90625 64.015625 53.90625 55.328125 \nQ 53.90625 49.265625 50.4375 45.09375 \nQ 46.96875 40.921875 40.578125 39.3125 \nz\n\" id=\"DejaVuSans-51\"/>\n       </defs>\n       <use xlink:href=\"#DejaVuSans-51\"/>\n       <use x=\"63.623047\" xlink:href=\"#DejaVuSans-46\"/>\n       <use x=\"95.410156\" xlink:href=\"#DejaVuSans-48\"/>\n      </g>\n     </g>\n    </g>\n    <g id=\"ytick_4\">\n     <g id=\"line2d_12\">\n      <g>\n       <use style=\"stroke:#000000;stroke-width:0.8;\" x=\"46.506562\" xlink:href=\"#m0e38485177\" y=\"67.788588\"/>\n      </g>\n     </g>\n     <g id=\"text_12\">\n      <!-- 3.5 -->\n      <g transform=\"translate(23.603437 71.587807)scale(0.1 -0.1)\">\n       <use xlink:href=\"#DejaVuSans-51\"/>\n       <use x=\"63.623047\" xlink:href=\"#DejaVuSans-46\"/>\n       <use x=\"95.410156\" xlink:href=\"#DejaVuSans-53\"/>\n      </g>\n     </g>\n    </g>\n   </g>\n   <g id=\"LineCollection_1\">\n    <path clip-path=\"url(#p8439bd93f1)\" d=\"M 61.724744 53.479988 \nL 61.724744 32.201761 \n\" style=\"fill:none;stroke:#1f77b4;stroke-width:1.5;\"/>\n    <path clip-path=\"url(#p8439bd93f1)\" d=\"M 125.801299 221.283846 \nL 125.801299 211.983475 \n\" style=\"fill:none;stroke:#1f77b4;stroke-width:1.5;\"/>\n    <path clip-path=\"url(#p8439bd93f1)\" d=\"M 205.896993 220.612929 \nL 205.896993 213.749723 \n\" style=\"fill:none;stroke:#1f77b4;stroke-width:1.5;\"/>\n    <path clip-path=\"url(#p8439bd93f1)\" d=\"M 366.088381 211.155434 \nL 366.088381 204.075858 \n\" style=\"fill:none;stroke:#1f77b4;stroke-width:1.5;\"/>\n   </g>\n   <g id=\"LineCollection_2\">\n    <path clip-path=\"url(#p8439bd93f1)\" d=\"M 61.724744 85.806754 \nL 61.724744 61.614009 \n\" style=\"fill:none;stroke:#ff7f0e;stroke-width:1.5;\"/>\n    <path clip-path=\"url(#p8439bd93f1)\" d=\"M 125.801299 229.874489 \nL 125.801299 226.251756 \n\" style=\"fill:none;stroke:#ff7f0e;stroke-width:1.5;\"/>\n    <path clip-path=\"url(#p8439bd93f1)\" d=\"M 205.896993 224.008993 \nL 205.896993 221.993553 \n\" style=\"fill:none;stroke:#ff7f0e;stroke-width:1.5;\"/>\n    <path clip-path=\"url(#p8439bd93f1)\" d=\"M 366.088381 223.495031 \nL 366.088381 206.581613 \n\" style=\"fill:none;stroke:#ff7f0e;stroke-width:1.5;\"/>\n   </g>\n   <g id=\"line2d_13\">\n    <path clip-path=\"url(#p8439bd93f1)\" d=\"M 61.724744 42.840875 \nL 125.801299 216.63366 \nL 205.896993 217.181326 \nL 366.088381 207.615646 \n\" style=\"fill:none;stroke:#1f77b4;stroke-linecap:square;stroke-width:1.5;\"/>\n   </g>\n   <g id=\"line2d_14\">\n    <path clip-path=\"url(#p8439bd93f1)\" d=\"M 61.724744 73.710381 \nL 125.801299 228.063122 \nL 205.896993 223.001273 \nL 366.088381 215.038322 \n\" style=\"fill:none;stroke:#ff7f0e;stroke-linecap:square;stroke-width:1.5;\"/>\n   </g>\n   <g id=\"patch_3\">\n    <path d=\"M 46.506562 239.758125 \nL 46.506562 22.318125 \n\" style=\"fill:none;stroke:#000000;stroke-linecap:square;stroke-linejoin:miter;stroke-width:0.8;\"/>\n   </g>\n   <g id=\"patch_4\">\n    <path d=\"M 381.306562 239.758125 \nL 381.306562 22.318125 \n\" style=\"fill:none;stroke:#000000;stroke-linecap:square;stroke-linejoin:miter;stroke-width:0.8;\"/>\n   </g>\n   <g id=\"patch_5\">\n    <path d=\"M 46.506562 239.758125 \nL 381.306562 239.758125 \n\" style=\"fill:none;stroke:#000000;stroke-linecap:square;stroke-linejoin:miter;stroke-width:0.8;\"/>\n   </g>\n   <g id=\"patch_6\">\n    <path d=\"M 46.506562 22.318125 \nL 381.306562 22.318125 \n\" style=\"fill:none;stroke:#000000;stroke-linecap:square;stroke-linejoin:miter;stroke-width:0.8;\"/>\n   </g>\n   <g id=\"text_13\">\n    <!-- Np vs Bh against different cores 1D binning of dldTime with 234 bins -->\n    <g transform=\"translate(7.2 16.318125)scale(0.12 -0.12)\">\n     <defs>\n      <path d=\"M 9.8125 72.90625 \nL 23.09375 72.90625 \nL 55.421875 11.921875 \nL 55.421875 72.90625 \nL 64.984375 72.90625 \nL 64.984375 0 \nL 51.703125 0 \nL 19.390625 60.984375 \nL 19.390625 0 \nL 9.8125 0 \nz\n\" id=\"DejaVuSans-78\"/>\n      <path d=\"M 18.109375 8.203125 \nL 18.109375 -20.796875 \nL 9.078125 -20.796875 \nL 9.078125 54.6875 \nL 18.109375 54.6875 \nL 18.109375 46.390625 \nQ 20.953125 51.265625 25.265625 53.625 \nQ 29.59375 56 35.59375 56 \nQ 45.5625 56 51.78125 48.09375 \nQ 58.015625 40.1875 58.015625 27.296875 \nQ 58.015625 14.40625 51.78125 6.484375 \nQ 45.5625 -1.421875 35.59375 -1.421875 \nQ 29.59375 -1.421875 25.265625 0.953125 \nQ 20.953125 3.328125 18.109375 8.203125 \nz\nM 48.6875 27.296875 \nQ 48.6875 37.203125 44.609375 42.84375 \nQ 40.53125 48.484375 33.40625 48.484375 \nQ 26.265625 48.484375 22.1875 42.84375 \nQ 18.109375 37.203125 18.109375 27.296875 \nQ 18.109375 17.390625 22.1875 11.75 \nQ 26.265625 6.109375 33.40625 6.109375 \nQ 40.53125 6.109375 44.609375 11.75 \nQ 48.6875 17.390625 48.6875 27.296875 \nz\n\" id=\"DejaVuSans-112\"/>\n      <path id=\"DejaVuSans-32\"/>\n      <path d=\"M 2.984375 54.6875 \nL 12.5 54.6875 \nL 29.59375 8.796875 \nL 46.6875 54.6875 \nL 56.203125 54.6875 \nL 35.6875 0 \nL 23.484375 0 \nz\n\" id=\"DejaVuSans-118\"/>\n      <path d=\"M 44.28125 53.078125 \nL 44.28125 44.578125 \nQ 40.484375 46.53125 36.375 47.5 \nQ 32.28125 48.484375 27.875 48.484375 \nQ 21.1875 48.484375 17.84375 46.4375 \nQ 14.5 44.390625 14.5 40.28125 \nQ 14.5 37.15625 16.890625 35.375 \nQ 19.28125 33.59375 26.515625 31.984375 \nL 29.59375 31.296875 \nQ 39.15625 29.25 43.1875 25.515625 \nQ 47.21875 21.78125 47.21875 15.09375 \nQ 47.21875 7.46875 41.1875 3.015625 \nQ 35.15625 -1.421875 24.609375 -1.421875 \nQ 20.21875 -1.421875 15.453125 -0.5625 \nQ 10.6875 0.296875 5.421875 2 \nL 5.421875 11.28125 \nQ 10.40625 8.6875 15.234375 7.390625 \nQ 20.0625 6.109375 24.8125 6.109375 \nQ 31.15625 6.109375 34.5625 8.28125 \nQ 37.984375 10.453125 37.984375 14.40625 \nQ 37.984375 18.0625 35.515625 20.015625 \nQ 33.0625 21.96875 24.703125 23.78125 \nL 21.578125 24.515625 \nQ 13.234375 26.265625 9.515625 29.90625 \nQ 5.8125 33.546875 5.8125 39.890625 \nQ 5.8125 47.609375 11.28125 51.796875 \nQ 16.75 56 26.8125 56 \nQ 31.78125 56 36.171875 55.265625 \nQ 40.578125 54.546875 44.28125 53.078125 \nz\n\" id=\"DejaVuSans-115\"/>\n      <path d=\"M 19.671875 34.8125 \nL 19.671875 8.109375 \nL 35.5 8.109375 \nQ 43.453125 8.109375 47.28125 11.40625 \nQ 51.125 14.703125 51.125 21.484375 \nQ 51.125 28.328125 47.28125 31.5625 \nQ 43.453125 34.8125 35.5 34.8125 \nz\nM 19.671875 64.796875 \nL 19.671875 42.828125 \nL 34.28125 42.828125 \nQ 41.5 42.828125 45.03125 45.53125 \nQ 48.578125 48.25 48.578125 53.8125 \nQ 48.578125 59.328125 45.03125 62.0625 \nQ 41.5 64.796875 34.28125 64.796875 \nz\nM 9.8125 72.90625 \nL 35.015625 72.90625 \nQ 46.296875 72.90625 52.390625 68.21875 \nQ 58.5 63.53125 58.5 54.890625 \nQ 58.5 48.1875 55.375 44.234375 \nQ 52.25 40.28125 46.1875 39.3125 \nQ 53.46875 37.75 57.5 32.78125 \nQ 61.53125 27.828125 61.53125 20.40625 \nQ 61.53125 10.640625 54.890625 5.3125 \nQ 48.25 0 35.984375 0 \nL 9.8125 0 \nz\n\" id=\"DejaVuSans-66\"/>\n      <path d=\"M 54.890625 33.015625 \nL 54.890625 0 \nL 45.90625 0 \nL 45.90625 32.71875 \nQ 45.90625 40.484375 42.875 44.328125 \nQ 39.84375 48.1875 33.796875 48.1875 \nQ 26.515625 48.1875 22.3125 43.546875 \nQ 18.109375 38.921875 18.109375 30.90625 \nL 18.109375 0 \nL 9.078125 0 \nL 9.078125 75.984375 \nL 18.109375 75.984375 \nL 18.109375 46.1875 \nQ 21.34375 51.125 25.703125 53.5625 \nQ 30.078125 56 35.796875 56 \nQ 45.21875 56 50.046875 50.171875 \nQ 54.890625 44.34375 54.890625 33.015625 \nz\n\" id=\"DejaVuSans-104\"/>\n      <path d=\"M 34.28125 27.484375 \nQ 23.390625 27.484375 19.1875 25 \nQ 14.984375 22.515625 14.984375 16.5 \nQ 14.984375 11.71875 18.140625 8.90625 \nQ 21.296875 6.109375 26.703125 6.109375 \nQ 34.1875 6.109375 38.703125 11.40625 \nQ 43.21875 16.703125 43.21875 25.484375 \nL 43.21875 27.484375 \nz\nM 52.203125 31.203125 \nL 52.203125 0 \nL 43.21875 0 \nL 43.21875 8.296875 \nQ 40.140625 3.328125 35.546875 0.953125 \nQ 30.953125 -1.421875 24.3125 -1.421875 \nQ 15.921875 -1.421875 10.953125 3.296875 \nQ 6 8.015625 6 15.921875 \nQ 6 25.140625 12.171875 29.828125 \nQ 18.359375 34.515625 30.609375 34.515625 \nL 43.21875 34.515625 \nL 43.21875 35.40625 \nQ 43.21875 41.609375 39.140625 45 \nQ 35.0625 48.390625 27.6875 48.390625 \nQ 23 48.390625 18.546875 47.265625 \nQ 14.109375 46.140625 10.015625 43.890625 \nL 10.015625 52.203125 \nQ 14.9375 54.109375 19.578125 55.046875 \nQ 24.21875 56 28.609375 56 \nQ 40.484375 56 46.34375 49.84375 \nQ 52.203125 43.703125 52.203125 31.203125 \nz\n\" id=\"DejaVuSans-97\"/>\n      <path d=\"M 45.40625 27.984375 \nQ 45.40625 37.75 41.375 43.109375 \nQ 37.359375 48.484375 30.078125 48.484375 \nQ 22.859375 48.484375 18.828125 43.109375 \nQ 14.796875 37.75 14.796875 27.984375 \nQ 14.796875 18.265625 18.828125 12.890625 \nQ 22.859375 7.515625 30.078125 7.515625 \nQ 37.359375 7.515625 41.375 12.890625 \nQ 45.40625 18.265625 45.40625 27.984375 \nz\nM 54.390625 6.78125 \nQ 54.390625 -7.171875 48.1875 -13.984375 \nQ 42 -20.796875 29.203125 -20.796875 \nQ 24.46875 -20.796875 20.265625 -20.09375 \nQ 16.0625 -19.390625 12.109375 -17.921875 \nL 12.109375 -9.1875 \nQ 16.0625 -11.328125 19.921875 -12.34375 \nQ 23.78125 -13.375 27.78125 -13.375 \nQ 36.625 -13.375 41.015625 -8.765625 \nQ 45.40625 -4.15625 45.40625 5.171875 \nL 45.40625 9.625 \nQ 42.625 4.78125 38.28125 2.390625 \nQ 33.9375 0 27.875 0 \nQ 17.828125 0 11.671875 7.65625 \nQ 5.515625 15.328125 5.515625 27.984375 \nQ 5.515625 40.671875 11.671875 48.328125 \nQ 17.828125 56 27.875 56 \nQ 33.9375 56 38.28125 53.609375 \nQ 42.625 51.21875 45.40625 46.390625 \nL 45.40625 54.6875 \nL 54.390625 54.6875 \nz\n\" id=\"DejaVuSans-103\"/>\n      <path d=\"M 9.421875 54.6875 \nL 18.40625 54.6875 \nL 18.40625 0 \nL 9.421875 0 \nz\nM 9.421875 75.984375 \nL 18.40625 75.984375 \nL 18.40625 64.59375 \nL 9.421875 64.59375 \nz\n\" id=\"DejaVuSans-105\"/>\n      <path d=\"M 54.890625 33.015625 \nL 54.890625 0 \nL 45.90625 0 \nL 45.90625 32.71875 \nQ 45.90625 40.484375 42.875 44.328125 \nQ 39.84375 48.1875 33.796875 48.1875 \nQ 26.515625 48.1875 22.3125 43.546875 \nQ 18.109375 38.921875 18.109375 30.90625 \nL 18.109375 0 \nL 9.078125 0 \nL 9.078125 54.6875 \nL 18.109375 54.6875 \nL 18.109375 46.1875 \nQ 21.34375 51.125 25.703125 53.5625 \nQ 30.078125 56 35.796875 56 \nQ 45.21875 56 50.046875 50.171875 \nQ 54.890625 44.34375 54.890625 33.015625 \nz\n\" id=\"DejaVuSans-110\"/>\n      <path d=\"M 18.3125 70.21875 \nL 18.3125 54.6875 \nL 36.8125 54.6875 \nL 36.8125 47.703125 \nL 18.3125 47.703125 \nL 18.3125 18.015625 \nQ 18.3125 11.328125 20.140625 9.421875 \nQ 21.96875 7.515625 27.59375 7.515625 \nL 36.8125 7.515625 \nL 36.8125 0 \nL 27.59375 0 \nQ 17.1875 0 13.234375 3.875 \nQ 9.28125 7.765625 9.28125 18.015625 \nL 9.28125 47.703125 \nL 2.6875 47.703125 \nL 2.6875 54.6875 \nL 9.28125 54.6875 \nL 9.28125 70.21875 \nz\n\" id=\"DejaVuSans-116\"/>\n      <path d=\"M 45.40625 46.390625 \nL 45.40625 75.984375 \nL 54.390625 75.984375 \nL 54.390625 0 \nL 45.40625 0 \nL 45.40625 8.203125 \nQ 42.578125 3.328125 38.25 0.953125 \nQ 33.9375 -1.421875 27.875 -1.421875 \nQ 17.96875 -1.421875 11.734375 6.484375 \nQ 5.515625 14.40625 5.515625 27.296875 \nQ 5.515625 40.1875 11.734375 48.09375 \nQ 17.96875 56 27.875 56 \nQ 33.9375 56 38.25 53.625 \nQ 42.578125 51.265625 45.40625 46.390625 \nz\nM 14.796875 27.296875 \nQ 14.796875 17.390625 18.875 11.75 \nQ 22.953125 6.109375 30.078125 6.109375 \nQ 37.203125 6.109375 41.296875 11.75 \nQ 45.40625 17.390625 45.40625 27.296875 \nQ 45.40625 37.203125 41.296875 42.84375 \nQ 37.203125 48.484375 30.078125 48.484375 \nQ 22.953125 48.484375 18.875 42.84375 \nQ 14.796875 37.203125 14.796875 27.296875 \nz\n\" id=\"DejaVuSans-100\"/>\n      <path d=\"M 37.109375 75.984375 \nL 37.109375 68.5 \nL 28.515625 68.5 \nQ 23.6875 68.5 21.796875 66.546875 \nQ 19.921875 64.59375 19.921875 59.515625 \nL 19.921875 54.6875 \nL 34.71875 54.6875 \nL 34.71875 47.703125 \nL 19.921875 47.703125 \nL 19.921875 0 \nL 10.890625 0 \nL 10.890625 47.703125 \nL 2.296875 47.703125 \nL 2.296875 54.6875 \nL 10.890625 54.6875 \nL 10.890625 58.5 \nQ 10.890625 67.625 15.140625 71.796875 \nQ 19.390625 75.984375 28.609375 75.984375 \nz\n\" id=\"DejaVuSans-102\"/>\n      <path d=\"M 56.203125 29.59375 \nL 56.203125 25.203125 \nL 14.890625 25.203125 \nQ 15.484375 15.921875 20.484375 11.0625 \nQ 25.484375 6.203125 34.421875 6.203125 \nQ 39.59375 6.203125 44.453125 7.46875 \nQ 49.3125 8.734375 54.109375 11.28125 \nL 54.109375 2.78125 \nQ 49.265625 0.734375 44.1875 -0.34375 \nQ 39.109375 -1.421875 33.890625 -1.421875 \nQ 20.796875 -1.421875 13.15625 6.1875 \nQ 5.515625 13.8125 5.515625 26.8125 \nQ 5.515625 40.234375 12.765625 48.109375 \nQ 20.015625 56 32.328125 56 \nQ 43.359375 56 49.78125 48.890625 \nQ 56.203125 41.796875 56.203125 29.59375 \nz\nM 47.21875 32.234375 \nQ 47.125 39.59375 43.09375 43.984375 \nQ 39.0625 48.390625 32.421875 48.390625 \nQ 24.90625 48.390625 20.390625 44.140625 \nQ 15.875 39.890625 15.1875 32.171875 \nz\n\" id=\"DejaVuSans-101\"/>\n      <path d=\"M 41.109375 46.296875 \nQ 39.59375 47.171875 37.8125 47.578125 \nQ 36.03125 48 33.890625 48 \nQ 26.265625 48 22.1875 43.046875 \nQ 18.109375 38.09375 18.109375 28.8125 \nL 18.109375 0 \nL 9.078125 0 \nL 9.078125 54.6875 \nL 18.109375 54.6875 \nL 18.109375 46.1875 \nQ 20.953125 51.171875 25.484375 53.578125 \nQ 30.03125 56 36.53125 56 \nQ 37.453125 56 38.578125 55.875 \nQ 39.703125 55.765625 41.0625 55.515625 \nz\n\" id=\"DejaVuSans-114\"/>\n      <path d=\"M 48.78125 52.59375 \nL 48.78125 44.1875 \nQ 44.96875 46.296875 41.140625 47.34375 \nQ 37.3125 48.390625 33.40625 48.390625 \nQ 24.65625 48.390625 19.8125 42.84375 \nQ 14.984375 37.3125 14.984375 27.296875 \nQ 14.984375 17.28125 19.8125 11.734375 \nQ 24.65625 6.203125 33.40625 6.203125 \nQ 37.3125 6.203125 41.140625 7.25 \nQ 44.96875 8.296875 48.78125 10.40625 \nL 48.78125 2.09375 \nQ 45.015625 0.34375 40.984375 -0.53125 \nQ 36.96875 -1.421875 32.421875 -1.421875 \nQ 20.0625 -1.421875 12.78125 6.34375 \nQ 5.515625 14.109375 5.515625 27.296875 \nQ 5.515625 40.671875 12.859375 48.328125 \nQ 20.21875 56 33.015625 56 \nQ 37.15625 56 41.109375 55.140625 \nQ 45.0625 54.296875 48.78125 52.59375 \nz\n\" id=\"DejaVuSans-99\"/>\n      <path d=\"M 30.609375 48.390625 \nQ 23.390625 48.390625 19.1875 42.75 \nQ 14.984375 37.109375 14.984375 27.296875 \nQ 14.984375 17.484375 19.15625 11.84375 \nQ 23.34375 6.203125 30.609375 6.203125 \nQ 37.796875 6.203125 41.984375 11.859375 \nQ 46.1875 17.53125 46.1875 27.296875 \nQ 46.1875 37.015625 41.984375 42.703125 \nQ 37.796875 48.390625 30.609375 48.390625 \nz\nM 30.609375 56 \nQ 42.328125 56 49.015625 48.375 \nQ 55.71875 40.765625 55.71875 27.296875 \nQ 55.71875 13.875 49.015625 6.21875 \nQ 42.328125 -1.421875 30.609375 -1.421875 \nQ 18.84375 -1.421875 12.171875 6.21875 \nQ 5.515625 13.875 5.515625 27.296875 \nQ 5.515625 40.765625 12.171875 48.375 \nQ 18.84375 56 30.609375 56 \nz\n\" id=\"DejaVuSans-111\"/>\n      <path d=\"M 19.671875 64.796875 \nL 19.671875 8.109375 \nL 31.59375 8.109375 \nQ 46.6875 8.109375 53.6875 14.9375 \nQ 60.6875 21.78125 60.6875 36.53125 \nQ 60.6875 51.171875 53.6875 57.984375 \nQ 46.6875 64.796875 31.59375 64.796875 \nz\nM 9.8125 72.90625 \nL 30.078125 72.90625 \nQ 51.265625 72.90625 61.171875 64.09375 \nQ 71.09375 55.28125 71.09375 36.53125 \nQ 71.09375 17.671875 61.125 8.828125 \nQ 51.171875 0 30.078125 0 \nL 9.8125 0 \nz\n\" id=\"DejaVuSans-68\"/>\n      <path d=\"M 48.6875 27.296875 \nQ 48.6875 37.203125 44.609375 42.84375 \nQ 40.53125 48.484375 33.40625 48.484375 \nQ 26.265625 48.484375 22.1875 42.84375 \nQ 18.109375 37.203125 18.109375 27.296875 \nQ 18.109375 17.390625 22.1875 11.75 \nQ 26.265625 6.109375 33.40625 6.109375 \nQ 40.53125 6.109375 44.609375 11.75 \nQ 48.6875 17.390625 48.6875 27.296875 \nz\nM 18.109375 46.390625 \nQ 20.953125 51.265625 25.265625 53.625 \nQ 29.59375 56 35.59375 56 \nQ 45.5625 56 51.78125 48.09375 \nQ 58.015625 40.1875 58.015625 27.296875 \nQ 58.015625 14.40625 51.78125 6.484375 \nQ 45.5625 -1.421875 35.59375 -1.421875 \nQ 29.59375 -1.421875 25.265625 0.953125 \nQ 20.953125 3.328125 18.109375 8.203125 \nL 18.109375 0 \nL 9.078125 0 \nL 9.078125 75.984375 \nL 18.109375 75.984375 \nz\n\" id=\"DejaVuSans-98\"/>\n      <path d=\"M 9.421875 75.984375 \nL 18.40625 75.984375 \nL 18.40625 0 \nL 9.421875 0 \nz\n\" id=\"DejaVuSans-108\"/>\n      <path d=\"M -0.296875 72.90625 \nL 61.375 72.90625 \nL 61.375 64.59375 \nL 35.5 64.59375 \nL 35.5 0 \nL 25.59375 0 \nL 25.59375 64.59375 \nL -0.296875 64.59375 \nz\n\" id=\"DejaVuSans-84\"/>\n      <path d=\"M 52 44.1875 \nQ 55.375 50.25 60.0625 53.125 \nQ 64.75 56 71.09375 56 \nQ 79.640625 56 84.28125 50.015625 \nQ 88.921875 44.046875 88.921875 33.015625 \nL 88.921875 0 \nL 79.890625 0 \nL 79.890625 32.71875 \nQ 79.890625 40.578125 77.09375 44.375 \nQ 74.3125 48.1875 68.609375 48.1875 \nQ 61.625 48.1875 57.5625 43.546875 \nQ 53.515625 38.921875 53.515625 30.90625 \nL 53.515625 0 \nL 44.484375 0 \nL 44.484375 32.71875 \nQ 44.484375 40.625 41.703125 44.40625 \nQ 38.921875 48.1875 33.109375 48.1875 \nQ 26.21875 48.1875 22.15625 43.53125 \nQ 18.109375 38.875 18.109375 30.90625 \nL 18.109375 0 \nL 9.078125 0 \nL 9.078125 54.6875 \nL 18.109375 54.6875 \nL 18.109375 46.1875 \nQ 21.1875 51.21875 25.484375 53.609375 \nQ 29.78125 56 35.6875 56 \nQ 41.65625 56 45.828125 52.96875 \nQ 50 49.953125 52 44.1875 \nz\n\" id=\"DejaVuSans-109\"/>\n      <path d=\"M 4.203125 54.6875 \nL 13.1875 54.6875 \nL 24.421875 12.015625 \nL 35.59375 54.6875 \nL 46.1875 54.6875 \nL 57.421875 12.015625 \nL 68.609375 54.6875 \nL 77.59375 54.6875 \nL 63.28125 0 \nL 52.6875 0 \nL 40.921875 44.828125 \nL 29.109375 0 \nL 18.5 0 \nz\n\" id=\"DejaVuSans-119\"/>\n      <path d=\"M 37.796875 64.3125 \nL 12.890625 25.390625 \nL 37.796875 25.390625 \nz\nM 35.203125 72.90625 \nL 47.609375 72.90625 \nL 47.609375 25.390625 \nL 58.015625 25.390625 \nL 58.015625 17.1875 \nL 47.609375 17.1875 \nL 47.609375 0 \nL 37.796875 0 \nL 37.796875 17.1875 \nL 4.890625 17.1875 \nL 4.890625 26.703125 \nz\n\" id=\"DejaVuSans-52\"/>\n     </defs>\n     <use xlink:href=\"#DejaVuSans-78\"/>\n     <use x=\"74.804688\" xlink:href=\"#DejaVuSans-112\"/>\n     <use x=\"138.28125\" xlink:href=\"#DejaVuSans-32\"/>\n     <use x=\"170.068359\" xlink:href=\"#DejaVuSans-118\"/>\n     <use x=\"229.248047\" xlink:href=\"#DejaVuSans-115\"/>\n     <use x=\"281.347656\" xlink:href=\"#DejaVuSans-32\"/>\n     <use x=\"313.134766\" xlink:href=\"#DejaVuSans-66\"/>\n     <use x=\"381.738281\" xlink:href=\"#DejaVuSans-104\"/>\n     <use x=\"445.117188\" xlink:href=\"#DejaVuSans-32\"/>\n     <use x=\"476.904297\" xlink:href=\"#DejaVuSans-97\"/>\n     <use x=\"538.183594\" xlink:href=\"#DejaVuSans-103\"/>\n     <use x=\"601.660156\" xlink:href=\"#DejaVuSans-97\"/>\n     <use x=\"662.939453\" xlink:href=\"#DejaVuSans-105\"/>\n     <use x=\"690.722656\" xlink:href=\"#DejaVuSans-110\"/>\n     <use x=\"754.101562\" xlink:href=\"#DejaVuSans-115\"/>\n     <use x=\"806.201172\" xlink:href=\"#DejaVuSans-116\"/>\n     <use x=\"845.410156\" xlink:href=\"#DejaVuSans-32\"/>\n     <use x=\"877.197266\" xlink:href=\"#DejaVuSans-100\"/>\n     <use x=\"940.673828\" xlink:href=\"#DejaVuSans-105\"/>\n     <use x=\"968.457031\" xlink:href=\"#DejaVuSans-102\"/>\n     <use x=\"1003.662109\" xlink:href=\"#DejaVuSans-102\"/>\n     <use x=\"1038.867188\" xlink:href=\"#DejaVuSans-101\"/>\n     <use x=\"1100.390625\" xlink:href=\"#DejaVuSans-114\"/>\n     <use x=\"1139.253906\" xlink:href=\"#DejaVuSans-101\"/>\n     <use x=\"1200.777344\" xlink:href=\"#DejaVuSans-110\"/>\n     <use x=\"1264.15625\" xlink:href=\"#DejaVuSans-116\"/>\n     <use x=\"1303.365234\" xlink:href=\"#DejaVuSans-32\"/>\n     <use x=\"1335.152344\" xlink:href=\"#DejaVuSans-99\"/>\n     <use x=\"1390.132812\" xlink:href=\"#DejaVuSans-111\"/>\n     <use x=\"1451.314453\" xlink:href=\"#DejaVuSans-114\"/>\n     <use x=\"1490.177734\" xlink:href=\"#DejaVuSans-101\"/>\n     <use x=\"1551.701172\" xlink:href=\"#DejaVuSans-115\"/>\n     <use x=\"1603.800781\" xlink:href=\"#DejaVuSans-32\"/>\n     <use x=\"1635.587891\" xlink:href=\"#DejaVuSans-49\"/>\n     <use x=\"1699.210938\" xlink:href=\"#DejaVuSans-68\"/>\n     <use x=\"1776.212891\" xlink:href=\"#DejaVuSans-32\"/>\n     <use x=\"1808\" xlink:href=\"#DejaVuSans-98\"/>\n     <use x=\"1871.476562\" xlink:href=\"#DejaVuSans-105\"/>\n     <use x=\"1899.259766\" xlink:href=\"#DejaVuSans-110\"/>\n     <use x=\"1962.638672\" xlink:href=\"#DejaVuSans-110\"/>\n     <use x=\"2026.017578\" xlink:href=\"#DejaVuSans-105\"/>\n     <use x=\"2053.800781\" xlink:href=\"#DejaVuSans-110\"/>\n     <use x=\"2117.179688\" xlink:href=\"#DejaVuSans-103\"/>\n     <use x=\"2180.65625\" xlink:href=\"#DejaVuSans-32\"/>\n     <use x=\"2212.443359\" xlink:href=\"#DejaVuSans-111\"/>\n     <use x=\"2273.625\" xlink:href=\"#DejaVuSans-102\"/>\n     <use x=\"2308.830078\" xlink:href=\"#DejaVuSans-32\"/>\n     <use x=\"2340.617188\" xlink:href=\"#DejaVuSans-100\"/>\n     <use x=\"2404.09375\" xlink:href=\"#DejaVuSans-108\"/>\n     <use x=\"2431.876953\" xlink:href=\"#DejaVuSans-100\"/>\n     <use x=\"2495.353516\" xlink:href=\"#DejaVuSans-84\"/>\n     <use x=\"2553.3125\" xlink:href=\"#DejaVuSans-105\"/>\n     <use x=\"2581.095703\" xlink:href=\"#DejaVuSans-109\"/>\n     <use x=\"2678.507812\" xlink:href=\"#DejaVuSans-101\"/>\n     <use x=\"2740.03125\" xlink:href=\"#DejaVuSans-32\"/>\n     <use x=\"2771.818359\" xlink:href=\"#DejaVuSans-119\"/>\n     <use x=\"2853.605469\" xlink:href=\"#DejaVuSans-105\"/>\n     <use x=\"2881.388672\" xlink:href=\"#DejaVuSans-116\"/>\n     <use x=\"2920.597656\" xlink:href=\"#DejaVuSans-104\"/>\n     <use x=\"2983.976562\" xlink:href=\"#DejaVuSans-32\"/>\n     <use x=\"3015.763672\" xlink:href=\"#DejaVuSans-50\"/>\n     <use x=\"3079.386719\" xlink:href=\"#DejaVuSans-51\"/>\n     <use x=\"3143.009766\" xlink:href=\"#DejaVuSans-52\"/>\n     <use x=\"3206.632812\" xlink:href=\"#DejaVuSans-32\"/>\n     <use x=\"3238.419922\" xlink:href=\"#DejaVuSans-98\"/>\n     <use x=\"3301.896484\" xlink:href=\"#DejaVuSans-105\"/>\n     <use x=\"3329.679688\" xlink:href=\"#DejaVuSans-110\"/>\n     <use x=\"3393.058594\" xlink:href=\"#DejaVuSans-115\"/>\n    </g>\n   </g>\n   <g id=\"legend_1\">\n    <g id=\"patch_7\">\n     <path d=\"M 306.48 59.674375 \nL 374.306563 59.674375 \nQ 376.306563 59.674375 376.306563 57.674375 \nL 376.306563 29.318125 \nQ 376.306563 27.318125 374.306563 27.318125 \nL 306.48 27.318125 \nQ 304.48 27.318125 304.48 29.318125 \nL 304.48 57.674375 \nQ 304.48 59.674375 306.48 59.674375 \nz\n\" style=\"fill:#ffffff;opacity:0.8;stroke:#cccccc;stroke-linejoin:miter;\"/>\n    </g>\n    <g id=\"LineCollection_3\">\n     <path d=\"M 318.48 40.416562 \nL 318.48 30.416562 \n\" style=\"fill:none;stroke:#1f77b4;stroke-width:1.5;\"/>\n    </g>\n    <g id=\"line2d_15\">\n     <path d=\"M 308.48 35.416562 \nL 328.48 35.416562 \n\" style=\"fill:none;stroke:#1f77b4;stroke-linecap:square;stroke-width:1.5;\"/>\n    </g>\n    <g id=\"line2d_16\"/>\n    <g id=\"text_14\">\n     <!-- Numpy -->\n     <g transform=\"translate(336.48 38.916562)scale(0.1 -0.1)\">\n      <defs>\n       <path d=\"M 8.5 21.578125 \nL 8.5 54.6875 \nL 17.484375 54.6875 \nL 17.484375 21.921875 \nQ 17.484375 14.15625 20.5 10.265625 \nQ 23.53125 6.390625 29.59375 6.390625 \nQ 36.859375 6.390625 41.078125 11.03125 \nQ 45.3125 15.671875 45.3125 23.6875 \nL 45.3125 54.6875 \nL 54.296875 54.6875 \nL 54.296875 0 \nL 45.3125 0 \nL 45.3125 8.40625 \nQ 42.046875 3.421875 37.71875 1 \nQ 33.40625 -1.421875 27.6875 -1.421875 \nQ 18.265625 -1.421875 13.375 4.4375 \nQ 8.5 10.296875 8.5 21.578125 \nz\nM 31.109375 56 \nz\n\" id=\"DejaVuSans-117\"/>\n       <path d=\"M 32.171875 -5.078125 \nQ 28.375 -14.84375 24.75 -17.8125 \nQ 21.140625 -20.796875 15.09375 -20.796875 \nL 7.90625 -20.796875 \nL 7.90625 -13.28125 \nL 13.1875 -13.28125 \nQ 16.890625 -13.28125 18.9375 -11.515625 \nQ 21 -9.765625 23.484375 -3.21875 \nL 25.09375 0.875 \nL 2.984375 54.6875 \nL 12.5 54.6875 \nL 29.59375 11.921875 \nL 46.6875 54.6875 \nL 56.203125 54.6875 \nz\n\" id=\"DejaVuSans-121\"/>\n      </defs>\n      <use xlink:href=\"#DejaVuSans-78\"/>\n      <use x=\"74.804688\" xlink:href=\"#DejaVuSans-117\"/>\n      <use x=\"138.183594\" xlink:href=\"#DejaVuSans-109\"/>\n      <use x=\"235.595703\" xlink:href=\"#DejaVuSans-112\"/>\n      <use x=\"299.072266\" xlink:href=\"#DejaVuSans-121\"/>\n     </g>\n    </g>\n    <g id=\"LineCollection_4\">\n     <path d=\"M 318.48 55.094687 \nL 318.48 45.094687 \n\" style=\"fill:none;stroke:#ff7f0e;stroke-width:1.5;\"/>\n    </g>\n    <g id=\"line2d_17\">\n     <path d=\"M 308.48 50.094687 \nL 328.48 50.094687 \n\" style=\"fill:none;stroke:#ff7f0e;stroke-linecap:square;stroke-width:1.5;\"/>\n    </g>\n    <g id=\"line2d_18\"/>\n    <g id=\"text_15\">\n     <!-- Boost -->\n     <g transform=\"translate(336.48 53.594687)scale(0.1 -0.1)\">\n      <use xlink:href=\"#DejaVuSans-66\"/>\n      <use x=\"68.603516\" xlink:href=\"#DejaVuSans-111\"/>\n      <use x=\"129.785156\" xlink:href=\"#DejaVuSans-111\"/>\n      <use x=\"190.966797\" xlink:href=\"#DejaVuSans-115\"/>\n      <use x=\"243.066406\" xlink:href=\"#DejaVuSans-116\"/>\n     </g>\n    </g>\n   </g>\n  </g>\n </g>\n <defs>\n  <clipPath id=\"p8439bd93f1\">\n   <rect height=\"217.44\" width=\"334.8\" x=\"46.506562\" y=\"22.318125\"/>\n  </clipPath>\n </defs>\n</svg>\n",
      "image/png": "[encoded data removed]"
     },
     "metadata": {
      "needs_background": "light"
     }
    }
   ],
   "source": [
    "plt.figure()\n",
    "plt.errorbar([1, 5, 10, 20], numpy_y, numpy_z, label = 'Numpy')\n",
    "plt.errorbar([1, 5, 10, 20], boost_y, boost_z, label = 'Boost')\n",
    "plt.legend()\n",
    "plt.title(\"Np vs Bh against different cores 1D binning of dldTime with 234 bins\")\n",
    "plt.savefig(\"1D_lib_comparison.png\", format=\"png\")\n",
    "# plt.show()\n"
   ]
  },
  {
   "cell_type": "code",
   "execution_count": 13,
   "metadata": {},
   "outputs": [],
   "source": [
    "def test_results(method):\n",
    "    prc.resetBins() # ensure there is no previous binning axes assigned.\n",
    "    prc.addBinning('dldTime', tof_from,tof_to,tof_step, method = method);\n",
    "    # prc.addBinning('delayStage',delay_from,delay_to,delay_step, method = method);\n",
    "    # prc.addBinning('dldPosX',dld_from,dld_to,dld_step, method = method);\n",
    "    # prc.addBinning('dldPosY',dld_from,dld_to,dld_step, method = method);\n",
    "    result = prc.computeBinnedData(method = method, usePbar=False)\n",
    "    return result"
   ]
  },
  {
   "cell_type": "code",
   "execution_count": 10,
   "metadata": {},
   "outputs": [
    {
     "output_type": "stream",
     "name": "stdout",
     "text": [
      "Failed creating metadata: 'forced to skip metadata creation'\n",
      "Failed creating metadata: 'forced to skip metadata creation'\n"
     ]
    },
    {
     "output_type": "error",
     "ename": "AssertionError",
     "evalue": "\nArrays are not equal\n\nMismatched elements: 2 / 10000 (0.02%)\nMax absolute difference: 2.\nMax relative difference: 0.\n x: array([[0., 0., 0., ..., 4., 0., 0.],\n       [0., 0., 0., ..., 4., 2., 2.],\n       [0., 0., 2., ..., 0., 0., 2.],...\n y: array([[0., 0., 0., ..., 4., 0., 0.],\n       [0., 0., 0., ..., 4., 2., 2.],\n       [0., 0., 2., ..., 0., 0., 2.],...",
     "traceback": [
      "\u001b[0;31m---------------------------------------------------------------------------\u001b[0m",
      "\u001b[0;31mAssertionError\u001b[0m                            Traceback (most recent call last)",
      "\u001b[0;32m<ipython-input-10-8466ba5ba224>\u001b[0m in \u001b[0;36m<module>\u001b[0;34m\u001b[0m\n\u001b[1;32m      1\u001b[0m \u001b[0;32mfrom\u001b[0m \u001b[0mnumpy\u001b[0m\u001b[0;34m.\u001b[0m\u001b[0mtesting\u001b[0m \u001b[0;32mimport\u001b[0m \u001b[0massert_array_equal\u001b[0m\u001b[0;34m\u001b[0m\u001b[0;34m\u001b[0m\u001b[0m\n\u001b[0;32m----> 2\u001b[0;31m \u001b[0massert_array_equal\u001b[0m\u001b[0;34m(\u001b[0m\u001b[0mtest_results\u001b[0m\u001b[0;34m(\u001b[0m\u001b[0;34m'numpy'\u001b[0m\u001b[0;34m)\u001b[0m\u001b[0;34m,\u001b[0m \u001b[0mtest_results\u001b[0m\u001b[0;34m(\u001b[0m\u001b[0;34m'boost'\u001b[0m\u001b[0;34m)\u001b[0m\u001b[0;34m)\u001b[0m\u001b[0;34m\u001b[0m\u001b[0;34m\u001b[0m\u001b[0m\n\u001b[0m",
      "    \u001b[0;31m[... skipping hidden 1 frame]\u001b[0m\n",
      "\u001b[0;32m~/.conda/envs/hextof-env/lib/python3.7/site-packages/numpy/testing/_private/utils.py\u001b[0m in \u001b[0;36massert_array_compare\u001b[0;34m(comparison, x, y, err_msg, verbose, header, precision, equal_nan, equal_inf)\u001b[0m\n\u001b[1;32m    838\u001b[0m                                 \u001b[0mverbose\u001b[0m\u001b[0;34m=\u001b[0m\u001b[0mverbose\u001b[0m\u001b[0;34m,\u001b[0m \u001b[0mheader\u001b[0m\u001b[0;34m=\u001b[0m\u001b[0mheader\u001b[0m\u001b[0;34m,\u001b[0m\u001b[0;34m\u001b[0m\u001b[0;34m\u001b[0m\u001b[0m\n\u001b[1;32m    839\u001b[0m                                 names=('x', 'y'), precision=precision)\n\u001b[0;32m--> 840\u001b[0;31m             \u001b[0;32mraise\u001b[0m \u001b[0mAssertionError\u001b[0m\u001b[0;34m(\u001b[0m\u001b[0mmsg\u001b[0m\u001b[0;34m)\u001b[0m\u001b[0;34m\u001b[0m\u001b[0;34m\u001b[0m\u001b[0m\n\u001b[0m\u001b[1;32m    841\u001b[0m     \u001b[0;32mexcept\u001b[0m \u001b[0mValueError\u001b[0m\u001b[0;34m:\u001b[0m\u001b[0;34m\u001b[0m\u001b[0;34m\u001b[0m\u001b[0m\n\u001b[1;32m    842\u001b[0m         \u001b[0;32mimport\u001b[0m \u001b[0mtraceback\u001b[0m\u001b[0;34m\u001b[0m\u001b[0;34m\u001b[0m\u001b[0m\n",
      "\u001b[0;31mAssertionError\u001b[0m: \nArrays are not equal\n\nMismatched elements: 2 / 10000 (0.02%)\nMax absolute difference: 2.\nMax relative difference: 0.\n x: array([[0., 0., 0., ..., 4., 0., 0.],\n       [0., 0., 0., ..., 4., 2., 2.],\n       [0., 0., 2., ..., 0., 0., 2.],...\n y: array([[0., 0., 0., ..., 4., 0., 0.],\n       [0., 0., 0., ..., 4., 2., 2.],\n       [0., 0., 2., ..., 0., 0., 2.],..."
     ]
    }
   ],
   "source": [
    "from numpy.testing import assert_array_equal\n",
    "# Using dldPosX and Y\n",
    "assert_array_equal(test_results('numpy'), test_results('boost'))"
   ]
  },
  {
   "cell_type": "code",
   "execution_count": 14,
   "metadata": {},
   "outputs": [
    {
     "output_type": "stream",
     "name": "stdout",
     "text": [
      "Failed creating metadata: 'forced to skip metadata creation'\n",
      "Failed creating metadata: 'forced to skip metadata creation'\n"
     ]
    },
    {
     "output_type": "error",
     "ename": "AssertionError",
     "evalue": "\nArrays are not equal\n\nMismatched elements: 1 / 729 (0.137%)\nMax absolute difference: 144.\nMax relative difference: 0.1540107\n x: array([ 528.,  530.,  505.,  516.,  500.,  475.,  506.,  536.,  532.,\n        482.,  473.,  486.,  501.,  478.,  428.,  534.,  530.,  506.,\n        493.,  564.,  537.,  417.,  519.,  510.,  456.,  561.,  488.,...\n y: array([ 528.,  530.,  505.,  516.,  500.,  475.,  506.,  536.,  532.,\n        482.,  473.,  486.,  501.,  478.,  428.,  534.,  530.,  506.,\n        493.,  564.,  537.,  417.,  519.,  510.,  456.,  561.,  488.,...",
     "traceback": [
      "\u001b[0;31m---------------------------------------------------------------------------\u001b[0m",
      "\u001b[0;31mAssertionError\u001b[0m                            Traceback (most recent call last)",
      "\u001b[0;32m<ipython-input-14-d3003d3f9863>\u001b[0m in \u001b[0;36m<module>\u001b[0;34m\u001b[0m\n\u001b[0;32m----> 1\u001b[0;31m \u001b[0massert_array_equal\u001b[0m\u001b[0;34m(\u001b[0m\u001b[0mtest_results\u001b[0m\u001b[0;34m(\u001b[0m\u001b[0;34m'numpy'\u001b[0m\u001b[0;34m)\u001b[0m\u001b[0;34m,\u001b[0m \u001b[0mtest_results\u001b[0m\u001b[0;34m(\u001b[0m\u001b[0;34m'boost'\u001b[0m\u001b[0;34m)\u001b[0m\u001b[0;34m)\u001b[0m\u001b[0;34m\u001b[0m\u001b[0;34m\u001b[0m\u001b[0m\n\u001b[0m",
      "    \u001b[0;31m[... skipping hidden 1 frame]\u001b[0m\n",
      "\u001b[0;32m~/.conda/envs/hextof-env/lib/python3.7/site-packages/numpy/testing/_private/utils.py\u001b[0m in \u001b[0;36massert_array_compare\u001b[0;34m(comparison, x, y, err_msg, verbose, header, precision, equal_nan, equal_inf)\u001b[0m\n\u001b[1;32m    838\u001b[0m                                 \u001b[0mverbose\u001b[0m\u001b[0;34m=\u001b[0m\u001b[0mverbose\u001b[0m\u001b[0;34m,\u001b[0m \u001b[0mheader\u001b[0m\u001b[0;34m=\u001b[0m\u001b[0mheader\u001b[0m\u001b[0;34m,\u001b[0m\u001b[0;34m\u001b[0m\u001b[0;34m\u001b[0m\u001b[0m\n\u001b[1;32m    839\u001b[0m                                 names=('x', 'y'), precision=precision)\n\u001b[0;32m--> 840\u001b[0;31m             \u001b[0;32mraise\u001b[0m \u001b[0mAssertionError\u001b[0m\u001b[0;34m(\u001b[0m\u001b[0mmsg\u001b[0m\u001b[0;34m)\u001b[0m\u001b[0;34m\u001b[0m\u001b[0;34m\u001b[0m\u001b[0m\n\u001b[0m\u001b[1;32m    841\u001b[0m     \u001b[0;32mexcept\u001b[0m \u001b[0mValueError\u001b[0m\u001b[0;34m:\u001b[0m\u001b[0;34m\u001b[0m\u001b[0;34m\u001b[0m\u001b[0m\n\u001b[1;32m    842\u001b[0m         \u001b[0;32mimport\u001b[0m \u001b[0mtraceback\u001b[0m\u001b[0;34m\u001b[0m\u001b[0;34m\u001b[0m\u001b[0m\n",
      "\u001b[0;31mAssertionError\u001b[0m: \nArrays are not equal\n\nMismatched elements: 1 / 729 (0.137%)\nMax absolute difference: 144.\nMax relative difference: 0.1540107\n x: array([ 528.,  530.,  505.,  516.,  500.,  475.,  506.,  536.,  532.,\n        482.,  473.,  486.,  501.,  478.,  428.,  534.,  530.,  506.,\n        493.,  564.,  537.,  417.,  519.,  510.,  456.,  561.,  488.,...\n y: array([ 528.,  530.,  505.,  516.,  500.,  475.,  506.,  536.,  532.,\n        482.,  473.,  486.,  501.,  478.,  428.,  534.,  530.,  506.,\n        493.,  564.,  537.,  417.,  519.,  510.,  456.,  561.,  488.,..."
     ]
    }
   ],
   "source": [
    "assert_array_equal(test_results('numpy'), test_results('boost'))"
   ]
  }
 ],
 "metadata": {
  "kernelspec": {
   "display_name": "Python 3",
   "language": "python",
   "name": "python3"
  },
  "language_info": {
   "codemirror_mode": {
    "name": "ipython",
    "version": 3
   },
   "file_extension": ".py",
   "mimetype": "text/x-python",
   "name": "python",
   "nbconvert_exporter": "python",
   "pygments_lexer": "ipython3",
   "version": "3.7.9-final"
  }
 },
 "nbformat": 4,
 "nbformat_minor": 4
}