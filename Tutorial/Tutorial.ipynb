{
 "cells": [
  {
   "cell_type": "markdown",
   "metadata": {},
   "source": [
    "# Tutorial"
   ]
  },
  {
   "cell_type": "markdown",
   "metadata": {},
   "source": [
    "This tutorial will get you through the basics of running the software and get you to binning your hextof data in no time!"
   ]
  },
  {
   "cell_type": "markdown",
   "metadata": {},
   "source": [
    "### Step 1: setup the software"
   ]
  },
  {
   "cell_type": "markdown",
   "metadata": {},
   "source": [
    "The following commands will compile the cython scripts and generate the settings file.\n",
    "It is recommended that the SETTINGS.ini file be updated after running this tutorial.\n",
    "The directories should be changed to the appropriate values."
   ]
  },
  {
   "cell_type": "code",
   "execution_count": 1,
   "metadata": {},
   "outputs": [
    {
     "name": "stdout",
     "output_type": "stream",
     "text": [
      "running build_ext\n",
      " -> No Settings found. Initializing new Settings file.\n",
      " -> New setting file generated.\n"
     ]
    }
   ],
   "source": [
    "%%bash\n",
    "cd ..\n",
    "python3 setup.py build_ext --inplace\n",
    "yes | python3 InitializeSettings.py"
   ]
  },
  {
   "cell_type": "markdown",
   "metadata": {},
   "source": [
    "/!\\  Please make sure you are using python3, as some of the libraries are not python2 compatible"
   ]
  },
  {
   "cell_type": "markdown",
   "metadata": {},
   "source": [
    "/!\\  The repo does not include a copy of the PAH library. A good idea would be to install it, then change the SETTINGS.ini file accordingly. By running the following command, the SETTINGS.ini file should be already be confired correctly\n"
   ]
  },
  {
   "cell_type": "code",
   "execution_count": 2,
   "metadata": {},
   "outputs": [
    {
     "name": "stdout",
     "output_type": "stream",
     "text": [
      "Process is interrupted.\n"
     ]
    }
   ],
   "source": [
    "%%bash\n",
    "cd ../..\n",
    "git clone https://stash.desy.de/scm/cs/pah.git"
   ]
  },
  {
   "cell_type": "markdown",
   "metadata": {},
   "source": [
    "### Step 2: main imports"
   ]
  },
  {
   "cell_type": "markdown",
   "metadata": {},
   "source": [
    "Most of these imports are either necessary or very important for the online analysis\n",
    "It is recommended that missing libs be installed with pip3"
   ]
  },
  {
   "cell_type": "code",
   "execution_count": 3,
   "metadata": {},
   "outputs": [],
   "source": [
    "# Imports needed for the user machine at FLASH (as we needed to install code locally as a user)\n",
    "import sys, os\n",
    "from datetime import datetime\n",
    "\n",
    "repo = os.path.dirname(os.getcwd())\n",
    "sys.path.append(repo)\n",
    "\n",
    "import math\n",
    "import pylab as pl\n",
    "import numpy as np\n",
    "import matplotlib.pyplot as plt\n",
    "%matplotlib inline\n",
    "\n",
    "from importlib import reload\n",
    "import processor.DldFlashDataframeCreator as DldFlashProcessor\n",
    "import processor.utils as utils"
   ]
  },
  {
   "cell_type": "markdown",
   "metadata": {},
   "source": [
    "The following libraries were written by Patrick Xian and they have been very useful for visualizing data on the beamline in the past. They are necessary for some parts of the tutorial (that do not exist yet)"
   ]
  },
  {
   "cell_type": "code",
   "execution_count": 4,
   "metadata": {},
   "outputs": [
    {
     "name": "stdout",
     "output_type": "stream",
     "text": [
      "Process is terminated.\n"
     ]
    }
   ],
   "source": [
    "%%bash\n",
    "pip3 install git+https://github.com/RealPolitiX/mpes.git\n",
    "pip3 install git+https://github.com/RealPolitiX/animo.git"
   ]
  },
  {
   "cell_type": "code",
   "execution_count": 5,
   "metadata": {},
   "outputs": [],
   "source": [
    "# Patrick's libs:\n",
    "import animo as a\n",
    "from mpes import visualization as vis"
   ]
  },
  {
   "cell_type": "markdown",
   "metadata": {},
   "source": [
    "### Step 3: loading data"
   ]
  },
  {
   "cell_type": "markdown",
   "metadata": {},
   "source": [
    "The tutorial folder contains some sample data that can be loaded and sliced (binned)"
   ]
  },
  {
   "cell_type": "code",
   "execution_count": 6,
   "metadata": {},
   "outputs": [
    {
     "name": "stdout",
     "output_type": "stream",
     "text": [
      "2018-07-22 20:47:29.285247\n",
      "Reading DAQ data from run 22097... Please wait...\n",
      "Run 22097 contains 7,064 Macrobunches, from 99,007,477 to 99,014,541\n",
      "Number of electrons: 6,952,657; 984 e/Mb \n",
      "Creating dataframes... Please wait...\n",
      "[########################################] | 100% Completed |  5.6s\n",
      "Electron dataframe created.\n",
      "Microbunch dataframe created.\n"
     ]
    }
   ],
   "source": [
    "runNumber = 22097\n",
    "\n",
    "print(format(datetime.now()))\n",
    "\n",
    "processor = DldFlashProcessor.DldFlashProcessor()\n",
    "processor.runNumber=runNumber\n",
    "processor.readData()\n",
    "processor.storeDataframes()"
   ]
  },
  {
   "cell_type": "markdown",
   "metadata": {},
   "source": [
    "after running this code, the data has been loaded, the dataframes have been created, and they have been saved to disk in parquet format for easy loading in RAM."
   ]
  },
  {
   "cell_type": "markdown",
   "metadata": {},
   "source": [
    "### Step 4: slicing"
   ]
  },
  {
   "cell_type": "markdown",
   "metadata": {},
   "source": [
    "The following cells defines all the necessary parameters for binning in the following cells"
   ]
  },
  {
   "cell_type": "code",
   "execution_count": 7,
   "metadata": {},
   "outputs": [],
   "source": [
    "runNumber = 22097\n",
    "\n",
    "# Time of flight parameters\n",
    "ToFfrom = 650\n",
    "ToFto = 700\n",
    "ToFstep = processor.TOF_STEP_TO_NS*10\n",
    "\n",
    "# delay parameters\n",
    "delayFrom=-517\n",
    "delayTo=-512.5\n",
    "delayStep=0.05\n",
    "\n",
    "# detector position parameters\n",
    "dldFrom=0\n",
    "dldTo=3000\n",
    "dldStep=30"
   ]
  },
  {
   "cell_type": "markdown",
   "metadata": {},
   "source": [
    "The following cell actually performs the binning after loading the pre-processed dataframes"
   ]
  },
  {
   "cell_type": "code",
   "execution_count": 8,
   "metadata": {},
   "outputs": [
    {
     "name": "stderr",
     "output_type": "stream",
     "text": [
      "100%|██████████| 3/3 [00:05<00:00,  1.86s/it]\n"
     ]
    }
   ],
   "source": [
    "processor = DldFlashProcessor.DldFlashProcessor()\n",
    "processor.runNumber = runNumber\n",
    "processor.readDataframes()\n",
    "processor.postProcess()\n",
    "\n",
    "processor.resetBins()\n",
    "ToF = processor.addBinning('dldTime', ToFfrom,ToFto,ToFstep)\n",
    "\n",
    "result = processor.computeBinnedData()"
   ]
  },
  {
   "cell_type": "markdown",
   "metadata": {},
   "source": [
    "And here are the results!"
   ]
  },
  {
   "cell_type": "code",
   "execution_count": 9,
   "metadata": {},
   "outputs": [
    {
     "data": {
      "text/plain": [
       "[<matplotlib.lines.Line2D at 0x106d6ca58>]"
      ]
     },
     "execution_count": 9,
     "metadata": {},
     "output_type": "execute_result"
    },
    {
     "data": {
      "image/png": "[encoded data removed]",
      "text/plain": [
       "<matplotlib.figure.Figure at 0x10b2671d0>"
      ]
     },
     "metadata": {},
     "output_type": "display_data"
    }
   ],
   "source": [
    "pl.plot(ToF,result,'o')"
   ]
  },
  {
   "cell_type": "code",
   "execution_count": null,
   "metadata": {},
   "outputs": [],
   "source": []
  }
 ],
 "metadata": {
  "kernelspec": {
   "display_name": "Python 3",
   "language": "python",
   "name": "python3"
  },
  "language_info": {
   "codemirror_mode": {
    "name": "ipython",
    "version": 3
   },
   "file_extension": ".py",
   "mimetype": "text/x-python",
   "name": "python",
   "nbconvert_exporter": "python",
   "pygments_lexer": "ipython3",
   "version": "3.6.5"
  }
 },
 "nbformat": 4,
 "nbformat_minor": 2
}
